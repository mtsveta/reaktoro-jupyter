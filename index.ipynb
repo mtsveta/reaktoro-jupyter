{
 "cells": [
  {
   "cell_type": "markdown",
   "metadata": {
    "collapsed": true,
    "pycharm": {
     "name": "#%% md\n"
    }
   },
   "source": [
    "<div>\n",
    "<a href=\"https://reaktoro.org\"><img src=\"https://reaktoro.org/_images/reaktoro-header.svg\"></a>\n",
    "</div>"
   ]
  },
  {
   "cell_type": "markdown",
   "source": [
    "Welcome to [Reaktoro](https://reaktoro.org) in the Jupyter Notebook!\n",
    "\n",
    "Reaktoro is a computational framework developed in C++ and Python that implements numerical methods for modeling \n",
    "chemically reactive processes governed by either chemical equilibrium, chemical kinetics, or a combination of both."
   ],
   "metadata": {
    "collapsed": false
   }
  },
  {
   "cell_type": "markdown",
   "source": [
    "## Tutorial\n",
    "\n",
    "Start with the [Overview](notebooks/overview.ipynb) notebook and jump to any of the specific \n",
    "topic sections from there."
   ],
   "metadata": {
    "collapsed": false
   }
  },
  {
   "cell_type": "markdown",
   "source": [
    "## More information\n",
    "\n",
    "Find more details and contact information at [https://reaktoro.org](https://reaktoro.org)."
   ],
   "metadata": {
    "collapsed": false,
    "pycharm": {
     "name": "#%% md\n"
    }
   }
  }
 ],
 "metadata": {
  "kernelspec": {
   "display_name": "Python 3",
   "language": "python",
   "name": "python3"
  },
  "language_info": {
   "codemirror_mode": {
    "name": "ipython",
    "version": 2
   },
   "file_extension": ".py",
   "mimetype": "text/x-python",
   "name": "python",
   "nbconvert_exporter": "python",
   "pygments_lexer": "ipython2",
   "version": "2.7.6"
  },
  "pycharm": {
   "stem_cell": {
    "cell_type": "raw",
    "source": [],
    "metadata": {
     "collapsed": false
    }
   }
  }
 },
 "nbformat": 4,
 "nbformat_minor": 0
}