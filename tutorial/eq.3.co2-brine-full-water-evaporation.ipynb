{
 "cells": [
  {
   "cell_type": "markdown",
   "metadata": {},
   "source": [
    "# Performing a chemical equilibrium calculation with full evaporation of the water"
   ]
  },
  {
   "cell_type": "markdown",
   "metadata": {},
   "source": [
    "This tutorial demonstrates how to use Reaktoro to perform a chemical equilibrium calculation when the whole mineral\n",
    "phase is evaporating as the result of reacting with brine. We start by importing the `reaktoro` package:"
   ]
  },
  {
   "cell_type": "code",
   "execution_count": null,
   "metadata": {},
   "outputs": [],
   "source": [
    "from reaktoro import *"
   ]
  },
  {
   "cell_type": "markdown",
   "metadata": {},
   "source": [
    "## Definition of chemical editor"
   ]
  },
  {
   "cell_type": "markdown",
   "metadata": {},
   "source": [
    "Define phases and corresponding to them species, which the chemical system should have.\n",
    "It is done using [ChemicalEditor](https://reaktoro.org/cpp/classReaktoro_1_1ChemicalEditor.html) object."
   ]
  },
  {
   "cell_type": "code",
   "execution_count": null,
   "metadata": {},
   "outputs": [],
   "source": [
    "editor = ChemicalEditor()\n",
    "editor.addAqueousPhase([\"H2O(l)\", \"H+\", \"OH-\", \"Na+\", \"Cl-\", \"HCO3-\", \"CO2(aq)\", \"CO3--\", \"Ca++\"]) \\\n",
    "    .setChemicalModelDebyeHuckel() \\\n",
    "    .setActivityModelDrummondCO2()\n",
    "editor.addGaseousPhase([\"CO2(g)\", \"H2O(g)\"]) \\\n",
    "    .setChemicalModelSpycherPruessEnnis()\n",
    "editor.addMineralPhase(\"Calcite\")\n",
    "editor.addMineralPhase(\"Halite\")"
   ]
  },
  {
   "cell_type": "markdown",
   "metadata": {},
   "source": [
    "Here, [AqueousPhase](https://reaktoro.org/cpp/classReaktoro_1_1AqueousPhase.html) is created by specifying the\n",
    "list of exact names of the species. These names must coincide with those used in the database that was specified\n",
    "during the initialization of the [ChemicalEditor](https://reaktoro.org/cpp/classReaktoro_1_1ChemicalEditor.html)\n",
    "object, otherwise, an exception will be thrown. In this case, the default database SUPCRT92 is used."
   ]
  },
  {
   "cell_type": "markdown",
   "metadata": {},
   "source": [
    "To initialize the chemical model of the [AqueousPhase](https://reaktoro.org/cpp/classReaktoro_1_1AqueousPhase.html)\n",
    "with the Debye-Huckel equation of state, we use the method [setChemicalModelDebyeHuckel](\n",
    "https://reaktoro.org/cpp/classReaktoro_1_1AqueousPhase.html#aa3f53d5cb5ae7adfb50e563c7a198ce6). However,\n",
    "we specify that the Drummond (1981) activity model must be used to model CO<sub>2<\\sub>(aq) using\n",
    "[setActivityModelDrummondCO2](https://reaktoro.org/cpp/classReaktoro_1_1AqueousPhase.html#a8d98d8294d81b26043e3a8d43e386c21)."
   ]
  },
  {
   "cell_type": "markdown",
   "metadata": {},
   "source": [
    "Then, [GaseousPhase](https://reaktoro.org/cpp/classReaktoro_1_1GaseousPhase.html) is composed from the names of\n",
    "the provided gaseous species H<sub>2<\\sub>O(g) and CO<sub>2<\\sub>(g). These names must conform to those\n",
    "used in the database that was specified  during the initialization of the\n",
    "[ChemicalEditor](https://reaktoro.org/cpp/classReaktoro_1_1ChemicalEditor.html) object, otherwise, an exception\n",
    "will be thrown.\n",
    "Here, method `setChemicalModelSpycherPruessEnnis()` sets Spycher et al. (2003) equation of state. This model only\n",
    "supports the gaseous species H<sub>2<\\sub>O(g) and CO<sub>2<\\sub>(g)."
   ]
  },
  {
   "cell_type": "markdown",
   "metadata": {},
   "source": [
    "The [MineralPhase](https://reaktoro.org/cpp/classReaktoro_1_1MineralPhase.html) object is created by specifying the\n",
    "names of the mineral species one by one. Analogously to the gaseous species, provided names must\n",
    "coincide with those used in the database (specified during the initialization of\n",
    "[ChemicalEditor](https://reaktoro.org/cpp/classReaktoro_1_1ChemicalEditor.html) object) ,\n",
    "otherwise, an exception will be thrown. In this case, method\n",
    "[addMineralPhase](https://reaktoro.org/cpp/classReaktoro_1_1ChemicalEditor.html#a05b263aa9d797a105feb9b83e05e1b86)\n",
    "is used to create two pure mineral phases with calcite and halite."
   ]
  },
  {
   "cell_type": "markdown",
   "metadata": {},
   "source": [
    "## Chemical and reaction system definition"
   ]
  },
  {
   "cell_type": "markdown",
   "metadata": {},
   "source": [
    "To initialize the chemical system, we use class\n",
    "[ChemicalSystem](https://reaktoro.org/cpp/classReaktoro_1_1ChemicalSystem.html), which requires the\n",
    "instance of [ChemicalEditor](https://reaktoro.org/cpp/classReaktoro_1_1ChemicalEditor.html) defined earlier."
   ]
  },
  {
   "cell_type": "code",
   "execution_count": null,
   "metadata": {},
   "outputs": [],
   "source": [
    "system = ChemicalSystem(editor)"
   ]
  },
  {
   "cell_type": "markdown",
   "metadata": {},
   "source": [
    "Class [ReactionSystem](https://reaktoro.org/cpp/classReaktoro_1_1ReactionSystem.html) serves as a system of the\n",
    "chemical reaction by a collection of [Reaction](https://reaktoro.org/cpp/classReaktoro_1_1Reaction.html) class\n",
    "instances. It provides convenient methods that calculate the equilibrium constants, reaction quotients,\n",
    "and rates of the reactions."
   ]
  },
  {
   "cell_type": "code",
   "execution_count": null,
   "metadata": {},
   "outputs": [],
   "source": [
    "reactions = ReactionSystem(editor)"
   ]
  },
  {
   "cell_type": "markdown",
   "metadata": {},
   "source": [
    "## Chemical problem definition\n",
    "\n",
    "We define an equilibrium problem providing amounts of compounds. In particular, we mix 1 kg of water with 1 mol of\n",
    "sodium-chloride and 200 kg of carbon dioxide. The amount of calcite in the system is set to 10 mol."
   ]
  },
  {
   "cell_type": "code",
   "execution_count": null,
   "metadata": {},
   "outputs": [],
   "source": [
    "problem = EquilibriumProblem(system)\n",
    "problem.add(\"H2O\", 1, \"kg\")\n",
    "problem.add(\"NaCl\", 1, \"mol\")\n",
    "problem.add(\"CaCO3\", 10, \"mol\")\n",
    "problem.add(\"CO2\", 200, \"kg\")"
   ]
  },
  {
   "cell_type": "markdown",
   "metadata": {},
   "source": [
    "To customize options for the equilibrium calculations, class\n",
    "[EquilibriumOptions](https://reaktoro.org/cpp/structReaktoro_1_1EquilibriumOptions.html) can be used.\n",
    "For instance, in [NonlinearOptions](https://reaktoro.org/cpp/structReaktoro_1_1NonlinearOptions.html), it contains\n",
    "information about the nonlinear solver used."
   ]
  },
  {
   "cell_type": "code",
   "execution_count": null,
   "metadata": {},
   "outputs": [],
   "source": [
    "options = EquilibriumOptions()\n",
    "options.optimum.output.active = True\n",
    "options.epsilon = 1e-50"
   ]
  },
  {
   "cell_type": "markdown",
   "metadata": {},
   "source": [
    "Here, we set the field of [OutputterOptions](https://reaktoro.org/cpp/structReaktoro_1_1OutputterOptions.html)\n",
    "class to be `True` to determine whether the intermediate values of equilibrium simulations must be output\n",
    "to the console.\n",
    "Then, we set the parameter $\\varepsilon$ (used for the numerical representation of a zero molar amount) to be equal to\n",
    "1e-50. The molar amount of the *i*th species is considered zero if $n[i] < \\varepsilon \\cdot \\min b$, where *b* is\n",
    "the vector of element molar amounts."
   ]
  },
  {
   "cell_type": "markdown",
   "metadata": {},
   "source": [
    "## Equilibration of chemical problem"
   ]
  },
  {
   "cell_type": "markdown",
   "metadata": {},
   "source": [
    "Finally, we use function [equilibrate](https://reaktoro.org/cpp/namespaceReaktoro.html#a908245bfa7d236d8c556241dc87f489e)\n",
    "proving not only the instance of equilibrium problem but also the specified `options`."
   ]
  },
  {
   "cell_type": "code",
   "execution_count": null,
   "metadata": {},
   "outputs": [],
   "source": [
    "state = equilibrate(problem, options)"
   ]
  },
  {
   "cell_type": "markdown",
   "metadata": {},
   "source": [
    "**Note:** Function [equilibrate](https://reaktoro.org/cpp/namespaceReaktoro.html#a908245bfa7d236d8c556241dc87f489e)\n",
    "is intended for convenience only. For performance critical applications, use class\n",
    "[EquilibriumSolver](https://reaktoro.org/cpp/classReaktoro_1_1EquilibriumSolver.html)."
   ]
  },
  {
   "cell_type": "markdown",
   "metadata": {},
   "source": [
    "In our case, run of the [equilibrate](https://reaktoro.org/cpp/namespaceReaktoro.html#a908245bfa7d236d8c556241dc87f489e)\n",
    "method generates the following error *Error: Could not calculate the equilibrium state of the system.*\n",
    "The reason for this error follows after it:\n",
    "*Reason: Convergence could not be established with given equilibrium conditions, initial guess, and(or) numerical\n",
    "parameters*. If we review the amount of species, which were output to the console, we will see that `n[H2O(l)] =\n",
    "0`. This means that all the water used in the mixing got evaporated, therefore, equilibration cannot be proceed."
   ]
  }
 ],
 "metadata": {
  "kernelspec": {
   "display_name": "Python 3",
   "language": "python",
   "name": "python3"
  }
 },
 "nbformat": 4,
 "nbformat_minor": 4
}
