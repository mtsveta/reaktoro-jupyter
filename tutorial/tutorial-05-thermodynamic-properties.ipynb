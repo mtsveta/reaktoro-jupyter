{
 "cells": [
  {
   "cell_type": "markdown",
   "metadata": {},
   "source": [
    "# Evaluating standard thermodynamic properties of substances and reactions"
   ]
  },
  {
   "cell_type": "markdown",
   "metadata": {},
   "source": [
    "This tutorial demonstrates how to use Reaktoro to evaluate the standard thermodynamic properties of substances and\n",
    "reactions."
   ]
  },
  {
   "cell_type": "markdown",
   "metadata": {},
   "source": [
    "> **Note:** If your main interest is on computing thermodynamic properties, rather than chemical equilibrium and\n",
    "kinetics modeling, you may want to check [ThermoFun](https://thermohub.org/thermofun/thermofun/), which is an\n",
    "excellent project dedicated for this task."
   ]
  },
  {
   "cell_type": "markdown",
   "metadata": {},
   "source": [
    "First, we import the `reaktoro` package:"
   ]
  },
  {
   "cell_type": "code",
   "execution_count": null,
   "metadata": {},
   "outputs": [],
   "source": [
    "from reaktoro import *"
   ]
  },
  {
   "cell_type": "markdown",
   "metadata": {},
   "source": [
    "Then we create an object of class [Database](https://reaktoro.org/cpp/classReaktoro_1_1Database.html) to have\n",
    "access to a thermodynamic database that contains the necessary data and allows us to compute thermodynamic properties\n",
    "at a given temperature and pressure condition:"
   ]
  },
  {
   "cell_type": "code",
   "execution_count": null,
   "metadata": {},
   "outputs": [],
   "source": [
    "db = Database('supcrt98.xml')"
   ]
  },
  {
   "cell_type": "markdown",
   "metadata": {},
   "source": [
    "To evaluate the thermodynamic properties, we create a\n",
    "[Thermo](https://reaktoro.org/cpp/classReaktoro_1_1Thermo.html) object:"
   ]
  },
  {
   "cell_type": "code",
   "execution_count": null,
   "metadata": {},
   "outputs": [],
   "source": [
    "thermo = Thermo(db)"
   ]
  },
  {
   "cell_type": "markdown",
   "metadata": {},
   "source": [
    "Below, we show how the standard Gibbs energy of Na<sup>+</sup> is computed at 360 K and 10 bar:"
   ]
  },
  {
   "cell_type": "code",
   "execution_count": null,
   "metadata": {},
   "outputs": [],
   "source": [
    "T = 360.0  # temperature in K\n",
    "P = 10.0e5  # pressure in Pa (equivalent to 10 bar)\n",
    "G0 = thermo.standardPartialMolarGibbsEnergy(T, P, 'Na+')\n",
    "print(f'G0(Na+) = {G0.val} J/mol')"
   ]
  },
  {
   "cell_type": "markdown",
   "metadata": {},
   "source": [
    "> **Note:** Use `G0.ddT` or `G0.ddP` to get temperature or pressure derivatives."
   ]
  },
  {
   "cell_type": "markdown",
   "metadata": {},
   "source": [
    "We can also compute the log(*K*) of a reaction at given *T* and *P* as follows:"
   ]
  },
  {
   "cell_type": "code",
   "execution_count": null,
   "metadata": {},
   "outputs": [],
   "source": [
    "logK = thermo.logEquilibriumConstant(T, P, 'Ca++ + 2*Cl- = CaCl2(aq)')\n",
    "print(f'logK(Ca++ + 2*Cl- = CaCl2(aq)) = {logK.val}')"
   ]
  },
  {
   "cell_type": "markdown",
   "metadata": {},
   "source": [
    "> **Note:** Use `logK.ddT` or `logK.ddP` to get temperature or pressure derivatives."
   ]
  },
  {
   "cell_type": "markdown",
   "metadata": {},
   "source": [
    "[Database]: https://reaktoro.org/cpp/classReaktoro_1_1Database.html\n",
    "[Thermo]: https://reaktoro.org/cpp/classReaktoro_1_1Thermo.html"
   ]
  }
 ],
 "metadata": {
  "kernelspec": {
   "display_name": "Python 3",
   "language": "python",
   "name": "python3"
  }
 },
 "nbformat": 4,
 "nbformat_minor": 4
}
