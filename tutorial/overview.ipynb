{
 "cells": [
  {
   "cell_type": "markdown",
   "metadata": {},
   "source": [
    "<div>\n",
    "<a href=\"https://reaktoro.org\"><img src=\"https://reaktoro.org/_images/reaktoro-header.svg\"></a>\n",
    "</div>"
   ]
  },
  {
   "cell_type": "markdown",
   "metadata": {},
   "source": [
    "# Tutorial\n",
    "\n",
    "Find below a list of tutorials explaining how to use Reaktoro for solving\n",
    "chemical equilibrium, chemical kinetics, and reactive transport problems.\n",
    "\n",
    "> If you need assistance, please don't hesitate to chat with us on\n",
    "[Gitter](https://gitter.im/reaktoro/community)!\n",
    "\n",
    "### Tutorials on performing chemical equilibrium calculations:\n",
    "\n",
    "* [Basics of equilibrium calculation](eq.equilibrium-basics.ipynb)\n",
    "* [Equilibrium calculation of carbonate species](eq.equilibrium-carbonates.ipynb)\n",
    "* [Equilibrium calculations using equilibrium solver](eq.co2-brine-using-equilibrium-solver.ipynb)\n",
    "* [Custom activity model for equilibrium calculations](eq.custom-activity-models.ipynb)\n",
    "* [Inverse chemical equilibrium calculation](eq.inverse-equilibrium.ipynb)\n",
    "* [Equilibrium path calculation](eq.equilibriumpath.ipynb)\n",
    "\n",
    "### Tutorials on performing chemical kinetics calculations:\n",
    "\n",
    "* [Dissolution of calcite in an acidic HCl-solution](kin.calcite-hcl.ipynb)\n",
    "* [Dissolution of carbonate minerals in a carbon dioxide saturated brine](kin.carbonates-co2.ipynb)\n",
    "\n",
    "### Tutorials on explaining the most important classes in Reaktoro:\n",
    "\n",
    "For a comprehensive documentation of all Reaktoro’s classes and methods, please check [Reaktoro’s C++ API programming reference](https://reaktoro.org/cpp/index.html).\n",
    "Below you find a more interactive documentation of a few selected classes.\n",
    "\n",
    "* [**Database**](cl.database.ipynb)\n",
    "* [**ChemicalEditor**](cl.chemical-editor.ipynb)\n",
    "* [**ChemicalSystem**](cl.chemical-system.ipynb)\n",
    "* [**EquilibriumSolver**](cl.equilibrium-solver.ipynb)\n",
    "* [**Thermo**](cl.thermo.ipynb)\n"
   ]
  }
 ],
 "metadata": {
  "kernelspec": {
   "display_name": "Python 3",
   "language": "python",
   "name": "python3"
  }
 },
 "nbformat": 4,
 "nbformat_minor": 4
}
