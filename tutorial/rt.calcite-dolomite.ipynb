{
 "cells": [
  {
   "cell_type": "markdown",
   "metadata": {},
   "source": [
    "# Reactive transport modeling along a rock core after injection of the fluid-rock composition"
   ]
  },
  {
   "cell_type": "markdown",
   "metadata": {},
   "source": [
    "In this tutorial, we show how Reaktoro can be used for sequential calculations of the reactive transport along a\n",
    "rock column after injecting the fluid and rock composition at temperature 60 &deg; C and pressure 100 bar."
   ]
  },
  {
   "cell_type": "markdown",
   "metadata": {},
   "source": [
    "Using Reaktoro in Python requires first an import of the python package **reaktoro**. From this point on,\n",
    "we can use the library components of Reaktoro (classes, methods, constants), which are needed to define our\n",
    "chemical system and chemical reaction modeling problems."
   ]
  },
  {
   "cell_type": "markdown",
   "metadata": {},
   "source": [
    "## Importing python packages"
   ]
  },
  {
   "cell_type": "markdown",
   "metadata": {},
   "source": [
    "First, we need to import a few Python packages to enable us to perform the numerical calculations and plotting."
   ]
  },
  {
   "cell_type": "code",
   "execution_count": null,
   "metadata": {},
   "outputs": [],
   "source": [
    "print('============================================================')\n",
    "print('Make sure you have the following Python packages installed: ')\n",
    "print('     numpy, matplotlib, joblib, ffmpeg')\n",
    "print('These can be installed with pip:')\n",
    "print('     pip install numpy matplotlib joblib ffmpeg')\n",
    "print('============================================================')\n",
    "from reaktoro import *\n",
    "from numpy import *\n",
    "import matplotlib.pyplot as plt\n",
    "from joblib import Parallel, delayed\n",
    "import os"
   ]
  },
  {
   "cell_type": "markdown",
   "metadata": {},
   "source": [
    "We import the **reaktoro** Python package so that we can use its classes and methods for performing chemical\n",
    "reaction calculations, **numpy** for working with arrays, **matplotlib** for plotting capabilities, **joblib** for\n",
    "simple parallel computing, **os**, to provide a portable way of using operating system dependent\n",
    "functionality. Finally, **ffmpeg** must be installed for handling video, audio, and other multimedia files and\n",
    "streams."
   ]
  },
  {
   "cell_type": "markdown",
   "metadata": {},
   "source": [
    "> **Note**: To simplify the tutorials, we use `from reaktoro import *`, which imports all components of the\n",
    "> **reaktoro** package into the default Python namespace. We note that this can potentially create name conflicts\n",
    "> when used in bigger projects. For your applications, consider using `import reaktoro as rkt` instead,\n",
    "> and call classes and methods as `rkt.Database`, `rkt.ChemicalSystem`, `rkt.equilibrate`, etc."
   ]
  },
  {
   "cell_type": "markdown",
   "metadata": {},
   "source": [
    "## Initializing auxiliary time-related constants\n",
    "In this step, we initialize auxiliary time-related constants from seconds up to years used in the rest of the code."
   ]
  },
  {
   "cell_type": "code",
   "execution_count": null,
   "metadata": {},
   "outputs": [],
   "source": [
    "second = 1\n",
    "minute = 60\n",
    "hour = 60 * minute\n",
    "day = 24 * hour\n",
    "week = 7 * day\n",
    "year = 365 * day"
   ]
  },
  {
   "cell_type": "markdown",
   "metadata": {},
   "source": [
    "## Defining parameters for the reactive transport simulation\n",
    "Next, we define reactive transport and numerical discretization parameters. In particular, we specify the considered\n",
    "rock domain by setting coordinates of its left and right boundaries to 0.0 m and 100.0 m, respectively. The\n",
    "discretization parameters, i.e., the number of cells and steps in time, are both set to 100. The reactive\n",
    "transport modeling procedure assumes a constant fluid velocity of 1 m/week (1.65 · $10^{-6}$ m/s) and\n",
    "the same diffusion coefficient of $10^{-9}$ m<sup>2</sup>/s for all fluid species (without dispersivity).\n",
    "The size of the time-step is set to 30 minutes. Temperature and pressure are set to 60 &deg; C and 100 bar,\n",
    "respectively, throughout the whole tutorial."
   ]
  },
  {
   "cell_type": "code",
   "execution_count": null,
   "metadata": {},
   "outputs": [],
   "source": [
    "xl = 0.0  # x-coordinate of the left boundary\n",
    "xr = 1.0  # x-coordinate of the right boundary\n",
    "ncells = 100  # number of cells in the discretization\n",
    "nsteps = 10  # number of steps in the reactive transport simulation\n",
    "D = 1.0e-9  # diffusion coefficient (in units of m2/s)\n",
    "v = 1.0 / week  # fluid pore velocity (in units of m/s)\n",
    "dx = (xr - xl) / ncells  # length of the mesh cells (in units of m)\n",
    "dt = 30 * minute  # time step\n",
    "T = 60.0 + 273.15  # temperature (in units of K)\n",
    "P = 100 * 1e5  # pressure (in units of Pa)"
   ]
  },
  {
   "cell_type": "markdown",
   "metadata": {},
   "source": [
    "Next, we generate the coordinates of the mesh nodes (array `x`) by equally\n",
    "dividing the interval *[xr, xl]* into `ncells`. The length between each\n",
    "consecutive mesh nodes is computed and stored in `dx` (the length of the mesh\n",
    "cells)."
   ]
  },
  {
   "cell_type": "code",
   "execution_count": null,
   "metadata": {},
   "outputs": [],
   "source": [
    "x = linspace(xl, xr, ncells + 1)  # interval [xl, xr] split into ncells"
   ]
  },
  {
   "cell_type": "markdown",
   "metadata": {},
   "source": [
    "The boolean variable `dirichlet` is set to `True` or `False` depending on which boundary condition is considered in\n",
    "the numerical calculation. Set to `False` for imposing the flux of the injected fluid, otherwise, set to\n",
    "`True` for imposing the composition of the fluid on the left boundary."
   ]
  },
  {
   "cell_type": "code",
   "execution_count": null,
   "metadata": {},
   "outputs": [],
   "source": [
    "dirichlet = False  # parameter that determines whether Dirichlet BC must be used"
   ]
  },
  {
   "cell_type": "markdown",
   "metadata": {},
   "source": [
    "Another auxiliary parameter is the number of digits in the number of steps (e.g., 100 has 3 digits). It is needed for\n",
    "generation of the names of the files, where chemical states are saved, as well as the creating of the videos"
   ]
  },
  {
   "cell_type": "code",
   "execution_count": null,
   "metadata": {},
   "outputs": [],
   "source": [
    "ndigits = len(str(nsteps))"
   ]
  },
  {
   "cell_type": "markdown",
   "metadata": {},
   "source": [
    "To make sure that the applied finite-volume scheme is stable, we need to keep track of Courant–Friedrichs–Lewy (CFL)\n",
    "number, which should be less than 1.0."
   ]
  },
  {
   "cell_type": "code",
   "execution_count": null,
   "metadata": {},
   "outputs": [],
   "source": [
    "CFL = v * dt / dx\n",
    "print(f\"Make sure that CFL = {v * dt / dx} is less that 1.0\")"
   ]
  },
  {
   "cell_type": "markdown",
   "metadata": {},
   "source": [
    "## Specifying the quantities and properties to be outputted\n",
    "Before running the reactive transport simulations, we specify the list of parameters we are interested in\n",
    "outputting. In this case, it is pH, molality of `H+`, `Ca++`, `Mg++`, `HCO3-`, `CO2(aq)`, as well as a phase volume\n",
    "of calcite and dolomite."
   ]
  },
  {
   "cell_type": "code",
   "execution_count": null,
   "metadata": {},
   "outputs": [],
   "source": [
    "output_quantities = \"\"\"\n",
    "    pH\n",
    "    speciesMolality(H+)\n",
    "    speciesMolality(Ca++)\n",
    "    speciesMolality(Mg++)\n",
    "    speciesMolality(HCO3-)\n",
    "    speciesMolality(CO2(aq))\n",
    "    phaseVolume(Calcite)\n",
    "    phaseVolume(Dolomite)\n",
    "\"\"\".split()"
   ]
  },
  {
   "cell_type": "markdown",
   "metadata": {},
   "source": [
    "## Organization of the main function\n",
    "The main function (at the bottom of this tutorial) consists of three parts, each represented by a Python function and\n",
    "documented in the following sections:\n",
    "* creation of folders for the results (function `make_results_folders()`),\n",
    "* simulation of reactive transport problem (method `simulate()`), and\n",
    "* plotting of the obtained results (function `plotting()`)."
   ]
  },
  {
   "cell_type": "markdown",
   "metadata": {},
   "source": [
    "## Creating folders for the outputted results\n",
    "\n",
    "Using **os** package, we create required folders for outputting the obtained results and for the plot and video\n",
    "files later."
   ]
  },
  {
   "cell_type": "code",
   "execution_count": null,
   "metadata": {},
   "outputs": [],
   "source": [
    "def make_results_folders():\n",
    "    os.system('mkdir -p results')\n",
    "    os.system('mkdir -p figures/ph')\n",
    "    os.system('mkdir -p figures/aqueous-species')\n",
    "    os.system('mkdir -p figures/calcite-dolomite')\n",
    "    os.system('mkdir -p videos')"
   ]
  },
  {
   "cell_type": "markdown",
   "metadata": {},
   "source": [
    "## Performing the reactive transport simulation\n",
    "\n",
    "The reactive transport simulation is performed in the function `simulate`, which consists from the several building\n",
    "blocks (functions):\n",
    "* initialization of the reactive transport problem and\n",
    "* performing the reactive transport simulation along defined time interval.\n",
    "\n",
    "The preparatory initialization step consists of the following sub-steps:\n",
    "* definition of chemical system with its phases and species using `define_chemical_system()`,\n",
    "* definition of the initial condition of the reactive transport problem in `define_initial_condition()`,\n",
    "* definition of the boundary condition of the reactive transport problem in `define_initial_condition()`,\n",
    "* generation of auxiliary indices to partition elements using `partition_indices()` and elements' partitioning \n",
    "corresponding to fluid and solid species with function `partition_elements_in_mesh_cell()`, and finally\n",
    "* definition of instance of [EquilibriumSolver](https://reaktoro.org/cpp/classReaktoro_1_1EquilibriumSolver.html).\n",
    "\n",
    "The simulation of the reactive transport problem is represented by the loop over discretized time interval until\n",
    "the final time is reached. On each step of this loop, the following functionality of performed:\n",
    "* transport calculations using method `transport()`,\n",
    "* reactive chemical calculations with `reactive_chemistry()` function, and\n",
    "* saving the obtained results by means of `outputstate()`."
   ]
  },
  {
   "cell_type": "markdown",
   "metadata": {},
   "source": [
    "Performing of the transport and reactive chemistry sequentially is possible due to the *operator splitting\n",
    "procedure*, in which we first update the amounts of elements `b`. These updated amounts of\n",
    "elements in the cell are used to evaluate its new chemical equilibrium state, thus producing new amounts of the\n",
    "species in both the fluid and solid phases (available in the list `states` of\n",
    "[ChemicalState](https://reaktoro.org/cpp/classReaktoro_1_1ChemicalState.html) objects). This chemical reaction\n",
    "equilibrium calculation step, at each mesh cell, permits, for example, aqueous species and minerals to react,\n",
    "and thus causes mineral dissolution or precipitation, depending on how much the amount of mineral species changes.\n",
    "This can then be used, for example, to compute new porosity value for the cell."
   ]
  },
  {
   "cell_type": "code",
   "execution_count": null,
   "metadata": {},
   "outputs": [],
   "source": [
    "def simulate():\n",
    "    # Construct the chemical system with its phases and species\n",
    "    system = define_chemical_system()\n",
    "\n",
    "    # Define the initial condition of the reactive transport modeling problem\n",
    "    state_ic = define_initial_condition(system)\n",
    "\n",
    "    # Define the boundary condition of the reactive transport modeling problem\n",
    "    state_bc = define_boundary_condition(system)\n",
    "\n",
    "    # Generate indices of partitioning fluid and solid species\n",
    "    nelems, ifluid_species, isolid_species = partition_indices(system)\n",
    "\n",
    "    # Partitioning fluid and solid species\n",
    "    b, bfluid, bsolid, b_bc = partition_elements_in_mesh_cell(ncells, nelems, state_ic, state_bc)\n",
    "\n",
    "    # Create a list of chemical states for the mesh cells (one for each cell, initialized to state_ic)\n",
    "    states = [state_ic.clone() for _ in range(ncells)]\n",
    "\n",
    "    # Create the equilibrium solver object for the repeated equilibrium calculation\n",
    "    solver = EquilibriumSolver(system)\n",
    "\n",
    "    # Running the reactive transport simulation loop\n",
    "    step = 0  # the current step number\n",
    "    t = 0.0  # the current time (in seconds)\n",
    "\n",
    "    while step <= nsteps:\n",
    "        # Print the progress of the simulation\n",
    "        print(\"Progress: {}/{} steps, {} min\".format(step, nsteps, t / minute))\n",
    "\n",
    "        # Perform transport calculations\n",
    "        bfluid, bsolid, b = transport(states, bfluid, bsolid, b, b_bc, nelems, ifluid_species, isolid_species)\n",
    "\n",
    "        # Perform reactive chemical calculations\n",
    "        states = reactive_chemistry(solver, states, b)\n",
    "\n",
    "        # Output the current state of the reactive transport calculation\n",
    "        outputstate(step, system, states)\n",
    "\n",
    "        # Increment time step and number of time steps\n",
    "        t += dt\n",
    "        step += 1\n",
    "\n",
    "    print(\"Finished!\")"
   ]
  },
  {
   "cell_type": "markdown",
   "metadata": {},
   "source": [
    "Subsections below correspond to the methods responsible for each of the functional parts of `simulate()` method."
   ]
  },
  {
   "cell_type": "markdown",
   "metadata": {},
   "source": [
    "### Construction of the chemical system with its phases and species\n",
    "\n",
    "Reaktoro is a general-purpose chemical solver that avoids as much as possible presuming specific assumptions about\n",
    "your problems. Thus, you need to specify how your chemical system should be defined. This encompasses the\n",
    "specification of all phases in the system as well as the chemical species that compose each phase. By using the\n",
    "[ChemicalEditor](https://reaktoro.org/cpp/classReaktoro_1_1ChemicalEditor.html) class, you can conveniently achieve\n",
    "this as shown below in method `define_chemical_system()`."
   ]
  },
  {
   "cell_type": "markdown",
   "metadata": {},
   "source": [
    "In this step, we create an object of class [ChemicalEditor](\n",
    "https://reaktoro.org/cpp/classReaktoro_1_1ChemicalEditor.html) and specify two phases, an *aqueous* and a\n",
    "*mineral*, should be considered in the chemical system. The aqueous phase is defined by using a list of\n",
    "compounds, which will be broken into a list of element names, and the database will then be searched for all\n",
    "species that could be formed out of those elements. The mineral phase is defined as three mineral species:\n",
    "quartz (SiO<sub>2</sub>), calcite (CaCO<sub>3</sub>), and dolomite (CaMg(CO<sub>3</sub>)<sub>2</sub>).\n",
    "\n",
    "> **Note**: An automatic search for chemical species can result in a large number of species in the phase,\n",
    "> potentially causing the chemical reaction calculations to be more computationally expensive. If you are using\n",
    "> Reaktoro in demanding applications (e.g., as a chemical solver in a reactive transport simulator), you might want\n",
    "> to manually specify the chemical species of each phase in your chemical system. This can be achieved by providing a\n",
    "> list of species names as `editor.addAqueousPhaseWithElements(['H2O(l)', 'H+', 'OH-', 'Na+', 'Cl-', 'Ca++', 'Mg++',\n",
    "> 'HCO3-', 'CO2(aq)', 'CO3--' ])."
   ]
  },
  {
   "cell_type": "markdown",
   "metadata": {},
   "source": [
    "Finally, we create an object of class [ChemicalSystem](https://reaktoro.org/cpp/classReaktoro_1_1ChemicalSystem.html)\n",
    "using the chemical system definition details stored in the object `editor`.\n",
    "\n",
    "> **Note**: [ChemicalSystem](https://reaktoro.org/cpp/classReaktoro_1_1ChemicalSystem.html) is perhaps the main class\n",
    "> in Reaktoro. An object of this class stores the phases, species, and elements in our defined chemical system,\n",
    "> as well as provides the means to compute many types of thermodynamic properties, such as *standard thermodynamic\n",
    "> properties* (e.g., standard Gibbs energies, standard enthalpies, and standard volumes of species),\n",
    "> and *thermo-chemical properties* (e.g., activity and activity coefficients of species; density, enthalpy and\n",
    "> internal energy of phases). As you learn more about other Reaktoro's classes, you will note that an object of class\n",
    "> [ChemicalSystem](https://reaktoro.org/cpp/classReaktoro_1_1ChemicalSystem.html) is almost always needed for their\n",
    "> initialization.\n",
    "\n",
    "The *activity coefficients* of the aqueous species in this tutorial are calculated using the\n",
    "*Pitzer model* (unlike the default *HKF extended  Debye-Huckel model*) for solvent water and ionic species,\n",
    "except for the aqueous species CO<sub>2</sub>(aq), for which the *Drummond model* is used.\n",
    "The *standard chemical potentials* of the species are calculated using the equations of state of Helgeson and\n",
    "Kirkham (1974), Helgeson et al. (1974), Tanger and Helgeson (1988), Shock and Helgeson (1988), and Shock et al. (\n",
    "1992). The database file [slop98.dat](https://github.com/reaktoro/reaktoro/blob/master/databases/supcrt/slop98.dat)\n",
    "from the software SUPCRT92 is used to obtain the parameters for the equations of state.\n",
    "The equation of state of Wagner and Pruss (2002) is used to calculate the *density of water* and its temperature and\n",
    "pressure derivatives. Kinetics of *dissolution* and *precipitation* of both calcite and dolomite is neglected, i.e.,\n",
    "the local equilibrium assumption is employed."
   ]
  },
  {
   "cell_type": "code",
   "execution_count": null,
   "metadata": {},
   "outputs": [],
   "source": [
    "def define_chemical_system():\n",
    "    # Construct the chemical system with its phases and species\n",
    "    db = Database('supcrt98.xml')\n",
    "\n",
    "    editor = ChemicalEditor(db)\n",
    "\n",
    "    editor.addAqueousPhaseWithElements('H O Na Cl Ca Mg C Si Ca') \\\n",
    "        .setChemicalModelPitzerHMW() \\\n",
    "        .setActivityModelDrummondCO2()\n",
    "    editor.addMineralPhase('Quartz')\n",
    "    editor.addMineralPhase('Calcite')\n",
    "    editor.addMineralPhase('Dolomite')\n",
    "\n",
    "    system = ChemicalSystem(editor)\n",
    "\n",
    "    return system"
   ]
  },
  {
   "cell_type": "markdown",
   "metadata": {},
   "source": [
    "### Initial condition (IC) of the reactive transport problem\n",
    "\n",
    "We have now defined and constructed our chemical system of interest, enabling us to move on to the next step in\n",
    "Reaktoro's modeling workflow: *defining our chemical reaction problems*. Below we define its **initial condition**\n",
    "with already prescribed equilibrium conditions for *temperature*, *pressure*, and *amounts of elements* that are\n",
    "consistent to model reactive transport of injected NaCl-MgCl<sub>2</sub>-CaCl<sub>2</sub> brine into the\n",
    "rock-fluid composition of quartz and calcite at 60 &deg;C and 100 bar. In particular, we consider resident fluid is a\n",
    "0.7 molal NaCl brine in equilibrium with the rock minerals with a calculated pH of 10.0.\n"
   ]
  },
  {
   "cell_type": "code",
   "execution_count": null,
   "metadata": {
    "lines_to_next_cell": 1
   },
   "outputs": [],
   "source": [
    "def define_initial_condition(system):\n",
    "    problem_ic = EquilibriumProblem(system)\n",
    "    problem_ic.setTemperature(T)\n",
    "    problem_ic.setPressure(P)\n",
    "    problem_ic.add('H2O', 1.0, 'kg')\n",
    "    problem_ic.add('NaCl', 0.7, 'mol')\n",
    "    problem_ic.add('CaCO3', 10, 'mol')\n",
    "    problem_ic.add('SiO2', 10, 'mol')\n",
    "\n",
    "    # Calculate the equilibrium states for the initial conditions\n",
    "    state_ic = equilibrate(problem_ic)\n",
    "\n",
    "    # Scale the volumes of the phases in the initial condition\n",
    "    state_ic.scalePhaseVolume('Aqueous', 0.1, 'm3')\n",
    "    state_ic.scalePhaseVolume('Quartz', 0.882, 'm3')\n",
    "    state_ic.scalePhaseVolume('Calcite', 0.018, 'm3')\n",
    "\n",
    "    return state_ic"
   ]
  },
  {
   "cell_type": "markdown",
   "metadata": {},
   "source": [
    "> **Note**: Our **0.7 molal NaCl brine** is here represented by the mixture of 1 kg of H<sub>2</sub>O and 0.7 mol of\n",
    "> NaCl.\n",
    "\n",
    "> **Note**: After providing the amounts of substances H<sub>2</sub>O, NaCl, quartz SiO<sub>2</sub>,\n",
    "> and calcite CaCO<sub>3</sub> in the above code, Reaktoro parses these chemical formulas and determines the\n",
    "> elements and their coefficients. Once this is done, the amount of each element stored inside the object\n",
    "> `problem_ic` is incremented according to the given amount of substance and its coefficient in the formula. The\n",
    "> amounts of elements you provide are then used as constraints for the Gibbs energy minimization calculation when\n",
    "> computing the state of chemical equilibrium (i.e., when we try to find the amounts of all species in the system\n",
    "> that corresponds to a state of minimum Gibbs energy and at the same time satisfying the *element amounts\n",
    "> constraints*).\n",
    "\n",
    "> **Note**: Please note that we are not condemning the input form shown above in terms of element amounts,\n",
    "but only telling you to be attentive with the values you input. If you are using Reaktoro as a chemical reaction\n",
    "solver in a reactive transport simulator, for example, you'll most likely need to work directly with given amounts\n",
    "of elements, which shows that this input form is required in certain cases. For such time-dependent modeling\n",
    "problems, you often only need to ensure that the initial conditions for elements amounts result in feasible initial\n",
    "species amounts.\n",
    "\n",
    "Next, we use method [equilibrate](https://reaktoro.org/cpp/namespaceReaktoro.html#af2d3b39d3e0b8f9cb5a4d9bbb06b697e)\n",
    "to calculate the chemical equilibrium state of the system with the given initial conditions stored in the objects\n",
    "`problem_ic`. The numerical solution of each problem results in the objects `state_ic` of class\n",
    "[ChemicalState](https://reaktoro.org/cpp/classReaktoro_1_1ChemicalState.html), which stores the temperature,\n",
    "pressure, and the amounts of every species in the system.\n",
    "For this calculation, Reaktoro uses an efficient **Gibbs energy minimization** computation to determine the species\n",
    "amounts that correspond to a state of minimum Gibbs energy in the system, while satisfying the prescribed amount\n",
    "conditions for temperature, pressure, and element amounts."
   ]
  },
  {
   "cell_type": "markdown",
   "metadata": {},
   "source": [
    "The function ends with scaling the volumes of the aqueous and mineral phases so that they are consistent with a 10 %\n",
    "porosity and the required volume percentages of the rock minerals (98 %<sub>vol</sub> of quartz and 2 %<sub>vol</sub>\n",
    "of calcite)."
   ]
  },
  {
   "cell_type": "markdown",
   "metadata": {},
   "source": [
    "### Boundary condition (BC) of the reactive transport problem\n",
    "\n",
    "Next, we define the **boundary condition** of the constructed chemical system with its *temperature*, *pressure*,\n",
    "and *amounts of elements*. In particular, we prescribe the amount of injected aqueous fluid resulting from\n",
    "the mixture of 1 kg of water with 0.90 moles of NaCl, 0.05 molal MgCl<sub>2</sub>, 0.01 CaCl<sub>2</sub>,\n",
    "and 0.75 molal CO<sub>2</sub>, in a state very close to CO<sub>2</sub> saturation.\n",
    "The temperature and the pressure stays the same, i.e., 60 &deg; C and 100 bar, respectively.\n",
    "\n",
    "After equilibration, the obtained chemical state representing the boundary condition for the injected fluid\n",
    "composition, we scale its volume to 1 m<sup>3</sup>. This is done so that the amounts of the species in the fluid are\n",
    "consistent with a \\mathrm{mol/m^3} scale."
   ]
  },
  {
   "cell_type": "code",
   "execution_count": null,
   "metadata": {},
   "outputs": [],
   "source": [
    "def define_boundary_condition(system):\n",
    "    # Define the boundary condition of the reactive transport modeling problem\n",
    "    problem_bc = EquilibriumProblem(system)\n",
    "    problem_bc.setTemperature(T)\n",
    "    problem_bc.setPressure(P)\n",
    "    problem_bc.add('H2O', 1.0, 'kg')\n",
    "    problem_bc.add('NaCl', 0.90, 'mol')\n",
    "    problem_bc.add('MgCl2', 0.05, 'mol')\n",
    "    problem_bc.add('CaCl2', 0.01, 'mol')\n",
    "    problem_bc.add('CO2', 0.75, 'mol')\n",
    "\n",
    "    # Calculate the equilibrium states for the boundary conditions\n",
    "    state_bc = equilibrate(problem_bc)\n",
    "    # Scale the boundary condition state to 1 m3\n",
    "    state_bc.scaleVolume(1.0, 'm3')\n",
    "\n",
    "    return state_bc"
   ]
  },
  {
   "cell_type": "markdown",
   "metadata": {},
   "source": [
    "### Indices of partitioning fluid and solid species\n",
    "\n",
    "Only species in fluid phases are mobile and transported by advection and diffusion mechanisms. The solid phases are\n",
    "immobile. The code below identifies the indices of the fluid and solid species. We use methods\n",
    "[indicesFluidSpecies](https://reaktoro.org/cpp/classReaktoro_1_1ChemicalSystem.html#ac2a8b713f46f7a66b2731ba63faa95ad)\n",
    "and [indicesSolidSpecies](https://reaktoro.org/cpp/classReaktoro_1_1ChemicalSystem.html#a8b0c237fff1d827f7bf2dbc911fa5bbf)\n",
    "of class [ChemicalSystem](https://reaktoro.org/cpp/classReaktoro_1_1ChemicalSystem.html) to get the indices of the\n",
    "fluid and solid species, which are stored in the lists `ifluid_species` and `isolid_species`, respectively."
   ]
  },
  {
   "cell_type": "code",
   "execution_count": null,
   "metadata": {},
   "outputs": [],
   "source": [
    "def partition_indices(system):\n",
    "    nelems = system.numElements()\n",
    "\n",
    "    ifluid_species = system.indicesFluidSpecies()\n",
    "    isolid_species = system.indicesSolidSpecies()\n",
    "\n",
    "    return nelems, ifluid_species, isolid_species"
   ]
  },
  {
   "cell_type": "markdown",
   "metadata": {},
   "source": [
    "### Partitioning fluid and solid species\n",
    "\n",
    "In this function, we create arrays to keep track of the amounts of elements in the fluid and solid partition\n",
    "(i.e., the amounts of elements among all fluid phases, here only an aqueous phase, and the amounts of elements among\n",
    "all solid phases, here the mineral phases). For that, we define the arrays `b`, `bfluid`, `bsolid`, that\n",
    "will store, respectively, the concentrations (mol/m<sup>3</sup>) of each element in the system, in the fluid\n",
    "partition, and in the solid partition at every time step.\n",
    "\n",
    "The array `b` is initialized with the concentrations of the elements at the initial chemical state, `state_ic`,\n",
    "using method [elementAmounts](https://reaktoro.org/cpp/classReaktoro_1_1ChemicalState.html#a827457e68a90f89920c13f0cc06fda78)\n",
    "of class [ChemicalState](https://reaktoro.org/cpp/classReaktoro_1_1ChemicalState.html). The array `b_bc` stores\n",
    "the concentrations of each element on the boundary in mol/m<sup>3</sup><sub>fluid</sub>."
   ]
  },
  {
   "cell_type": "code",
   "execution_count": null,
   "metadata": {},
   "outputs": [],
   "source": [
    "def partition_elements_in_mesh_cell(ncells, nelems, state_ic, state_bc):\n",
    "    # The concentrations of each element in each mesh cell (in the current time step)\n",
    "    b = zeros((ncells, nelems))\n",
    "    # Initialize the concentrations (mol/m3) of the elements in each mesh cell\n",
    "    b[:] = state_ic.elementAmounts()\n",
    "\n",
    "    # The concentrations (mol/m3) of each element in the fluid partition, in each mesh cell\n",
    "    bfluid = zeros((ncells, nelems))\n",
    "\n",
    "    # The concentrations (mol/m3) of each element in the solid partition, in each mesh cell\n",
    "    bsolid = zeros((ncells, nelems))\n",
    "\n",
    "    # Initialize the concentrations (mol/m3) of each element on the boundary\n",
    "    b_bc = state_bc.elementAmounts()\n",
    "\n",
    "    return b, bfluid, bsolid, b_bc"
   ]
  },
  {
   "cell_type": "markdown",
   "metadata": {},
   "source": [
    "### Reactive transport cycle\n",
    "\n",
    "#### Transport\n",
    "\n",
    "This step updates in the fluid partition `bfluid` using the transport equations (without reactions).\n",
    "The `transport_fullimplicit()` function below is responsible for solving an advection-diffusion equation, that is\n",
    "later applied to transport the concentrations (mol/m<sup>3</sup>) of elements in the fluid partition (*a\n",
    "simplification that is possible because of common diffusion coefficients and velocities of the fluid species,\n",
    "otherwise the transport of individual fluid species would be needed*).\n",
    "\n",
    "To match the units of concentrations of the elements in the fluid measure in mol/m<sup>3</sup><sub>bulk</sub> and the\n",
    "imposed concentration `b_bc[j]` mol/m<sup>3</sup><sub>fluid</sub>, e need to multiply it by the porosity `phi_bc` on the\n",
    "boundary cell m<sup>3</sup><sub>fluid</sub>/m<sup>3</sup><sub>bulk</sub>. We use function\n",
    "[properties](https://reaktoro.org/cpp/classReaktoro_1_1ChemicalState.html#ad3fa8fd9e1b948da7a698eb020513f3d)\n",
    "of the class [ChemicalState](https://reaktoro.org/cpp/classReaktoro_1_1ChemicalState.html) to retrieve fluid volume\n",
    "m<sup>3</sup><sub>fluid</sub> and total volume m<sup>3</sup><sub>bulk</sub> in the inflow boundary cell.\n",
    "\n",
    "The updated amounts of elements in the fluid partition are then summed with the amounts of elements in the solid partition\n",
    "`bsolid`, which remained constant during the transport step), and thus updating the amounts of elements in the\n",
    "chemical system `b`. Reactive transport calculations involve the solution of a system of\n",
    "advection-diffusion-reaction equations."
   ]
  },
  {
   "cell_type": "code",
   "execution_count": null,
   "metadata": {},
   "outputs": [],
   "source": [
    "def transport(states, bfluid, bsolid, b, b_bc, nelems, ifluid_species, isolid_species):\n",
    "    # Collect the amounts of elements from fluid and solid partitions\n",
    "    for icell in range(ncells):\n",
    "        bfluid[icell] = states[icell].elementAmountsInSpecies(ifluid_species)\n",
    "        bsolid[icell] = states[icell].elementAmountsInSpecies(isolid_species)\n",
    "\n",
    "    # Get the porosity of the boundary cell\n",
    "    bc_cell = 0\n",
    "    phi_bc = states[bc_cell].properties().fluidVolume().val / states[bc_cell].properties().volume().val\n",
    "\n",
    "    # Transport each element in the fluid phase\n",
    "    for j in range(nelems):\n",
    "        transport_fullimplicit(bfluid[:, j], dt, dx, v, D, phi_bc * b_bc[j])\n",
    "\n",
    "    # Update the amounts of elements in both fluid and solid partitions\n",
    "    b[:] = bsolid + bfluid\n",
    "\n",
    "    return bfluid, bsolid, b"
   ]
  },
  {
   "cell_type": "markdown",
   "metadata": {},
   "source": [
    "##### Transport calculation with finite-volume scheme"
   ]
  },
  {
   "cell_type": "markdown",
   "metadata": {},
   "source": [
    "The function `transport()` expects a conservative property (argument `u`) (e.g., the concentration mol/m<sup>3</sup>\n",
    "of *j*th element in the fluid given by `bfluid[j]`), the time step (`dt`), the mesh cell length (`dx`),\n",
    "the fluid velocity (`v`), the diffusion coefficient (`D`), and the boundary condition of the conservative property\n",
    "(`g`) (e.g., the concentration of the *j*th element in the fluid on the left boundary).\n",
    "\n",
    "The transport equations are solved with a finite volume method, where diffusion and convection are treated implicitly.\n",
    "Its discretization in space and time (implicit) results in the constants `alpha` and `beta`. These correspond to\n",
    "the diffusion and advection terms in the equation: `D*dt/dx**2` and `v*dt/dx`, respectively."
   ]
  },
  {
   "cell_type": "markdown",
   "metadata": {},
   "source": [
    "Arrays `a`, `b`, `c` are the diagonals in the tridiagonal matrix that results by writing all discretized equations\n",
    "in a matrix equation. This system of linear equations is solved by the tridiagonal matrix algorithm, also known\n",
    "as the Thomas algorithm."
   ]
  },
  {
   "cell_type": "code",
   "execution_count": null,
   "metadata": {},
   "outputs": [],
   "source": [
    "def transport_fullimplicit(u, dt, dx, v, D, ul):\n",
    "    # Number of DOFs\n",
    "    n = len(u)\n",
    "    alpha = D * dt / dx ** 2\n",
    "    beta = v * dt / dx\n",
    "\n",
    "    # Upwind finite volume scheme\n",
    "    a = full(n, -beta - alpha)\n",
    "    b = full(n, 1 + beta + 2 * alpha)\n",
    "    c = full(n, -alpha)\n",
    "\n",
    "    # Set the boundary condition on the left cell\n",
    "    if dirichlet:\n",
    "        # Use Dirichlet BC boundary conditions\n",
    "        b[0] = 1.0\n",
    "        c[0] = 0.0\n",
    "        u[0] = ul\n",
    "\n",
    "    else:\n",
    "        # Flux boundary conditions (implicit scheme for the advection)\n",
    "        # Left boundary\n",
    "        b[0] = 1 + alpha + beta\n",
    "        c[0] = -alpha  # stays the same as it is defined -alpha\n",
    "        u[0] += beta * ul  # = dt/dx * v * g, flux that we prescribe is equal v * ul\n",
    "\n",
    "    # Right boundary is free\n",
    "    a[-1] = - beta\n",
    "    b[-1] = 1 + beta\n",
    "\n",
    "    # Solve a tridiagonal matrix equation\n",
    "    thomas(a, b, c, u)"
   ]
  },
  {
   "cell_type": "markdown",
   "metadata": {},
   "source": [
    "##### Solving the system of equations obtained from finite volume discretization"
   ]
  },
  {
   "cell_type": "markdown",
   "metadata": {},
   "source": [
    "The tridiagonal matrix equation is solved using the Thomas algorithm (or the TriDiagonal Matrix Algorithm (TDMA)).\n",
    "It is a simplified form of Gaussian elimination that can be used to solve tridiagonal systems of equations."
   ]
  },
  {
   "cell_type": "code",
   "execution_count": null,
   "metadata": {},
   "outputs": [],
   "source": [
    "def thomas(a, b, c, d):\n",
    "    n = len(d)\n",
    "    c[0] /= b[0]\n",
    "    for i in range(1, n - 1):\n",
    "        c[i] /= b[i] - a[i] * c[i - 1]\n",
    "    d[0] /= b[0]\n",
    "    for i in range(1, n):\n",
    "        d[i] = (d[i] - a[i] * d[i - 1]) / (b[i] - a[i] * c[i - 1])\n",
    "    x = d\n",
    "    for i in reversed(range(0, n - 1)):\n",
    "        x[i] -= c[i] * x[i + 1]\n",
    "    return x"
   ]
  },
  {
   "cell_type": "markdown",
   "metadata": {},
   "source": [
    "#### Reactive chemistry\n",
    "\n",
    "The chemical equilibrium calculations performed in each mesh cell, using *Gibbs energy minimisation* algorithm (\n",
    "provided by the class [EquilibriumSolver](https://reaktoro.org/cpp/classReaktoro_1_1EquilibriumSolver.html))."
   ]
  },
  {
   "cell_type": "code",
   "execution_count": null,
   "metadata": {},
   "outputs": [],
   "source": [
    "def reactive_chemistry(solver, states, b):\n",
    "    # Equilibrating all cells with the updated element amounts\n",
    "    for icell in range(ncells):\n",
    "        solver.solve(states[icell], T, P, b[icell])\n",
    "    return states"
   ]
  },
  {
   "cell_type": "markdown",
   "metadata": {},
   "source": [
    "### Results saving and analyzing"
   ]
  },
  {
   "cell_type": "markdown",
   "metadata": {},
   "source": [
    "Function `outputstate` is the auxiliary function to create an output file each time step."
   ]
  },
  {
   "cell_type": "code",
   "execution_count": null,
   "metadata": {},
   "outputs": [],
   "source": [
    "def outputstate(step, system, states):\n",
    "    # Create the instance of ChemicalOutput class\n",
    "    output = ChemicalOutput(system)\n",
    "\n",
    "    # Provide the output file name, which will correspond\n",
    "    output.filename('results/{}.txt'.format(str(step).zfill(ndigits)))\n",
    "\n",
    "    # We define the columns' tags filled with the name of the quantities\n",
    "    # The first column has a tag 'x' (which corresponds to the center coordinates of the cells )\n",
    "    output.add('tag', 'x')  # The value of the center coordinates of the cells\n",
    "\n",
    "    # The rest of the columns correspond to the requested properties\n",
    "    for quantity in output_quantities:\n",
    "        output.add(quantity)\n",
    "\n",
    "    # We update the file with states that correspond to the cells' coordinates stored in x\n",
    "    output.open()\n",
    "    for state, tag in zip(states, x):\n",
    "        output.update(state, tag)\n",
    "    output.close()"
   ]
  },
  {
   "cell_type": "markdown",
   "metadata": {},
   "source": [
    "## Plotting of the obtained results\n",
    "\n",
    "The last block of the main routine is dedicated to the plotting of the results and generating a video from the\n",
    "plots that illustrates the time-dependent behavior of chemical properties."
   ]
  },
  {
   "cell_type": "code",
   "execution_count": null,
   "metadata": {},
   "outputs": [],
   "source": [
    "def plot():\n",
    "    # Plot all result files\n",
    "    files = sorted(os.listdir('results'))\n",
    "    Parallel(n_jobs=16)(delayed(plotfile)(file) for file in files)\n",
    "\n",
    "    # Create videos for the figures\n",
    "    ffmpegstr = 'ffmpeg -y -r 30 -i figures/{0}/%0' + str(\n",
    "        ndigits) + 'd.png -codec:v mpeg4 -flags:v +qscale -global_quality:v 0 videos/{0}.mp4'\n",
    "    os.system(ffmpegstr.format('calcite-dolomite'))\n",
    "    os.system(ffmpegstr.format('aqueous-species'))\n",
    "    os.system(ffmpegstr.format('ph'))"
   ]
  },
  {
   "cell_type": "code",
   "execution_count": null,
   "metadata": {},
   "outputs": [],
   "source": [
    "# Generate figures for a result file\n",
    "def plotfile(file):\n",
    "    # Fetch the step number from name of the file\n",
    "    step = int(file.split('.')[0])\n",
    "    # Calculate corresponding to this step time moment\n",
    "    t = step * dt\n",
    "\n",
    "    # Auxiliary function that return a string for the title of a figure in the format Time: #h##m\n",
    "    def titlestr(t):\n",
    "        t = t / minute  # Convert from seconds to minutes\n",
    "        h = int(t) / 60  # The number of hours\n",
    "        m = int(t) % 60  # The number of remaining minutes\n",
    "        return 'Time: %2dh %2dm' % (h, m)\n",
    "\n",
    "    print('Plotting figure', step, '...')\n",
    "\n",
    "    # Loading data from he analyzed file\n",
    "    filearray = loadtxt('results/' + file, skiprows=1)\n",
    "    data = filearray.T\n",
    "\n",
    "    # Plotting ph w.r.t. rock length\n",
    "    plt.figure()\n",
    "    plt.xlim(left=xl - 0.02, right=xr + 0.02)\n",
    "    plt.ylim(bottom=2 - 0.1, top=9.0)\n",
    "    plt.title(titlestr(t))\n",
    "    plt.xlabel('Distance [m]')\n",
    "    plt.ylabel('pH')\n",
    "    plt.plot(data[0], data[1])\n",
    "    plt.tight_layout()\n",
    "    plt.savefig('figures/ph/{}.png'.format(str(step).zfill(ndigits)))\n",
    "\n",
    "    # Plotting phase volumes of calcite and dolomite w.r.t. rock length\n",
    "    plt.figure()\n",
    "    plt.xlim(left=xl - 0.02, right=xr + 0.02)\n",
    "    plt.ylim(bottom=-0.1, top=2.1)\n",
    "    plt.ticklabel_format(style='sci', axis='y', scilimits=(0, 0))\n",
    "    plt.title(titlestr(t))\n",
    "    plt.xlabel('Distance [m]')\n",
    "    plt.ylabel('Mineral Volume [%$_{\\mathsf{vol}}$]')\n",
    "    plt.plot(data[0], data[7] * 100, label='Calcite')\n",
    "    plt.plot(data[0], data[8] * 100, label='Dolomite')\n",
    "    plt.legend(loc='center right')\n",
    "    plt.tight_layout()\n",
    "    plt.savefig('figures/calcite-dolomite/{}.png'.format(str(step).zfill(ndigits)))\n",
    "\n",
    "    # Plotting concentrations of aqueous species w.r.t. rock length\n",
    "    plt.figure()\n",
    "    plt.yscale('log')\n",
    "    plt.xlim(left=xl - 0.02, right=xr + 0.02)\n",
    "    plt.ylim(bottom=0.5e-5, top=2)\n",
    "    plt.title(titlestr(t))\n",
    "    plt.xlabel('Distance [m]')\n",
    "    plt.ylabel('Concentration [molal]')\n",
    "    plt.plot(data[0], data[3], label='Ca++')\n",
    "    plt.plot(data[0], data[4], label='Mg++')\n",
    "    plt.plot(data[0], data[5], label='HCO3-')\n",
    "    plt.plot(data[0], data[6], label='CO2(aq)')\n",
    "    plt.plot(data[0], data[2], label='H+')\n",
    "    plt.legend(loc='lower right')\n",
    "    plt.tight_layout()\n",
    "    plt.savefig('figures/aqueous-species/{}.png'.format(str(step).zfill(ndigits)))\n",
    "\n",
    "    plt.close('all')"
   ]
  },
  {
   "cell_type": "code",
   "execution_count": null,
   "metadata": {},
   "outputs": [],
   "source": [
    "# Step 5: Define the main function\n",
    "if __name__ == '__main__':\n",
    "    # Create folders for the results\n",
    "    make_results_folders()\n",
    "\n",
    "    # Run the reactive transport simulations\n",
    "    simulate()\n",
    "\n",
    "    # Plotting the result\n",
    "    plot()"
   ]
  }
 ],
 "metadata": {
  "kernelspec": {
   "display_name": "Python 3",
   "language": "python",
   "name": "python3"
  }
 },
 "nbformat": 4,
 "nbformat_minor": 4
}
