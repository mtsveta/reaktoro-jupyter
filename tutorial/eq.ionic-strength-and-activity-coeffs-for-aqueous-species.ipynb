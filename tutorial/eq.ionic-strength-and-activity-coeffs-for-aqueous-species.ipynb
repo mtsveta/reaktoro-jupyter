{
 "cells": [
  {
   "cell_type": "markdown",
   "metadata": {},
   "source": [
    "# Activity models for aqueous species"
   ]
  },
  {
   "cell_type": "code",
   "execution_count": null,
   "metadata": {},
   "outputs": [],
   "source": [
    "from reaktoro import *\n",
    "db = Database(\"supcrt98.xml\")\n",
    "editor = ChemicalEditor(db)\n",
    "editor.addAqueousPhaseWithElements(\"H O C Na Cl Ca\")\n",
    "editor.addGaseousPhase([\"H2O(g)\"])\n",
    "\n",
    "system = ChemicalSystem(editor)\n",
    "print(system)\n",
    "\n",
    "T = 25 # celsius\n",
    "P = 1 # bar\n",
    "\n",
    "problem1 = EquilibriumProblem(system)\n",
    "problem1.setTemperature(T, \"celsius\")\n",
    "problem1.setPressure(P, \"bar\")\n",
    "problem1.add(\"H2O\", 1, \"kg\")\n",
    "problem1.add(\"NaCl\", 1, \"mol\")"
   ]
  },
  {
   "cell_type": "code",
   "execution_count": null,
   "metadata": {},
   "outputs": [],
   "source": [
    "state1 = equilibrate(problem1)\n",
    "print(state1)"
   ]
  },
  {
   "cell_type": "code",
   "execution_count": null,
   "metadata": {},
   "outputs": [],
   "source": [
    "problem2 = EquilibriumProblem(system)\n",
    "problem2.setTemperature(T, \"celsius\")\n",
    "problem2.setPressure(P, \"bar\")\n",
    "problem2.add(\"H2O\", 1, \"kg\")\n",
    "problem2.add(\"CaCl2\", 1, \"mol\")"
   ]
  },
  {
   "cell_type": "code",
   "execution_count": null,
   "metadata": {},
   "outputs": [],
   "source": [
    "state2 = equilibrate(problem2)\n",
    "print(state2)"
   ]
  },
  {
   "cell_type": "code",
   "execution_count": null,
   "metadata": {},
   "outputs": [],
   "source": [
    "# Calculate mass of the solvent water\n",
    "mw_H2O = 1000 / 18.0154 # where 18.0154 g/mol as an approximated molar mass of water\n",
    "print(f\"mw_H2O = {mw_H2O} kg / mol\")"
   ]
  },
  {
   "cell_type": "code",
   "execution_count": null,
   "metadata": {},
   "outputs": [],
   "source": [
    "# Collect system species and their amounts\n",
    "species = system.species()\n",
    "n = state2.speciesAmounts()"
   ]
  },
  {
   "cell_type": "markdown",
   "metadata": {},
   "source": [
    "Fetching *indicies of aqueous species* and indices all species:"
   ]
  },
  {
   "cell_type": "code",
   "execution_count": null,
   "metadata": {},
   "outputs": [],
   "source": [
    "indx_aqueous_phase = 0\n",
    "indx_gaseous_phase = 1\n",
    "\n",
    "indx_aq = system.indicesSpeciesInPhases([indx_aqueous_phase]) \n",
    "print(\"Indices of aquoues species:\", indx_aq)\n",
    "print(\"Indices of all species:\", system.indicesSpeciesInPhases([indx_aqueous_phase, indx_gaseous_phase]) )"
   ]
  },
  {
   "cell_type": "markdown",
   "metadata": {},
   "source": [
    "Collecting list of *aqueous species*, their names, and corresponding charges:"
   ]
  },
  {
   "cell_type": "code",
   "execution_count": null,
   "metadata": {},
   "outputs": [],
   "source": [
    "species_aq = [species[i] for i in indx_aq]\n",
    "n_aq = [n[i] for i in indx_aq]\n",
    "names_aq = [species.name() for species in species_aq]\n",
    "Z_aq = [species.charge() for species in species_aq]"
   ]
  },
  {
   "cell_type": "code",
   "execution_count": null,
   "metadata": {},
   "outputs": [],
   "source": [
    "# Concetration of water\n",
    "n_H2O = state2.speciesAmount(\"H2O(l)\")"
   ]
  },
  {
   "cell_type": "code",
   "execution_count": null,
   "metadata": {},
   "outputs": [],
   "source": [
    "import numpy as np # for divide function\n",
    "\n",
    "# Molalities of aqueous species\n",
    "m_aq = mw_H2O * np.divide(n_aq, n_H2O)\n",
    "for name, Z, m in zip(names_aq, Z_aq, m_aq):\n",
    "    print(f\"{name:>10} : \\t{Z:2.0f}, \\t{m:6.2e} mol/kg\")"
   ]
  },
  {
   "cell_type": "markdown",
   "metadata": {},
   "source": [
    "Calculating ionic strength (IS):"
   ]
  },
  {
   "cell_type": "code",
   "execution_count": null,
   "metadata": {},
   "outputs": [],
   "source": [
    "IS = 1/2 * sum([m * Z**2 for Z, m in zip(Z_aq, m_aq)])\n",
    "print(\"Ionic strength = \", IS)"
   ]
  },
  {
   "cell_type": "markdown",
   "metadata": {},
   "source": [
    "Calculation activity coefficients for aqueous ionic species using Davis model: "
   ]
  },
  {
   "cell_type": "code",
   "execution_count": null,
   "metadata": {},
   "outputs": [],
   "source": [
    "import math \n",
    "A_gamma = 0.5095\n",
    "gamma = [10 ** (-A_gamma * Z**2 * (math.sqrt(IS)/(1 + math.sqrt(IS)) - 0.3 * IS)) for Z in Z_aq]"
   ]
  },
  {
   "cell_type": "code",
   "execution_count": null,
   "metadata": {},
   "outputs": [],
   "source": [
    "for name, gamma_i in zip(names_aq, gamma):\n",
    "    print(f\"{name:>10} : \\t{gamma_i:2.2f}\")"
   ]
  },
  {
   "cell_type": "markdown",
   "metadata": {},
   "source": [
    "> **Note**: In an ideal solution, $\\gamma_i$ = 1 for all species. "
   ]
  },
  {
   "cell_type": "code",
   "execution_count": null,
   "metadata": {},
   "outputs": [],
   "source": [
    "A_gamma = 0.5095\n",
    "I = np.linspace(0, 1, 100)\n",
    "\n",
    "def gamma_davies(Zi, I):\n",
    "    sqrtI = np.sqrt(I)\n",
    "    return 10**(-A_gamma * Zi**2 * (sqrtI / (1.0 + sqrtI) - 0.3 * I))\n",
    "\n",
    "# Coefficients\n",
    "gamma_Z1 = gamma_davies(1.0, I)\n",
    "gamma_Z2 = gamma_davies(2.0, I)\n",
    "gamma_Z3 = gamma_davies(3.0, I)"
   ]
  },
  {
   "cell_type": "code",
   "execution_count": null,
   "metadata": {},
   "outputs": [],
   "source": [
    "import matplotlib.pyplot as plt\n",
    "plt.xlim((0, 1.0))\n",
    "plt.xlabel('Ionic Strength [molal]')\n",
    "plt.ylabel('Activity Coefficient')\n",
    "line_Z1, = plt.plot(I, gamma_Z1, label=r'$Z_i=1$')\n",
    "line_Z2, = plt.plot(I, gamma_Z2, label=r'$Z_i=2$')\n",
    "line_Z3, = plt.plot(I, gamma_Z3, label=r'$Z_i=3$')\n",
    "plt.legend(handles=[line_Z1, line_Z2, line_Z3], loc='upper right')\n",
    "plt.show()\n",
    "plt.savefig('activity-coefficient-davies.pdf')"
   ]
  },
  {
   "cell_type": "markdown",
   "metadata": {},
   "source": [
    "Calculation of activity of the water solvent:"
   ]
  },
  {
   "cell_type": "code",
   "execution_count": null,
   "metadata": {},
   "outputs": [],
   "source": [
    "# Collecting the species fractures\n",
    "properties = state2.properties()\n",
    "fractions = properties.moleFractions().val\n",
    "for name, x in zip(names_aq, fractions):\n",
    "    print(f\"{name:>10} : \\t{x:6.4e}\")"
   ]
  },
  {
   "cell_type": "code",
   "execution_count": null,
   "metadata": {},
   "outputs": [],
   "source": [
    "# Index of water in the chemical system\n",
    "indx_H2O = system.indexSpecies(\"H2O(l)\") \n",
    "print(\"Index of the water solvent is\", indx_H2O)\n",
    "print(\"Fraction of the water solvent is\", fractions[indx_H2O])"
   ]
  },
  {
   "cell_type": "code",
   "execution_count": null,
   "metadata": {},
   "outputs": [],
   "source": []
  }
 ],
 "metadata": {
  "kernelspec": {
   "display_name": "Python 3",
   "language": "python",
   "name": "python3"
  },
  "language_info": {
   "codemirror_mode": {
    "name": "ipython",
    "version": 3
   },
   "file_extension": ".py",
   "mimetype": "text/x-python",
   "name": "python",
   "nbconvert_exporter": "python",
   "pygments_lexer": "ipython3",
   "version": "3.8.1"
  }
 },
 "nbformat": 4,
 "nbformat_minor": 4
}
