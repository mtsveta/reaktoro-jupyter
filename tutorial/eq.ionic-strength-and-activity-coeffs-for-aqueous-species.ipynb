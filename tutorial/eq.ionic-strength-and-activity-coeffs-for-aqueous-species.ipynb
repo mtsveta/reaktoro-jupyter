{
 "cells": [
  {
   "cell_type": "markdown",
   "metadata": {},
   "source": [
    "# Activity models for aqueous species"
   ]
  },
  {
   "cell_type": "code",
   "execution_count": 213,
   "metadata": {},
   "outputs": [
    {
     "name": "stdout",
     "output_type": "stream",
     "text": [
      "====================================================================================================\n",
      "Aqueous                  Gaseous                  \n",
      "----------------------------------------------------------------------------------------------------\n",
      "CO(aq)                   H2O(g)                   \n",
      "CO2(aq)                                           \n",
      "CO3--                                             \n",
      "Ca(HCO3)+                                         \n",
      "Ca++                                              \n",
      "CaCO3(aq)                                         \n",
      "CaCl+                                             \n",
      "CaCl2(aq)                                         \n",
      "CaOH+                                             \n",
      "Cl-                                               \n",
      "ClO-                                              \n",
      "ClO2-                                             \n",
      "ClO3-                                             \n",
      "ClO4-                                             \n",
      "H+                                                \n",
      "H2(aq)                                            \n",
      "H2O(l)                                            \n",
      "H2O2(aq)                                          \n",
      "HCO3-                                             \n",
      "HCl(aq)                                           \n",
      "HClO(aq)                                          \n",
      "HClO2(aq)                                         \n",
      "HO2-                                              \n",
      "Na+                                               \n",
      "NaCl(aq)                                          \n",
      "NaOH(aq)                                          \n",
      "O2(aq)                                            \n",
      "OH-                                               \n",
      "====================================================================================================\n",
      "Index                    Species                  Element                  Phase                    \n",
      "----------------------------------------------------------------------------------------------------\n",
      "0                        CO(aq)                   C                        Aqueous                  \n",
      "1                        CO2(aq)                  Ca                       Gaseous                  \n",
      "2                        CO3--                    Cl                                                \n",
      "3                        Ca(HCO3)+                H                                                 \n",
      "4                        Ca++                     Na                                                \n",
      "5                        CaCO3(aq)                O                                                 \n",
      "6                        CaCl+                    Z                                                 \n",
      "7                        CaCl2(aq)                                                                  \n",
      "8                        CaOH+                                                                      \n",
      "9                        Cl-                                                                        \n",
      "10                       ClO-                                                                       \n",
      "11                       ClO2-                                                                      \n",
      "12                       ClO3-                                                                      \n",
      "13                       ClO4-                                                                      \n",
      "14                       H+                                                                         \n",
      "15                       H2(aq)                                                                     \n",
      "16                       H2O(l)                                                                     \n",
      "17                       H2O2(aq)                                                                   \n",
      "18                       HCO3-                                                                      \n",
      "19                       HCl(aq)                                                                    \n",
      "20                       HClO(aq)                                                                   \n",
      "21                       HClO2(aq)                                                                  \n",
      "22                       HO2-                                                                       \n",
      "23                       Na+                                                                        \n",
      "24                       NaCl(aq)                                                                   \n",
      "25                       NaOH(aq)                                                                   \n",
      "26                       O2(aq)                                                                     \n",
      "27                       OH-                                                                        \n",
      "28                       H2O(g)                                                                     \n",
      "====================================================================================================\n",
      "\n"
     ]
    },
    {
     "data": {
      "text/plain": [
       "<reaktoro.PyReaktoro.EquilibriumProblem at 0x123b240f0>"
      ]
     },
     "execution_count": 213,
     "metadata": {},
     "output_type": "execute_result"
    }
   ],
   "source": [
    "from reaktoro import *\n",
    "db = Database(\"supcrt98.xml\")\n",
    "editor = ChemicalEditor(db)\n",
    "editor.addAqueousPhaseWithElements(\"H O C Na Cl Ca\")\n",
    "editor.addGaseousPhase([\"H2O(g)\"])\n",
    "\n",
    "system = ChemicalSystem(editor)\n",
    "print(system)\n",
    "\n",
    "T = 25 # celsius\n",
    "P = 1 # bar\n",
    "\n",
    "problem1 = EquilibriumProblem(system)\n",
    "problem1.setTemperature(T, \"celsius\")\n",
    "problem1.setPressure(P, \"bar\")\n",
    "problem1.add(\"H2O\", 1, \"kg\")\n",
    "problem1.add(\"NaCl\", 1, \"mol\")"
   ]
  },
  {
   "cell_type": "code",
   "execution_count": 214,
   "metadata": {},
   "outputs": [
    {
     "name": "stdout",
     "output_type": "stream",
     "text": [
      "=================================================================================================================================================================================================================================\n",
      "Temperature [K]          Temperature [C]          Pressure [Pa]            Pressure [bar]           \n",
      "---------------------------------------------------------------------------------------------------------------------------------------------------------------------------------------------------------------------------------\n",
      "298.15                   25                       100000                   1                        \n",
      "=================================================================================================================================================================================================================================\n",
      "Element                  Amount [mol]             Aqueous [mol]            Gaseous [mol]            Dual Potential [kJ/mol]  \n",
      "---------------------------------------------------------------------------------------------------------------------------------------------------------------------------------------------------------------------------------\n",
      "C                        6e-20                    6e-20                    0                        0                        \n",
      "Ca                       6e-20                    6e-20                    0                        0                        \n",
      "Cl                       1                        1                        0                        -116.175                 \n",
      "H                        111.017                  111.017                  5.45398e-21              -56.2438                 \n",
      "Na                       1                        1                        0                        -279.394                 \n",
      "O                        55.5084                  55.5084                  2.72699e-21              -124.773                 \n",
      "Z                        -6.07038e-17             -6.07038e-17             0                        16.2907                  \n",
      "=================================================================================================================================================================================================================================\n",
      "Species                  Amount [mol]             Mole Fraction [mol/mol]  Activity Coefficient [-] Activity [-]             Potential [kJ/mol]       Dual Potential [kJ/mol]  \n",
      "---------------------------------------------------------------------------------------------------------------------------------------------------------------------------------------------------------------------------------\n",
      "CO(aq)                   1e-20                    1.7408e-22               1                        1e-20                    -234.166                 0                        \n",
      "CO2(aq)                  1e-20                    1.7408e-22               1.20709                  1.20709e-20              -499.668                 0                        \n",
      "CO3--                    1e-20                    1.7408e-22               0.196515                 1.96515e-21              -646.177                 0                        \n",
      "Ca(HCO3)+                1e-20                    1.7408e-22               0.632889                 6.3289e-21               -1261                    0                        \n",
      "Ca++                     1e-20                    1.7408e-22               0.188257                 1.88257e-21              -671.09                  0                        \n",
      "CaCO3(aq)                1e-20                    1.7408e-22               1                        1e-20                    -1213.92                 0                        \n",
      "CaCl+                    1e-20                    1.7408e-22               0.632889                 6.3289e-21               -797.705                 0                        \n",
      "CaCl2(aq)                1e-20                    1.7408e-22               1                        1e-20                    -925.856                 0                        \n",
      "CaOH+                    1e-20                    1.7408e-22               0.632889                 6.3289e-21               -832.013                 0                        \n",
      "Cl-                      0.936493                 0.0163024                0.664454                 0.622257                 -132.466                 2.64706e-20              \n",
      "ClO-                     2.5775e-22               4.4869e-24               0.664454                 1.71263e-22              -161.062                 96.1769                  \n",
      "ClO2-                    9.10234e-23              1.58453e-24              0.664454                 6.04809e-23              -109.668                 272.343                  \n",
      "ClO3-                    6.67744e-23              1.16241e-24              0.664454                 4.43685e-23              -135.54                  371.244                  \n",
      "ClO4-                    5.01258e-23              8.7259e-25               0.619626                 3.10593e-23              -137.01                  494.547                  \n",
      "H+                       1.61843e-07              2.81735e-09              0.61863                  1.00121e-07              -39.9531                 1.53171e-13              \n",
      "H2(aq)                   2.04582e-21              3.56135e-23              1                        2.04582e-21              -100.37                  12.1172                  \n",
      "H2O(l)                   55.5084                  0.96629                  1.0026                   0.968798                 -237.26                  4.46591e-22              \n",
      "H2O2(aq)                 2.37033e-22              4.12627e-24              1                        2.37033e-22              -257.45                  104.583                  \n",
      "HCO3-                    1e-20                    1.7408e-22               0.645958                 6.45959e-21              -702.183                 0                        \n",
      "HCl(aq)                  1.21398e-08              2.11329e-10              1                        1.21398e-08              -172.419                 2.04201e-12              \n",
      "HClO(aq)                 2.63432e-22              4.58583e-24              1                        2.63433e-22              -203.089                 94.1022                  \n",
      "HClO2(aq)                8.21504e-23              1.43007e-24              1                        8.21505e-23              -120.206                 301.758                  \n",
      "HO2-                     1.91021e-22              3.32528e-24              0.664454                 1.26925e-22              -192.306                 129.774                  \n",
      "Na+                      0.936493                 0.0163024                0.652128                 0.610714                 -263.103                 2.64706e-20              \n",
      "NaCl(aq)                 0.063507                 0.00110553               1                        0.0635071                -395.569                 3.90344e-19              \n",
      "NaOH(aq)                 3.68802e-08              6.42011e-10              1                        3.68803e-08              -460.41                  6.72164e-13              \n",
      "O2(aq)                   1.74703e-22              3.04122e-24              1                        1.74703e-22              -107.65                  141.896                  \n",
      "OH-                      1.37102e-07              2.38667e-09              0.713759                 9.78579e-08              -197.307                 1.80811e-13              \n",
      "H2O(g)                   2.72699e-21              1                        0.984754                 0.984754                 -228.17                  9.09045                  \n",
      "=================================================================================================================================================================================================================================\n",
      "Phase                    Amount [mol]             Stability                Stability Index [-]      Mass [kg]                Volume [m3]              Density [kg/m3]          Molar Volume [m3/mol]    Volume Fraction [m3/m3]  \n",
      "---------------------------------------------------------------------------------------------------------------------------------------------------------------------------------------------------------------------------------\n",
      "Aqueous                  57.4449                  stable                    0                       1.05844                  0.00102423               1033.4                   1.78298e-05              1                        \n",
      "Gaseous                  2.72699e-21              under stable             -1.59258                 4.91275e-23              6.6555e-23               0.738149                 0.024406                 6.49804e-20              \n",
      "=================================================================================================================================================================================================================================\n",
      "Ionic Strength [molal]   pH                       pE                       Reduction Potential [V]  Alkalinity [eq/L]        \n",
      "---------------------------------------------------------------------------------------------------------------------------------------------------------------------------------------------------------------------------------\n",
      "0.936494                 6.99948                  0.529026                 0.0312968                -2.41551e-08             \n",
      "=================================================================================================================================================================================================================================\n",
      "\n"
     ]
    }
   ],
   "source": [
    "state1 = equilibrate(problem1)\n",
    "print(state1)"
   ]
  },
  {
   "cell_type": "code",
   "execution_count": 215,
   "metadata": {},
   "outputs": [
    {
     "data": {
      "text/plain": [
       "<reaktoro.PyReaktoro.EquilibriumProblem at 0x123b37330>"
      ]
     },
     "execution_count": 215,
     "metadata": {},
     "output_type": "execute_result"
    }
   ],
   "source": [
    "problem2 = EquilibriumProblem(system)\n",
    "problem2.setTemperature(T, \"celsius\")\n",
    "problem2.setPressure(P, \"bar\")\n",
    "problem2.add(\"H2O\", 1, \"kg\")\n",
    "problem2.add(\"CaCl2\", 1, \"mol\")"
   ]
  },
  {
   "cell_type": "code",
   "execution_count": 216,
   "metadata": {},
   "outputs": [
    {
     "name": "stdout",
     "output_type": "stream",
     "text": [
      "=================================================================================================================================================================================================================================\n",
      "Temperature [K]          Temperature [C]          Pressure [Pa]            Pressure [bar]           \n",
      "---------------------------------------------------------------------------------------------------------------------------------------------------------------------------------------------------------------------------------\n",
      "298.15                   25                       100000                   1                        \n",
      "=================================================================================================================================================================================================================================\n",
      "Element                  Amount [mol]             Aqueous [mol]            Gaseous [mol]            Dual Potential [kJ/mol]  \n",
      "---------------------------------------------------------------------------------------------------------------------------------------------------------------------------------------------------------------------------------\n",
      "C                        6e-20                    6e-20                    0                        0                        \n",
      "Ca                       1                        1                        0                        -591.834                 \n",
      "Cl                       2                        2                        0                        -113.427                 \n",
      "H                        111.017                  111.017                  5.42811e-21              -56.2028                 \n",
      "Na                       3e-20                    3e-20                    0                        0                        \n",
      "O                        55.5084                  55.5084                  2.71405e-21              -124.898                 \n",
      "Z                        -8.39666e-17             -8.39666e-17             0                        17.241                   \n",
      "=================================================================================================================================================================================================================================\n",
      "Species                  Amount [mol]             Mole Fraction [mol/mol]  Activity Coefficient [-] Activity [-]             Potential [kJ/mol]       Dual Potential [kJ/mol]  \n",
      "---------------------------------------------------------------------------------------------------------------------------------------------------------------------------------------------------------------------------------\n",
      "CO(aq)                   1e-20                    1.71746e-22              1                        1e-20                    -234.166                 0                        \n",
      "CO2(aq)                  1e-20                    1.71746e-22              1.3405                   1.34051e-20              -499.408                 0                        \n",
      "CO3--                    1e-20                    1.71746e-22              0.222581                 2.22582e-21              -645.868                 0                        \n",
      "Ca(HCO3)+                1e-20                    1.71746e-22              0.635141                 6.35141e-21              -1260.99                 0                        \n",
      "Ca++                     0.7766                   0.0133378                0.204446                 0.158773                 -557.352                 3.19206e-20              \n",
      "CaCO3(aq)                1e-20                    1.71746e-22              1                        1e-20                    -1213.92                 0                        \n",
      "CaCl+                    0.163823                 0.0028136                0.635141                 0.104051                 -688.02                  1.51319e-19              \n",
      "CaCl2(aq)                0.0595766                0.0010232                1                        0.0595766                -818.688                 4.16096e-19              \n",
      "CaOH+                    2.33918e-07              4.01745e-09              0.635141                 1.48571e-07              -755.694                 1.05976e-13              \n",
      "Cl-                      1.71702                  0.0294892                0.74845                  1.28511                  -130.668                 1.44375e-20              \n",
      "ClO-                     2.61399e-22              4.48943e-24              0.74845                  1.95644e-22              -160.732                 94.8342                  \n",
      "ClO2-                    9.144e-23                1.57045e-24              0.74845                  6.84383e-23              -109.362                 271.102                  \n",
      "ClO3-                    6.69764e-23              1.15029e-24              0.74845                  5.01285e-23              -135.238                 370.124                  \n",
      "ClO4-                    5.029e-23                8.63711e-25              0.54342                  2.73286e-23              -137.327                 492.933                  \n",
      "H+                       2.65012e-07              4.55147e-09              0.563531                 1.49342e-07              -38.9618                 9.35414e-14              \n",
      "H2(aq)                   2.05736e-21              3.53343e-23              1                        2.05736e-21              -100.356                 12.0492                  \n",
      "H2O(l)                   55.5084                  0.953336                 0.998609                 0.95201                  -237.304                 4.46591e-22              \n",
      "H2O2(aq)                 2.3666e-22               4.06455e-24              1                        2.36661e-22              -257.454                 104.747                  \n",
      "HCO3-                    1e-20                    1.71746e-22              0.676875                 6.76876e-21              -702.068                 0                        \n",
      "HCl(aq)                  3.73973e-08              6.42284e-10              1                        3.73973e-08              -169.63                  6.6287e-13               \n",
      "HClO(aq)                 2.70902e-22              4.65263e-24              1                        2.70902e-22              -203.02                  91.5076                  \n",
      "HClO2(aq)                8.28416e-23              1.42277e-24              1                        8.28417e-23              -120.185                 299.24                   \n",
      "HO2-                     1.88942e-22              3.24501e-24              0.74845                  1.41414e-22              -192.038                 131.202                  \n",
      "Na+                      1e-20                    1.71746e-22              0.712049                 7.12049e-21              -376.883                 0                        \n",
      "NaCl(aq)                 1e-20                    1.71746e-22              1                        1e-20                    -502.896                 0                        \n",
      "NaOH(aq)                 1e-20                    1.71746e-22              1                        1e-20                    -532.142                 0                        \n",
      "O2(aq)                   1.744e-22                2.99525e-24              1                        1.744e-22                -107.654                 142.142                  \n",
      "OH-                      6.84912e-08              1.17631e-09              0.94126                  6.44681e-08              -198.342                 3.61938e-13              \n",
      "H2O(g)                   2.71405e-21              1                        0.984754                 0.984754                 -228.17                  9.13378                  \n",
      "=================================================================================================================================================================================================================================\n",
      "Phase                    Amount [mol]             Stability                Stability Index [-]      Mass [kg]                Volume [m3]              Density [kg/m3]          Molar Volume [m3/mol]    Volume Fraction [m3/m3]  \n",
      "---------------------------------------------------------------------------------------------------------------------------------------------------------------------------------------------------------------------------------\n",
      "Aqueous                  58.2255                  stable                    0                       1.11098                  0.0010311                1077.48                  1.77087e-05              1                        \n",
      "Gaseous                  2.71405e-21              under stable             -1.60017                 4.88944e-23              6.62393e-23              0.738149                 0.024406                 6.42415e-20              \n",
      "=================================================================================================================================================================================================================================\n",
      "Ionic Strength [molal]   pH                       pE                       Reduction Potential [V]  Alkalinity [eq/L]        \n",
      "---------------------------------------------------------------------------------------------------------------------------------------------------------------------------------------------------------------------------------\n",
      "2.49363                  6.82582                  -9.07908                 -0.537112                -0.158883                \n",
      "=================================================================================================================================================================================================================================\n",
      "\n"
     ]
    }
   ],
   "source": [
    "state2 = equilibrate(problem2)\n",
    "print(state2)"
   ]
  },
  {
   "cell_type": "code",
   "execution_count": 217,
   "metadata": {},
   "outputs": [
    {
     "name": "stdout",
     "output_type": "stream",
     "text": [
      "mw_H2O = 55.50806532189127 kg / mol\n"
     ]
    }
   ],
   "source": [
    "# Calculate mass of the solvent water\n",
    "mw_H2O = 1000 / 18.0154 # where 18.0154 g/mol as an approximated molar mass of water\n",
    "print(f\"mw_H2O = {mw_H2O} kg / mol\")"
   ]
  },
  {
   "cell_type": "code",
   "execution_count": 218,
   "metadata": {},
   "outputs": [],
   "source": [
    "# Collect system species and their amounts\n",
    "species = system.species()\n",
    "n = state2.speciesAmounts()"
   ]
  },
  {
   "cell_type": "markdown",
   "metadata": {},
   "source": [
    "Fetching *indicies of aqueous species* and indices all species:"
   ]
  },
  {
   "cell_type": "code",
   "execution_count": 220,
   "metadata": {},
   "outputs": [
    {
     "name": "stdout",
     "output_type": "stream",
     "text": [
      "Indices of aquoues species: [0, 1, 2, 3, 4, 5, 6, 7, 8, 9, 10, 11, 12, 13, 14, 15, 16, 17, 18, 19, 20, 21, 22, 23, 24, 25, 26, 27]\n",
      "Indices of all species: [0, 1, 2, 3, 4, 5, 6, 7, 8, 9, 10, 11, 12, 13, 14, 15, 16, 17, 18, 19, 20, 21, 22, 23, 24, 25, 26, 27, 28]\n"
     ]
    }
   ],
   "source": [
    "indx_aqueous_phase = 0\n",
    "indx_gaseous_phase = 1\n",
    "\n",
    "indx_aq = system.indicesSpeciesInPhases([indx_aqueous_phase]) \n",
    "print(\"Indices of aquoues species:\", indx_aq)\n",
    "print(\"Indices of all species:\", system.indicesSpeciesInPhases([indx_aqueous_phase, indx_gaseous_phase]) )"
   ]
  },
  {
   "cell_type": "markdown",
   "metadata": {},
   "source": [
    "Collecting list of *aqueous species*, their names, and corresponding charges:"
   ]
  },
  {
   "cell_type": "code",
   "execution_count": 221,
   "metadata": {},
   "outputs": [],
   "source": [
    "species_aq = [species[i] for i in indx_aq]\n",
    "n_aq = [n[i] for i in indx_aq]\n",
    "names_aq = [species.name() for species in species_aq]\n",
    "Z_aq = [species.charge() for species in species_aq]"
   ]
  },
  {
   "cell_type": "code",
   "execution_count": 223,
   "metadata": {},
   "outputs": [],
   "source": [
    "# Concetration of water\n",
    "n_H2O = state2.speciesAmount(\"H2O(l)\")"
   ]
  },
  {
   "cell_type": "code",
   "execution_count": 224,
   "metadata": {},
   "outputs": [
    {
     "name": "stdout",
     "output_type": "stream",
     "text": [
      "    CO(aq) : \t 0, \t1.00e-20 mol/kg\n",
      "   CO2(aq) : \t 0, \t1.00e-20 mol/kg\n",
      "     CO3-- : \t-2, \t1.00e-20 mol/kg\n",
      " Ca(HCO3)+ : \t 1, \t1.00e-20 mol/kg\n",
      "      Ca++ : \t 2, \t7.77e-01 mol/kg\n",
      " CaCO3(aq) : \t 0, \t1.00e-20 mol/kg\n",
      "     CaCl+ : \t 1, \t1.64e-01 mol/kg\n",
      " CaCl2(aq) : \t 0, \t5.96e-02 mol/kg\n",
      "     CaOH+ : \t 1, \t2.34e-07 mol/kg\n",
      "       Cl- : \t-1, \t1.72e+00 mol/kg\n",
      "      ClO- : \t-1, \t2.61e-22 mol/kg\n",
      "     ClO2- : \t-1, \t9.14e-23 mol/kg\n",
      "     ClO3- : \t-1, \t6.70e-23 mol/kg\n",
      "     ClO4- : \t-1, \t5.03e-23 mol/kg\n",
      "        H+ : \t 1, \t2.65e-07 mol/kg\n",
      "    H2(aq) : \t 0, \t2.06e-21 mol/kg\n",
      "    H2O(l) : \t 0, \t5.55e+01 mol/kg\n",
      "  H2O2(aq) : \t 0, \t2.37e-22 mol/kg\n",
      "     HCO3- : \t-1, \t1.00e-20 mol/kg\n",
      "   HCl(aq) : \t 0, \t3.74e-08 mol/kg\n",
      "  HClO(aq) : \t 0, \t2.71e-22 mol/kg\n",
      " HClO2(aq) : \t 0, \t8.28e-23 mol/kg\n",
      "      HO2- : \t-1, \t1.89e-22 mol/kg\n",
      "       Na+ : \t 1, \t1.00e-20 mol/kg\n",
      "  NaCl(aq) : \t 0, \t1.00e-20 mol/kg\n",
      "  NaOH(aq) : \t 0, \t1.00e-20 mol/kg\n",
      "    O2(aq) : \t 0, \t1.74e-22 mol/kg\n",
      "       OH- : \t-1, \t6.85e-08 mol/kg\n"
     ]
    }
   ],
   "source": [
    "import numpy as np # for divide function\n",
    "\n",
    "# Molalities of aqueous species\n",
    "m_aq = mw_H2O * np.divide(n_aq, n_H2O)\n",
    "for name, Z, m in zip(names_aq, Z_aq, m_aq):\n",
    "    print(f\"{name:>10} : \\t{Z:2.0f}, \\t{m:6.2e} mol/kg\")"
   ]
  },
  {
   "cell_type": "markdown",
   "metadata": {},
   "source": [
    "Calculating ionic strength (IS):"
   ]
  },
  {
   "cell_type": "code",
   "execution_count": 226,
   "metadata": {},
   "outputs": [
    {
     "name": "stdout",
     "output_type": "stream",
     "text": [
      "Ionic strength =  2.4936069847417155\n"
     ]
    }
   ],
   "source": [
    "IS = 1/2 * sum([m * Z**2 for Z, m in zip(Z_aq, m_aq)])\n",
    "print(\"Ionic strength = \", IS)"
   ]
  },
  {
   "cell_type": "markdown",
   "metadata": {},
   "source": [
    "Calculation activity coefficients for aqueous ionic species using Davis model: "
   ]
  },
  {
   "cell_type": "code",
   "execution_count": 227,
   "metadata": {},
   "outputs": [],
   "source": [
    "import math \n",
    "A_gamma = 0.5095\n",
    "gamma = [10 ** (-A_gamma * Z**2 * (math.sqrt(IS)/(1 + math.sqrt(IS)) - 0.3 * IS)) for Z in Z_aq]"
   ]
  },
  {
   "cell_type": "code",
   "execution_count": 228,
   "metadata": {},
   "outputs": [
    {
     "name": "stdout",
     "output_type": "stream",
     "text": [
      "    CO(aq) : \t1.00\n",
      "   CO2(aq) : \t1.00\n",
      "     CO3-- : \t1.89\n",
      " Ca(HCO3)+ : \t1.17\n",
      "      Ca++ : \t1.89\n",
      " CaCO3(aq) : \t1.00\n",
      "     CaCl+ : \t1.17\n",
      " CaCl2(aq) : \t1.00\n",
      "     CaOH+ : \t1.17\n",
      "       Cl- : \t1.17\n",
      "      ClO- : \t1.17\n",
      "     ClO2- : \t1.17\n",
      "     ClO3- : \t1.17\n",
      "     ClO4- : \t1.17\n",
      "        H+ : \t1.17\n",
      "    H2(aq) : \t1.00\n",
      "    H2O(l) : \t1.00\n",
      "  H2O2(aq) : \t1.00\n",
      "     HCO3- : \t1.17\n",
      "   HCl(aq) : \t1.00\n",
      "  HClO(aq) : \t1.00\n",
      " HClO2(aq) : \t1.00\n",
      "      HO2- : \t1.17\n",
      "       Na+ : \t1.17\n",
      "  NaCl(aq) : \t1.00\n",
      "  NaOH(aq) : \t1.00\n",
      "    O2(aq) : \t1.00\n",
      "       OH- : \t1.17\n"
     ]
    }
   ],
   "source": [
    "for name, gamma_i in zip(names_aq, gamma):\n",
    "    print(f\"{name:>10} : \\t{gamma_i:2.2f}\")"
   ]
  },
  {
   "cell_type": "markdown",
   "metadata": {},
   "source": [
    "> **Note**: In an ideal solution, $\\gamma_i$ = 1 for all species. "
   ]
  },
  {
   "cell_type": "code",
   "execution_count": 230,
   "metadata": {},
   "outputs": [],
   "source": [
    "A_gamma = 0.5095\n",
    "I = np.linspace(0, 1, 100)\n",
    "\n",
    "def gamma_davies(Zi, I):\n",
    "    sqrtI = np.sqrt(I)\n",
    "    return 10**(-A_gamma * Zi**2 * (sqrtI / (1.0 + sqrtI) - 0.3 * I))\n",
    "\n",
    "# Coefficients\n",
    "gamma_Z1 = gamma_davies(1.0, I)\n",
    "gamma_Z2 = gamma_davies(2.0, I)\n",
    "gamma_Z3 = gamma_davies(3.0, I)"
   ]
  },
  {
   "cell_type": "code",
   "execution_count": 231,
   "metadata": {},
   "outputs": [
    {
     "data": {
      "image/png": "[encoded data removed]",
      "text/plain": [
       "<Figure size 432x288 with 1 Axes>"
      ]
     },
     "metadata": {
      "needs_background": "light"
     },
     "output_type": "display_data"
    },
    {
     "data": {
      "text/plain": [
       "<Figure size 432x288 with 0 Axes>"
      ]
     },
     "metadata": {},
     "output_type": "display_data"
    }
   ],
   "source": [
    "import matplotlib.pyplot as plt\n",
    "plt.xlim((0, 1.0))\n",
    "plt.xlabel('Ionic Strength [molal]')\n",
    "plt.ylabel('Activity Coefficient')\n",
    "line_Z1, = plt.plot(I, gamma_Z1, label=r'$Z_i=1$')\n",
    "line_Z2, = plt.plot(I, gamma_Z2, label=r'$Z_i=2$')\n",
    "line_Z3, = plt.plot(I, gamma_Z3, label=r'$Z_i=3$')\n",
    "plt.legend(handles=[line_Z1, line_Z2, line_Z3], loc='upper right')\n",
    "plt.show()\n",
    "plt.savefig('activity-coefficient-davies.pdf')"
   ]
  },
  {
   "cell_type": "markdown",
   "metadata": {},
   "source": [
    "Calculation of activity of the water solvent:"
   ]
  },
  {
   "cell_type": "code",
   "execution_count": 232,
   "metadata": {},
   "outputs": [
    {
     "name": "stdout",
     "output_type": "stream",
     "text": [
      "    CO(aq) : \t1.7175e-22\n",
      "   CO2(aq) : \t1.7175e-22\n",
      "     CO3-- : \t1.7175e-22\n",
      " Ca(HCO3)+ : \t1.7175e-22\n",
      "      Ca++ : \t1.3338e-02\n",
      " CaCO3(aq) : \t1.7175e-22\n",
      "     CaCl+ : \t2.8136e-03\n",
      " CaCl2(aq) : \t1.0232e-03\n",
      "     CaOH+ : \t4.0174e-09\n",
      "       Cl- : \t2.9489e-02\n",
      "      ClO- : \t4.4894e-24\n",
      "     ClO2- : \t1.5704e-24\n",
      "     ClO3- : \t1.1503e-24\n",
      "     ClO4- : \t8.6371e-25\n",
      "        H+ : \t4.5515e-09\n",
      "    H2(aq) : \t3.5334e-23\n",
      "    H2O(l) : \t9.5334e-01\n",
      "  H2O2(aq) : \t4.0646e-24\n",
      "     HCO3- : \t1.7175e-22\n",
      "   HCl(aq) : \t6.4228e-10\n",
      "  HClO(aq) : \t4.6526e-24\n",
      " HClO2(aq) : \t1.4228e-24\n",
      "      HO2- : \t3.2450e-24\n",
      "       Na+ : \t1.7175e-22\n",
      "  NaCl(aq) : \t1.7175e-22\n",
      "  NaOH(aq) : \t1.7175e-22\n",
      "    O2(aq) : \t2.9953e-24\n",
      "       OH- : \t1.1763e-09\n"
     ]
    }
   ],
   "source": [
    "# Collecting the species fractures\n",
    "properties = state2.properties()\n",
    "fractions = properties.moleFractions().val\n",
    "for name, x in zip(names_aq, fractions):\n",
    "    print(f\"{name:>10} : \\t{x:6.4e}\")"
   ]
  },
  {
   "cell_type": "code",
   "execution_count": 233,
   "metadata": {},
   "outputs": [
    {
     "name": "stdout",
     "output_type": "stream",
     "text": [
      "Index of the water solvent is 16\n",
      "Fraction of the water solvent is 0.9533361522006862\n"
     ]
    }
   ],
   "source": [
    "# Index of water in the chemical system\n",
    "indx_H2O = system.indexSpecies(\"H2O(l)\") \n",
    "print(\"Index of the water solvent is\", indx_H2O)\n",
    "print(\"Fraction of the water solvent is\", fractions[indx_H2O])"
   ]
  },
  {
   "cell_type": "code",
   "execution_count": null,
   "metadata": {},
   "outputs": [],
   "source": []
  }
 ],
 "metadata": {
  "kernelspec": {
   "display_name": "Python 3",
   "language": "python",
   "name": "python3"
  },
  "language_info": {
   "codemirror_mode": {
    "name": "ipython",
    "version": 3
   },
   "file_extension": ".py",
   "mimetype": "text/x-python",
   "name": "python",
   "nbconvert_exporter": "python",
   "pygments_lexer": "ipython3",
   "version": "3.8.2"
  }
 },
 "nbformat": 4,
 "nbformat_minor": 4
}
