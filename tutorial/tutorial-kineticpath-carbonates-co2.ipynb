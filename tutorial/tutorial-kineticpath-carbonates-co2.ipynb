{
 "cells": [
  {
   "cell_type": "markdown",
   "metadata": {},
   "source": [
    "# Dissolution of carbonate minerals in a $\\mathrm{CO_2}$-saturated brine\n",
    "\n",
    "In this tutorial, we demonstrate how Reaktoro can be used to kinetically model the dissolution of carbonate\n",
    "minerals (calcite, magnesite, and dolomite) in a $\\mathrm{CO_2}$-saturated brine."
   ]
  },
  {
   "cell_type": "markdown",
   "metadata": {},
   "source": [
    "### Importing the reaktoro Python package\n",
    "\n",
    "Here, we import the **reaktoro** Python package to enable us to use all its library components (classes, methods,\n",
    "constants)."
   ]
  },
  {
   "cell_type": "code",
   "execution_count": null,
   "metadata": {},
   "outputs": [],
   "source": [
    "from reaktoro import *"
   ]
  },
  {
   "cell_type": "markdown",
   "metadata": {},
   "source": [
    "### Defining the chemical system"
   ]
  },
  {
   "cell_type": "markdown",
   "metadata": {},
   "source": [
    "In this simulation, we consider an *aqueous phase* (to model the brine solution), a *gaseous phase* (to model the\n",
    "$\\mathrm{CO_2}$-rich phase with water vapor), and four pure *mineral phases*: halite, calcite, magnesite,\n",
    "and dolomite. These are the phases that will either exist initially during the simulation, or that could\n",
    "potentially appear later as the calculations proceed."
   ]
  },
  {
   "cell_type": "markdown",
   "metadata": {},
   "source": [
    "All potential phases that could appear in a reactive process should ideally be considered when defining the\n",
    "chemical system. If one or more of these phases are ignored, then the equilibrium and kinetics calculations cannot\n",
    "identify if they should be present or not with positive amounts. Unrealistic results may occur, such as,\n",
    "for example, an aqueous phase containing more $\\mathrm{CO_2}$ dissolved than it could, because a gaseous phase,\n",
    "which should contain the excess of $\\mathrm{CO_2}$, was not considered in the chemical system."
   ]
  },
  {
   "cell_type": "markdown",
   "metadata": {},
   "source": [
    "The code below uses class [ChemicalEditor](https://reaktoro.org/cpp/classReaktoro_1_1ChemicalEditor.html) to define\n",
    "our chemical system with the phases of interest and their species:"
   ]
  },
  {
   "cell_type": "code",
   "execution_count": null,
   "metadata": {},
   "outputs": [],
   "source": [
    "editor = ChemicalEditor()\n",
    "editor.addAqueousPhaseWithElementsOf(\"H2O NaCl CaCO3 MgCO3\")\n",
    "editor.addGaseousPhase([\"H2O(g)\", \"CO2(g)\"])\n",
    "editor.addMineralPhase(\"Calcite\")\n",
    "editor.addMineralPhase(\"Magnesite\")\n",
    "editor.addMineralPhase(\"Dolomite\")\n",
    "editor.addMineralPhase(\"Halite\")"
   ]
  },
  {
   "cell_type": "markdown",
   "metadata": {},
   "source": [
    "The aqueous phase is defined by considering all aqueous species in the database that could form once the substances\n",
    "$\\mathrm{H_2O}$, $\\mathrm{NaCl}$, $\\mathrm{CaCO_3}$, and $\\mathrm{MgCO_3}$ are mixed. The gaseous phase is defined\n",
    "so that only the gaseous species $\\mathrm{H_2O(g)}$ and $\\mathrm{CO2(g)}$ are considered. There are four pure\n",
    "mineral phases: calcite ($\\mathrm{CaCO_3}$), magnesite ($\\mathrm{MgCO_3}$), dolomite ($\\mathrm{CaMg(CO_3)_2}$),\n",
    "and halite ($\\mathrm{NaCl}$)."
   ]
  },
  {
   "cell_type": "markdown",
   "metadata": {},
   "source": [
    "### Defining the kinetically-controlled reactions"
   ]
  },
  {
   "cell_type": "markdown",
   "metadata": {},
   "source": [
    "A *partial equilibrium assumption* is considered in this simulation. This simplifies the problem by assuming that\n",
    "those species that react at much faster rates do so *continually in chemical equilibrium*. They are referred to as\n",
    "*equilibrium species*. The remaining species (those reacting at relatively slower rates) are referred to as\n",
    "*kinetic species*."
   ]
  },
  {
   "cell_type": "markdown",
   "metadata": {},
   "source": [
    "Because aqueous and gaseous species, as well as halite, react at relatively fast rates, they are reasonable\n",
    "candidates in this problem for being equilibrium species. The kinetic species are thus the carbonate minerals:\n",
    "calcite, magnesite, and dolomite."
   ]
  },
  {
   "cell_type": "markdown",
   "metadata": {},
   "source": [
    "With this partial equilibrium assumption, there is no need to specify kinetic rate laws for the fast-reacting\n",
    "equilibrium species. For these species, chemical equilibrium calculations are performed to update their amounts as the\n",
    "amounts of each kinetic species change over time (i.e., the equilibrium species react instantaneously to a new\n",
    "state of equilibrium as the kinetic species react and perturb the current partial equilibrium state)."
   ]
  },
  {
   "cell_type": "markdown",
   "metadata": {},
   "source": [
    "Thus, we only need to define kinetic rates for the relatively slow-reacting carbonate minerals (our kinetic species\n",
    "in this simulation), which is shown below"
   ]
  },
  {
   "cell_type": "code",
   "execution_count": null,
   "metadata": {},
   "outputs": [],
   "source": [
    "editor.addMineralReaction(\"Calcite\") \\\n",
    "    .setEquation(\"Calcite = Ca++ + CO3--\") \\\n",
    "    .addMechanism(\"logk = -5.81 mol/(m2*s); Ea = 23.5 kJ/mol\") \\\n",
    "    .addMechanism(\"logk = -0.30 mol/(m2*s); Ea = 14.4 kJ/mol; a[H+] = 1.0\") \\\n",
    "    .setSpecificSurfaceArea(10, \"cm2/g\")"
   ]
  },
  {
   "cell_type": "code",
   "execution_count": null,
   "metadata": {},
   "outputs": [],
   "source": [
    "editor.addMineralReaction(\"Magnesite\") \\\n",
    "    .setEquation(\"Magnesite = Mg++ + CO3--\") \\\n",
    "    .addMechanism(\"logk = -9.34 mol/(m2*s); Ea = 23.5 kJ/mol\") \\\n",
    "    .addMechanism(\"logk = -6.38 mol/(m2*s); Ea = 14.4 kJ/mol; a[H+] = 1.0\") \\\n",
    "    .setSpecificSurfaceArea(10, \"cm2/g\")"
   ]
  },
  {
   "cell_type": "code",
   "execution_count": null,
   "metadata": {},
   "outputs": [],
   "source": [
    "editor.addMineralReaction(\"Dolomite\") \\\n",
    "    .setEquation(\"Dolomite = Ca++ + Mg++ + 2*CO3--\") \\\n",
    "    .addMechanism(\"logk = -7.53 mol/(m2*s); Ea = 52.2 kJ/mol\") \\\n",
    "    .addMechanism(\"logk = -3.19 mol/(m2*s); Ea = 36.1 kJ/mol; a[H+] = 0.5\") \\\n",
    "    .setSpecificSurfaceArea(10, \"cm2/g\")"
   ]
  },
  {
   "cell_type": "markdown",
   "metadata": {},
   "source": [
    "We set the equation of each mineral reaction using method `setEquation` of class\n",
    "[MineralReaction](https://reaktoro.org/cpp/classReaktoro_1_1MineralReaction.html)."
   ]
  },
  {
   "cell_type": "markdown",
   "metadata": {},
   "source": [
    "We then prescribe neutral and acidic mechanisms for each mineral reaction using the method ``addMechanism`` of class\n",
    "[MineralMechanism](https://reaktoro.org/cpp/structReaktoro_1_1MineralMechanism.html). We set values for ``logk``,\n",
    "the kinetic rate constant of the reaction in log scale, and ``Ea``, the Arrhenius activation energy. The units of\n",
    "both parameters must be provided as shown in the example, and other compatible units are allowed."
   ]
  },
  {
   "cell_type": "markdown",
   "metadata": {},
   "source": [
    "Finally, we define the specific surface area of the mineral using method `setSpecificSurfaceArea` of class\n",
    "[MineralReaction](https://reaktoro.org/cpp/classReaktoro_1_1MineralReaction.html). Any units compatible to `m2/kg`\n",
    "or `m2/m3` are allowed (e.g., ``cm2/g``, ``mm2/mm3``)."
   ]
  },
  {
   "cell_type": "markdown",
   "metadata": {},
   "source": [
    "### Creating the chemical and reaction systems"
   ]
  },
  {
   "cell_type": "markdown",
   "metadata": {},
   "source": [
    "Create instances of\n",
    "[ChemicalSystem](https://reaktoro.org/cpp/classReaktoro_1_1ChemicalSystem.html) and\n",
    "[ReactionSystem](https://reaktoro.org/cpp/classReaktoro_1_1ReactionSystem.html)."
   ]
  },
  {
   "cell_type": "code",
   "execution_count": null,
   "metadata": {},
   "outputs": [],
   "source": [
    "system = ChemicalSystem(editor)\n",
    "reactions = ReactionSystem(editor)"
   ]
  },
  {
   "cell_type": "markdown",
   "metadata": {},
   "source": [
    "Class [ChemicalSystem](https://reaktoro.org/cpp/classReaktoro_1_1ChemicalSystem.html) is used to represent a\n",
    "chemical system, containing one or more phases  (in this problem, aqueous, gaseous, and mineral phases). Each\n",
    "phase can contain one or more species (the aqueous phase includes many aqueous species, the gaseous phase two,\n",
    "and each mineral phase containing a single mineral species with the same name as the name of the phase). This class\n",
    "is also used to calculate the thermodynamic properties of the phases and species (standard thermodynamic properties,\n",
    "activities, chemical potentials, phase molar volume, etc.)."
   ]
  },
  {
   "cell_type": "markdown",
   "metadata": {},
   "source": [
    "Class [ReactionSystem](https://reaktoro.org/cpp/classReaktoro_1_1ReactionSystem.html) is a collection of\n",
    "[Reaction](https://reaktoro.org/cpp/classReaktoro_1_1Reaction.html) objects used to represent a system of chemical\n",
    "reactions that are controlled by chemical kinetics. These classes provide convenient methods for the calculation of\n",
    "equilibrium constants, reaction quotients, and rates of the reactions."
   ]
  },
  {
   "cell_type": "markdown",
   "metadata": {},
   "source": [
    "### Specifying equilibrium and kinetic species"
   ]
  },
  {
   "cell_type": "markdown",
   "metadata": {},
   "source": [
    "In Reaktoro, the species in a chemical system can be partitioned into groups of:\n",
    "*equilibrium species*, *kinetic species*, and *inert species*."
   ]
  },
  {
   "cell_type": "markdown",
   "metadata": {},
   "source": [
    "For the *equilibrium species*, their amounts are governed by chemical equilibrium (calculated via a Gibbs energy\n",
    "minimization). The amount of *kinetic species* are controlled by chemical kinetics (by solving a system of ordinary\n",
    "differential equations that models the kinetics of a system of reactions). The *inert species* maintain their\n",
    "amounts constant in all chemical equilibrium or kinetics calculations."
   ]
  },
  {
   "cell_type": "markdown",
   "metadata": {},
   "source": [
    "This classification of species can be done using class\n",
    "[Partition](https://reaktoro.org/cpp/classReaktoro_1_1Partition.html). By default, all species are considered to\n",
    "be equilibrium species in this class. Thus, we only need to specify which are kinetic ones:"
   ]
  },
  {
   "cell_type": "code",
   "execution_count": null,
   "metadata": {},
   "outputs": [],
   "source": [
    "partition = Partition(system)\n",
    "partition.setKineticSpecies([\"Calcite\", \"Magnesite\", \"Dolomite\"])"
   ]
  },
  {
   "cell_type": "markdown",
   "metadata": {},
   "source": [
    "In this case, the mineral species calcite, magnesite, and dolomite are specified to be *kinetic species* using\n",
    "method `setKineticSpecies` of class [Partition](https://reaktoro.org/cpp/classReaktoro_1_1Partition.html)."
   ]
  },
  {
   "cell_type": "markdown",
   "metadata": {},
   "source": [
    "Method `setKineticPhases` of class [Partition](https://reaktoro.org/cpp/classReaktoro_1_1Partition.html) could also\n",
    "be used here. This method sets all species in the given phases to be kinetic species, and it is more convenient if\n",
    "a phase has many species. However, since each of the mineral phases considered here only contains a single mineral\n",
    "species, the method `setKineticSpecies` is a convenient alternative."
   ]
  },
  {
   "cell_type": "markdown",
   "metadata": {},
   "source": [
    "### Defining the initial state of the equilibrium species"
   ]
  },
  {
   "cell_type": "markdown",
   "metadata": {},
   "source": [
    "In a chemical kinetics calculation, an *initial condition* is needed for the amounts of both equilibrium and\n",
    "kinetic species."
   ]
  },
  {
   "cell_type": "markdown",
   "metadata": {},
   "source": [
    "The equilibrium problem formulated below, using class\n",
    "[EquilibriumProblem](https://reaktoro.org/cpp/classReaktoro_1_1EquilibriumProblem.html), is done so that the\n",
    "initial condition for the amounts of each equilibrium species result from the solution of a chemical equilibrium\n",
    "problem in which 1 kg of water is mixed with 1 mol of $\\mathrm{NaCl}$ and 1 mol of $\\mathrm{CO_2}$ at 60 $^\\circ$C\n",
    "and 100 bar. This amount of $\\mathrm{CO_2}$ is sufficient to saturate the brine solution. The excess will exist in\n",
    "the $\\mathrm{CO_2}$-rich gaseous phase."
   ]
  },
  {
   "cell_type": "code",
   "execution_count": null,
   "metadata": {},
   "outputs": [],
   "source": [
    "problem = EquilibriumProblem(system)\n",
    "problem.setPartition(partition)\n",
    "problem.setTemperature(60, \"celsius\")\n",
    "problem.setPressure(100, \"bar\")\n",
    "problem.add(\"H2O\", 1, \"kg\")\n",
    "problem.add(\"NaCl\", 1, \"mol\")\n",
    "problem.add(\"CO2\", 1, \"mol\")"
   ]
  },
  {
   "cell_type": "markdown",
   "metadata": {},
   "source": [
    "*Note:* To ensure that the equilibrium calculation performed in the next step ignores the kinetic species in the\n",
    "system so that we maintain a disequilibrium state between equilibrium and kinetic species, it is important not to\n",
    "forget to call `setPartition(partition)` method. Ignoring this step will produce an initial condition for the\n",
    "amounts of equilibrium and kinetic species that correspond to a complete equilibrium state in the system so that no\n",
    "kinetics calculation makes sense afterwards."
   ]
  },
  {
   "cell_type": "markdown",
   "metadata": {},
   "source": [
    "### Calculating the initial amounts of the equilibrium species"
   ]
  },
  {
   "cell_type": "markdown",
   "metadata": {},
   "source": [
    "We now use the convenient `equilibrate` function to calculate the amounts of the equilibrium species by minimizing\n",
    "the Gibbs energy of the equilibrium partition only, and not of the entire system. The result is stored in the\n",
    "object `state0` of class [ChemicalState](https://reaktoro.org/cpp/classReaktoro_1_1ChemicalState.html),\n",
    "a computational representation of the state of a multiphase chemical system defined by its temperature (*T*),\n",
    "pressure (*P*), and vector of species amounts (*n*). We then output this chemical state to a file."
   ]
  },
  {
   "cell_type": "markdown",
   "metadata": {},
   "source": [
    "### Setting the initial mass of minerals"
   ]
  },
  {
   "cell_type": "markdown",
   "metadata": {},
   "source": [
    "We have now to prescribe the initial amounts of the kinetic species (i.e., the carbonate minerals). This is done\n",
    "below by setting the initial mass of calcite to 100 g and of dolomite to 50 g. The initial amount of magnesite is\n",
    "zero."
   ]
  },
  {
   "cell_type": "code",
   "execution_count": null,
   "metadata": {},
   "outputs": [],
   "source": [
    "state0 = equilibrate(problem)\n",
    "state0.output('demo-kineticpath-carbonates-co2-before-kinetics.txt')"
   ]
  },
  {
   "cell_type": "code",
   "execution_count": null,
   "metadata": {},
   "outputs": [],
   "source": [
    "state0.setSpeciesMass(\"Calcite\", 100, \"g\")\n",
    "state0.setSpeciesMass(\"Dolomite\", 50, \"g\")"
   ]
  },
  {
   "cell_type": "markdown",
   "metadata": {},
   "source": [
    "### Setting the kinetic path calculations"
   ]
  },
  {
   "cell_type": "markdown",
   "metadata": {},
   "source": [
    "To be able to simulate of the kinetic process of mineral dissolution/precipitation, we introduce the\n",
    "instance of the class [KineticPath](https://reaktoro.org/cpp/classReaktoro_1_1KineticPath.html) that enables this\n",
    "functionality. The instance of kinetic path solver is provided with the partition to the equilibrium, kinetic,\n",
    "and inert species defined above."
   ]
  },
  {
   "cell_type": "code",
   "execution_count": null,
   "metadata": {},
   "outputs": [],
   "source": [
    "path = KineticPath(reactions)\n",
    "path.setPartition(partition)"
   ]
  },
  {
   "cell_type": "markdown",
   "metadata": {},
   "source": [
    "**Note**: For repeated chemical kinetics calculations (e.g., in a reactive transport simulation, where kinetics is\n",
    "performed for each mesh cell/node), consider using the class\n",
    "[KineticSolver](https://reaktoro.org/cpp/classReaktoro_1_1KineticSolver.html) instead for avoiding some overhead of\n",
    "class [KineticPath](https://reaktoro.org/cpp/classReaktoro_1_1KineticPath.html). For equilibrium calculations,\n",
    "consider also the class [EquilibriumSolver](https://reaktoro.org/cpp/classReaktoro_1_1EquilibriumSolver.html),\n",
    "instead of method `equilibrate`, for similar reasons."
   ]
  },
  {
   "cell_type": "markdown",
   "metadata": {},
   "source": [
    "To analyse the result of kinetic simulations, we save the evolution of different properties of the chemical system\n",
    "into file `result.txt`:"
   ]
  },
  {
   "cell_type": "code",
   "execution_count": null,
   "metadata": {},
   "outputs": [],
   "source": [
    "output = path.output()\n",
    "output.filename(\"results.txt\")\n",
    "output.add(\"time(units=minute)\")\n",
    "output.add(\"pH\")\n",
    "output.add(\"elementMolality(Ca units=mmolal)\", \"Ca [mmolal]\")\n",
    "output.add(\"elementMolality(Mg units=mmolal)\", \"Mg [mmolal]\")\n",
    "output.add(\"phaseMass(Calcite units=g)\", \"Calcite [units=g]\")\n",
    "output.add(\"phaseMass(Dolomite units=g)\", \"Dolomite [units=g]\")"
   ]
  },
  {
   "cell_type": "markdown",
   "metadata": {},
   "source": [
    "**Note**: A list of all possible quantities that can be plotted is shown in the class\n",
    "[ChemicalQuantity](https://reaktoro.org/cpp/classReaktoro_1_1ChemicalQuantity.html), which provides an interface\n",
    "for convenient ways of their retrieval."
   ]
  },
  {
   "cell_type": "markdown",
   "metadata": {},
   "source": [
    "To perform the calculation of kinetic path, we need to provide time interval, on which this path must be recovered. In\n",
    "this case, we choose 25 hours of simulations. Initial chemical state provided by the instance `state0`, as well as\n",
    "the time interval with units, in which time is measured, are given with a call of function `solve`."
   ]
  },
  {
   "cell_type": "code",
   "execution_count": null,
   "metadata": {},
   "outputs": [],
   "source": [
    "t0, t1 = 0.0, 25.0\n",
    "path.solve(state0, t0, t1, \"hours\")\n",
    "state0.output('demo-kineticpath-carbonates-co2-after-kinetics.txt')"
   ]
  },
  {
   "cell_type": "markdown",
   "metadata": {},
   "source": [
    "### Plotting the results of equilibrium path calculation\n",
    "\n",
    "The best way to visually analyze the obtained reaction path is with plots. For that, we export python plotting\n",
    "package `matplotlib` and `numpy`, the fundamental package for scientific computing with Python."
   ]
  },
  {
   "cell_type": "code",
   "execution_count": null,
   "metadata": {},
   "outputs": [],
   "source": [
    "import matplotlib.pyplot as plt\n",
    "import numpy as np"
   ]
  },
  {
   "cell_type": "markdown",
   "metadata": {},
   "source": [
    "To load results from the outputfile, we use `loadtxt` function provided by the `numpy` package:"
   ]
  },
  {
   "cell_type": "code",
   "execution_count": null,
   "metadata": {},
   "outputs": [],
   "source": [
    "filearray = np.loadtxt(\"results.txt\", skiprows=1)\n",
    "data = filearray.T\n",
    "time = data[0, :]\n",
    "[ph_indx, ca_elem_indx, mg_elem_indx, calcite_indx, dolomite_indx] = np.arange(1, 6)"
   ]
  },
  {
   "cell_type": "markdown",
   "metadata": {},
   "source": [
    "The plots below depict different chemical properties (x-axis) with respect to the time interval of the kinetic\n",
    "simulation (y-axis):"
   ]
  },
  {
   "cell_type": "code",
   "execution_count": null,
   "metadata": {},
   "outputs": [],
   "source": [
    "plt.figure()\n",
    "plt.plot(time, data[ph_indx], label=\"pH\")\n",
    "plt.xlabel(\"time\")\n",
    "plt.ylabel(\"pH\")\n",
    "plt.legend(loc='center right')\n",
    "plt.savefig(\"ph-vs-time.png\")"
   ]
  },
  {
   "cell_type": "code",
   "execution_count": null,
   "metadata": {},
   "outputs": [],
   "source": [
    "plt.figure()\n",
    "plt.plot(time, data[ca_elem_indx], label=\"Ca\")\n",
    "plt.plot(time, data[mg_elem_indx], label=\"Mg\")\n",
    "plt.xlabel(\"time\")\n",
    "plt.ylabel(\"Molality [mmolal]\")\n",
    "plt.legend(loc='center right')\n",
    "plt.savefig(\"molality-ca-mg-vs-time.png\")"
   ]
  },
  {
   "cell_type": "code",
   "execution_count": null,
   "metadata": {},
   "outputs": [],
   "source": [
    "plt.figure()\n",
    "plt.plot(time, data[calcite_indx], label=\"Calcite\")\n",
    "plt.xlabel(\"time\")\n",
    "plt.ylabel(\"Mass of Calcite [g]\")\n",
    "plt.legend(loc='center right')\n",
    "plt.savefig(\"mass-calcite-vs-time.png\")"
   ]
  },
  {
   "cell_type": "code",
   "execution_count": null,
   "metadata": {},
   "outputs": [],
   "source": [
    "plt.figure()\n",
    "plt.plot(time, data[dolomite_indx], label=\"Dolomite\")\n",
    "plt.xlabel(\"time\")\n",
    "plt.ylabel(\"Mass of Dolomite [g]\")\n",
    "plt.legend(loc='center right')\n",
    "plt.savefig(\"mass-dolomite-vs-time.png\")"
   ]
  }
 ],
 "metadata": {},
 "nbformat": 4,
 "nbformat_minor": 4
}
