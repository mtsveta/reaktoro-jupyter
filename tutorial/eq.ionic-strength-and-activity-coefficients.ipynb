{
 "cells": [
  {
   "cell_type": "markdown",
   "metadata": {},
   "source": [
    "# Calculation of ionic strength and activity coefficients of aqueous species\n",
    "\n",
    "In this tutorial, we explain how to access the ionic strength of the equilibrium state as well as clarify how it\n",
    "can be calculated manually by accessing specific properties of the chemical state. We also calculate the activity\n",
    "coefficients of aqueous species and solvent water.\n",
    "\n",
    "First, we import all the required python packages:"
   ]
  },
  {
   "cell_type": "code",
   "execution_count": null,
   "metadata": {},
   "outputs": [],
   "source": [
    "from reaktoro import *\n",
    "import numpy as np\n",
    "from math import *"
   ]
  },
  {
   "cell_type": "markdown",
   "metadata": {},
   "source": [
    "Define database, initialize phases with chemical editor, and create chemical system:"
   ]
  },
  {
   "cell_type": "code",
   "execution_count": null,
   "metadata": {},
   "outputs": [],
   "source": [
    "database = Database(\"supcrt98.xml\")\n",
    "editor = ChemicalEditor(database)\n",
    "editor.addAqueousPhaseWithElements(\"H O C Na Cl Ca\")\n",
    "editor.addGaseousPhase([\"H2O(g)\"])\n",
    "system = ChemicalSystem(editor)\n",
    "print(system)"
   ]
  },
  {
   "cell_type": "markdown",
   "metadata": {},
   "source": [
    "Set thermodynamic conditions:"
   ]
  },
  {
   "cell_type": "code",
   "execution_count": null,
   "metadata": {},
   "outputs": [],
   "source": [
    "T = 25 # in celsius\n",
    "P = 1 # in bar"
   ]
  },
  {
   "cell_type": "markdown",
   "metadata": {},
   "source": [
    "First problem simulates mixing sodium chlorite with water:"
   ]
  },
  {
   "cell_type": "code",
   "execution_count": null,
   "metadata": {},
   "outputs": [],
   "source": [
    "problem1 = EquilibriumProblem(system)\n",
    "problem1.setTemperature(T, \"celsius\")\n",
    "problem1.setPressure(P, \"bar\")\n",
    "problem1.add(\"H2O\", 1.0, \"kg\")\n",
    "problem1.add(\"NaCl\", 1.0, \"mol\")"
   ]
  },
  {
   "cell_type": "markdown",
   "metadata": {},
   "source": [
    "The second one demonstrates experiment of mixing water with CaCl<sub>2</sub>:"
   ]
  },
  {
   "cell_type": "code",
   "execution_count": null,
   "metadata": {},
   "outputs": [],
   "source": [
    "problem2 = EquilibriumProblem(system)\n",
    "problem2.setTemperature(T, \"celsius\")\n",
    "problem2.setPressure(P, \"bar\")\n",
    "problem2.add(\"H2O\", 1.0, \"kg\")\n",
    "problem2.add(\"CaCl2\", 1, \"mol\")"
   ]
  },
  {
   "cell_type": "markdown",
   "metadata": {},
   "source": [
    "Equilibration of the water mixed 1 mol of sodium chlorite and water mixed with 1 mol of CaCl<sub>2</sub> results into\n",
    "the following two states:"
   ]
  },
  {
   "cell_type": "code",
   "execution_count": null,
   "metadata": {},
   "outputs": [],
   "source": [
    "state1 = equilibrate(problem1)\n",
    "state2 = equilibrate(problem2)"
   ]
  },
  {
   "cell_type": "markdown",
   "metadata": {},
   "source": [
    "To evaluate the ionic strength, we need to define a corresponding function `ionic_strength()`"
   ]
  },
  {
   "cell_type": "code",
   "execution_count": null,
   "metadata": {},
   "outputs": [],
   "source": [
    "ionic_strength = ChemicalProperty.ionicStrength(system)\n",
    "I1 = ionic_strength(state1.properties()).val\n",
    "I2 = ionic_strength(state2.properties()).val\n",
    "\n",
    "print(f\"Ionic strength of state1 is {I1:f} molal\")\n",
    "print(f\"Ionic strength of state2 is {I2:f} molal\")"
   ]
  },
  {
   "cell_type": "markdown",
   "metadata": {},
   "source": [
    "We see that the ionic strength of the second mix is higher, which can be explained by the fact that CaCl<sub>2</sub>\n",
    "contains two ions of Cl<sup>-</sup>.\n",
    "\n",
    "## Calculating the ionic strength\n",
    "\n",
    "Below, we explain, which information one needs to fetch from chemical state to be able to calcualte ionic strenght. \\\n",
    "First, let us fix the molality of 1 kg of solvent water (where 18.0154 * 1e-3 kg/mol is a molar mass of water):"
   ]
  },
  {
   "cell_type": "code",
   "execution_count": null,
   "metadata": {},
   "outputs": [],
   "source": [
    "mw_h2o = 1 / 18.0154 / 1e-3\n",
    "print(f\"mw_h2o = {mw_h2o:f} molal\")"
   ]
  },
  {
   "cell_type": "markdown",
   "metadata": {},
   "source": [
    "Next we collect the list of species and their amounts in the chemical system:"
   ]
  },
  {
   "cell_type": "code",
   "execution_count": null,
   "metadata": {},
   "outputs": [],
   "source": [
    "species = system.species()\n",
    "n2 = state2.speciesAmounts()"
   ]
  },
  {
   "cell_type": "markdown",
   "metadata": {},
   "source": [
    "Since out of two phases (aqueous and gaseous) we need to consider only species from the aqueous phase,\n",
    "we fetch indices of the aqueous species."
   ]
  },
  {
   "cell_type": "code",
   "execution_count": null,
   "metadata": {},
   "outputs": [],
   "source": [
    "indx_aqueous_phase = system.indexPhase(\"Aqueous\")\n",
    "indx_gaseous_phase = system.indexPhase(\"Gaseous\")\n",
    "indx_aqueous_species = system.indicesSpeciesInPhases([indx_aqueous_phase])\n",
    "indx_all_species = system.indicesSpeciesInPhases([indx_aqueous_phase, indx_gaseous_phase])\n",
    "print(f\"Indices of aq. species:\", indx_aqueous_species)\n",
    "print(f\"Indices of all species:\", indx_all_species)"
   ]
  },
  {
   "cell_type": "markdown",
   "metadata": {},
   "source": [
    "We see that the difference between these two lists is only in the last index.\n",
    "\n",
    "Out the list `species` (with all species), we collect lists of only aqueous species, their amounts, names, and\n",
    "corresponding charges:"
   ]
  },
  {
   "cell_type": "code",
   "execution_count": null,
   "metadata": {},
   "outputs": [],
   "source": [
    "species_aq = [species[i] for i in indx_aqueous_species]\n",
    "n2_aq = [n2[i] for i in indx_aqueous_species]\n",
    "names_aq = [species.name() for species in species_aq]\n",
    "z_aq = [species.charge() for species in species_aq]"
   ]
  },
  {
   "cell_type": "markdown",
   "metadata": {},
   "source": [
    "Amount of the water is obtained by:"
   ]
  },
  {
   "cell_type": "code",
   "execution_count": null,
   "metadata": {},
   "outputs": [],
   "source": [
    "n_h2o = state2.speciesAmount(\"H2O(l)\")"
   ]
  },
  {
   "cell_type": "markdown",
   "metadata": {},
   "source": [
    "Next, we calculate the molalities of aqueous species and print their names, charges, and molalities:"
   ]
  },
  {
   "cell_type": "code",
   "execution_count": null,
   "metadata": {},
   "outputs": [],
   "source": [
    "m_aq = mw_h2o * np.divide(n2_aq, n_h2o)\n",
    "print(f\"   Species : charge, molalities\")\n",
    "for name, Z, m in zip(names_aq, z_aq, m_aq):\n",
    "    print(f\"{name:>10} : {Z:6.0f}, {m:6.2e} molal\")"
   ]
  },
  {
   "cell_type": "markdown",
   "metadata": {},
   "source": [
    "The ionic strength can be calculated by:"
   ]
  },
  {
   "cell_type": "code",
   "execution_count": null,
   "metadata": {},
   "outputs": [],
   "source": [
    "I2 = 1/2 * sum([m * Z**2 for m, Z in zip(m_aq, z_aq)])\n",
    "print(f\"Ionic strength of state2 is {I2:f} molal (calculated manually)\")"
   ]
  },
  {
   "cell_type": "markdown",
   "metadata": {},
   "source": [
    "## Calculating the activity coefficients for aqueous ionic species (Davis model)\n",
    "\n",
    "Calculating and outputting the activity coefficients for aqueous ionic species is done by:"
   ]
  },
  {
   "cell_type": "code",
   "execution_count": null,
   "metadata": {},
   "outputs": [],
   "source": [
    "A_gamma = 0.5095\n",
    "gammas = [10**(-A_gamma * z**2 * (sqrt(I2) / (1 + sqrt(I2)) - 0.3 * I2)) for z in z_aq]\n",
    "print(f\"   Species : Activity coefficients\")\n",
    "for name, gamma in zip(names_aq, gammas):\n",
    "    print(f\"{name:>10} : {gamma:2.4f}\")"
   ]
  },
  {
   "cell_type": "markdown",
   "metadata": {},
   "source": [
    "We see that many of the activity coefficients are away from $\\gamma_i$ = 1 (which corresponds to an ideal solution).\n",
    "\n",
    "## Calculating activity of the water solvent\n",
    "\n",
    "To calculate the activity of the water solvent, we need fractions of the species, which are stored in the class\n",
    "[ChemicalProperties](https://reaktoro.org/cpp/classReaktoro_1_1ChemicalProperties.html) accessed from chemical\n",
    "state by the method `properties()`."
   ]
  },
  {
   "cell_type": "code",
   "execution_count": null,
   "metadata": {},
   "outputs": [],
   "source": [
    "properties = state2.properties()\n",
    "fractions = properties.moleFractions().val"
   ]
  },
  {
   "cell_type": "markdown",
   "metadata": {},
   "source": [
    "Let us output only those species that have fractions bigger then machine precision (set here to 10<sup>-16</sup>):"
   ]
  },
  {
   "cell_type": "code",
   "execution_count": null,
   "metadata": {},
   "outputs": [],
   "source": [
    "machine_precision = 1e-16\n",
    "print(f\"   Species : Mole fractions\")\n",
    "for name, x in zip(names_aq, fractions):\n",
    "    if x > machine_precision:\n",
    "        print(f\"{name:>10} : {x:6.4e}\")"
   ]
  },
  {
   "cell_type": "markdown",
   "metadata": {},
   "source": [
    "We see that solvent water possesses the biggest fraction as well as CaCl<sub>2</sub>(aq) and ions Ca<sup>2+</sup>,\n",
    "CaCl<sup>+</sup>, and Cl<sup>-</sup> (caused by addition of CaCl<sub>2</sub> to the water). The fraction of solvent\n",
    "water\n",
    "can be accessed via index of this species:"
   ]
  },
  {
   "cell_type": "code",
   "execution_count": null,
   "metadata": {},
   "outputs": [],
   "source": [
    "indx_h2o = system.indexSpecies(\"H2O(l)\")\n",
    "x_h2o = fractions[indx_h2o]\n",
    "print(f\"Index of the water solvent is {indx_h2o}\")\n",
    "print(f\"Fraction of the water solvent is {x_h2o:6.4f}\")"
   ]
  },
  {
   "cell_type": "markdown",
   "metadata": {},
   "source": [
    "Finally, we calculate activity coefficient of solvent water by:"
   ]
  },
  {
   "cell_type": "code",
   "execution_count": null,
   "metadata": {},
   "outputs": [],
   "source": [
    "ln10 = numpy.log(10.0)\n",
    "sqrtI2 = numpy.sqrt(I2)\n",
    "gamma_h2o_davis = exp(ln10/55.5084*A_gamma*(2*(I2 + 2*sqrtI2)/(1 + sqrtI2) - 4 * numpy.log(1 + sqrtI2) - 0.3 * I2**2)\n",
    "                      - (1 - x_h2o)/x_h2o)\n",
    "gamma_h2o_ideal = exp(- (1 - x_h2o)/x_h2o)\n",
    "print(f\"Activity coefficient of water solvent (Davis model) is {gamma_h2o_davis:6.4f}\")\n",
    "print(f\"Activity coefficient of water solvent (ideal model) is {gamma_h2o_ideal:6.4f}\")"
   ]
  }
 ],
 "metadata": {},
 "nbformat": 4,
 "nbformat_minor": 4
}
