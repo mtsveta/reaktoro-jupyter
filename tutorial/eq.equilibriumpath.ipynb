{
 "cells": [
  {
   "cell_type": "markdown",
   "metadata": {},
   "source": [
    "# Performing calculation of reaction path using Reaktoro\n",
    "\n",
    "In this tutorial, we demonstrate how to calculate a reaction path between two different chemical states in\n",
    "equilibrium, which we refer to as *initial state* and *final state*.\n",
    "These states can have different temperatures, pressures, and/or molar amounts of elements. If we gradually adjust\n",
    "temperature, pressure, and elemental amounts in the system to bring the initial state to the final state, slowly\n",
    "enough so that **every intermediate state is in equilibrium**, the system would trace a co-called *reaction path*.\n",
    "\n",
    "Let the initial state have 1 g of calcite (CaCO<sub>3</sub>) mixed with 1 kg of water. We want to see how the\n",
    "addition of\n",
    "hydrochloric acid (HCl), up to 1 mmol, contributes to the dissolution of calcite. Thus, our initial and final\n",
    "states for a reaction path calculation can be described as follows:\n",
    "\n",
    "| Initial state  | Final state    |\n",
    "|----------------|----------------|\n",
    "| 1 kg of H2O    | 1 kg of H2O    |\n",
    "| 1 g of CaCO3   | 1 g of CaCO3   |\n",
    "| <p></p>        | 1 mmol of HCl  |\n",
    "\n",
    "As usual, we start by importing the `reaktoro` package:"
   ]
  },
  {
   "cell_type": "code",
   "execution_count": null,
   "metadata": {},
   "outputs": [],
   "source": [
    "from reaktoro import *"
   ]
  },
  {
   "cell_type": "markdown",
   "metadata": {},
   "source": [
    "Note that the object `editor` from class\n",
    "[ChemicalEditor](https://reaktoro.org/cpp/classReaktoro_1_1ChemicalEditor.html) was not initialized with a given\n",
    "[Database](https://reaktoro.org/cpp/classReaktoro_1_1Database.html) object. Instead, it is initialized using the\n",
    "default built-in database file\n",
    "[supcrt98.xml](https://github.com/reaktoro/reaktoro/blob/master/databases/supcrt/supcrt98.xml)."
   ]
  },
  {
   "cell_type": "code",
   "execution_count": null,
   "metadata": {},
   "outputs": [],
   "source": [
    "editor = ChemicalEditor()"
   ]
  },
  {
   "cell_type": "markdown",
   "metadata": {},
   "source": [
    "For the aqueous phases, we list the chemical elements composing the phase instead of the exact names of species.\n",
    "Class [ChemicalEditor](https://reaktoro.org/cpp/classReaktoro_1_1ChemicalEditor.html) searches for all species in\n",
    "the database that can be formed by those elements. Only species corresponding to the phase-type are selected\n",
    "(e.g., only aqueous species are searched in the current case)."
   ]
  },
  {
   "cell_type": "code",
   "execution_count": null,
   "metadata": {},
   "outputs": [],
   "source": [
    "editor.addAqueousPhaseWithElements(\"H O Ca C Cl\")\n",
    "editor.addMineralPhase(\"Calcite\")\n",
    "\n",
    "system = ChemicalSystem(editor)"
   ]
  },
  {
   "cell_type": "markdown",
   "metadata": {},
   "source": [
    "In the code below, two instances of the class\n",
    "[EquilibriumProblem](https://reaktoro.org/cpp/classReaktoro_1_1EquilibriumProblem.html) are created:\n",
    "`initial_problem` describes the initial state, and `final_problem` corresponds to the final state."
   ]
  },
  {
   "cell_type": "code",
   "execution_count": null,
   "metadata": {},
   "outputs": [],
   "source": [
    "initial_problem = EquilibriumProblem(system)\n",
    "initial_problem.setTemperature(30.0, \"celsius\")\n",
    "initial_problem.setPressure(1.0, \"bar\")\n",
    "initial_problem.add(\"H2O\", 1, \"kg\")\n",
    "initial_problem.add(\"CaCO3\", 1, \"g\")\n",
    "\n",
    "final_problem = EquilibriumProblem(system)\n",
    "final_problem.setTemperature(30.0, \"celsius\")\n",
    "final_problem.setPressure(1.0, \"bar\")\n",
    "final_problem.add(\"H2O\", 1, \"kg\")\n",
    "final_problem.add(\"CaCO3\", 1, \"g\")\n",
    "final_problem.add(\"HCl\", 1, \"mmol\")"
   ]
  },
  {
   "cell_type": "markdown",
   "metadata": {},
   "source": [
    "Two instances of the class [ChemicalState](https://reaktoro.org/cpp/classReaktoro_1_1ChemicalState.html) are created\n",
    "to store the initial and final equilibrium states calculated by the method\n",
    "[equilibrate](https://reaktoro.org/cpp/namespaceReaktoro.html#af2d3b39d3e0b8f9cb5a4d9bbb06b697e)."
   ]
  },
  {
   "cell_type": "code",
   "execution_count": null,
   "metadata": {},
   "outputs": [],
   "source": [
    "initial_state = equilibrate(initial_problem)\n",
    "final_state = equilibrate(final_problem)"
   ]
  },
  {
   "cell_type": "markdown",
   "metadata": {},
   "source": [
    "Once the initial and final equilibrium states have been calculated, it is now time to trace the reaction path\n",
    "between them, with each intermediate state in chemical equilibrium. For this, we use the class\n",
    "[EquilibriumPath](https://reaktoro.org/cpp/classReaktoro_1_1EquilibriumPath.html). Note that its initialization\n",
    "requires a [ChemicalSystem](https://reaktoro.org/cpp/classReaktoro_1_1ChemicalSystem.html) instance:"
   ]
  },
  {
   "cell_type": "code",
   "execution_count": null,
   "metadata": {},
   "outputs": [],
   "source": [
    "path = EquilibriumPath(system)"
   ]
  },
  {
   "cell_type": "markdown",
   "metadata": {},
   "source": [
    "Before calling the method\n",
    "[EquilibriumPath::solve](https://reaktoro.org/cpp/classReaktoro_1_1EquilibriumPath.html#a008b74301618ed186caa95ec059eb204)\n",
    ", one can configure output-file to be generated during the calculation.\n",
    "To output quantities to a file or terminal during the calculation, use method\n",
    "[EquilibriumPath::output](https://reaktoro.org/cpp/classReaktoro_1_1EquilibriumPath.html#ac700ac6f939acbd4a8524e1346a1e588),\n",
    "which returns an instance of class [ChemicalOutput](https://reaktoro.org/cpp/classReaktoro_1_1ChemicalOutput.html):"
   ]
  },
  {
   "cell_type": "code",
   "execution_count": null,
   "metadata": {},
   "outputs": [],
   "source": [
    "output = path.output()\n",
    "output.filename(\"result.txt\")\n",
    "output.add(\"elementAmount(Cl units=mmol)\", \"Cl [mmol]\")\n",
    "output.add(\"speciesMolality(CO2(aq) units=mmolal)\", \"CO2(aq) [mmol]\")\n",
    "output.add(\"speciesMolality(CO3-- units=mmolal)\", \"CO3-- [mmol]\")\n",
    "output.add(\"elementMolality(Ca units=mmolal)\", \"Ca [mmolal]\")\n",
    "output.add(\"pH\")\n",
    "output.add(\"speciesMass(Calcite units=g)\")"
   ]
  },
  {
   "cell_type": "markdown",
   "metadata": {},
   "source": [
    "The method [ChemicalOutput::add](https://reaktoro.org/cpp/classReaktoro_1_1ChemicalOutput.html#af3b5a7d6b0fbbc870664d6ad100b10dd)\n",
    "adds a quantity, which we want to be output to the file `result.txt`. The later filename is specified in the call of\n",
    "the method [ChemicalOutput::filename](https://reaktoro.org/cpp/classReaktoro_1_1ChemicalOutput.html#ac5cc9d0f90cfe5c6e0972a55b7f7bf5d).\n",
    "Each call to [ChemicalOutput::add](https://reaktoro.org/cpp/classReaktoro_1_1ChemicalOutput.html#af3b5a7d6b0fbbc870664d6ad100b10dd)\n",
    "results in a new column of data in the output file.\n",
    "\n",
    "> **Note**: When two arguments are provided to the method\n",
    "[ChemicalOutput::add](https://reaktoro.org/cpp/classReaktoro_1_1ChemicalOutput.html#a54b0e4fd28823c4d1d1884c32eed1cf3),\n",
    "the first one is the name of the quantity to be output (e.g.,\n",
    "`time`, `elementAmount(Cl)`, `ionicStrength`). The second one is a label used as the heading of the column of data\n",
    "in the output file. When only one argument is provided, this single argument is both the label and the quantity name.\n",
    "\n",
    "Finally, after output files have been configured, the equilibrium path can be calculated using:"
   ]
  },
  {
   "cell_type": "code",
   "execution_count": null,
   "metadata": {},
   "outputs": [],
   "source": [
    "path = path.solve(initial_state, final_state)"
   ]
  },
  {
   "cell_type": "markdown",
   "metadata": {},
   "source": [
    "### Plotting the results of equilibrium path calculation\n",
    "\n",
    "The best way to visually analyze the obtained reaction path is with plots. For that, we export python plotting\n",
    "package `matplotlib` and `numpy`, the fundamental package for scientific computing with Python."
   ]
  },
  {
   "cell_type": "code",
   "execution_count": null,
   "metadata": {},
   "outputs": [],
   "source": [
    "import matplotlib.pyplot as plt\n",
    "import numpy as np"
   ]
  },
  {
   "cell_type": "markdown",
   "metadata": {},
   "source": [
    "To load results from the outputfile, we use `loadtxt` function provided by the `numpy` package:"
   ]
  },
  {
   "cell_type": "code",
   "execution_count": null,
   "metadata": {},
   "outputs": [],
   "source": [
    "filearray = np.loadtxt(\"result.txt\", skiprows=1)\n",
    "data = filearray.T\n",
    "[cl_indx, co2aq_indx, co3_indx, ca_indx, ph_indx, calcite_indx] = np.arange(6)"
   ]
  },
  {
   "cell_type": "markdown",
   "metadata": {},
   "source": [
    "The first plot, depicts sets the amount of element Cl in units of mmol (on the *x*-axis) and the pH of\n",
    "the aqueous phase (on the *y*-axis):"
   ]
  },
  {
   "cell_type": "code",
   "execution_count": 29,
   "metadata": {},
   "outputs": [
    {
     "data": {
      "image/png": "[encoded data removed]",
      "text/plain": [
       "<Figure size 432x288 with 1 Axes>"
      ]
     },
     "metadata": {
      "needs_background": "light"
     },
     "output_type": "display_data"
    }
   ],
   "source": [
    "plt.figure()\n",
    "plt.plot(data[ph_indx], data[cl_indx], label=\"Cl\")\n",
    "plt.xlabel(\"pH\")\n",
    "plt.ylabel(\"Amount of Cl [mmol]\")\n",
    "plt.tight_layout()"
   ]
  },
  {
   "cell_type": "markdown",
   "metadata": {},
   "source": [
    "The second plot sets the *x*-axis to the amount of Cl from added HCl and\n",
    "the *y*-axis to the molality of element Ca, i.e., the molar amount of Ca **in the aqueous\n",
    "phase**, divided by the mass of solvent water H<sub>2</sub>O(l)."
   ]
  },
  {
   "cell_type": "code",
   "execution_count": null,
   "metadata": {},
   "outputs": [],
   "source": [
    "plt.figure()\n",
    "plt.plot(data[cl_indx], data[ca_indx], label=\"Ca\")\n",
    "plt.xlabel(\"Amount of Cl [mmol]\")\n",
    "plt.ylabel(\"Concentration of Ca [mmolal]\")\n",
    "plt.tight_layout()"
   ]
  },
  {
   "cell_type": "markdown",
   "metadata": {},
   "source": [
    "The third plot the *x*-axis to pH, but the *y*-axis now contains two plotted quantities: the molality of species\n",
    "CO<sub>2</sub>(aq) and the molality of species CO<sub>3</sub><sup>2-</sup>, both in units of mmolal (i.e., mmol/kg)."
   ]
  },
  {
   "cell_type": "code",
   "execution_count": null,
   "metadata": {},
   "outputs": [],
   "source": [
    "plt.figure()\n",
    "plt.plot(data[ph_indx], data[co2aq_indx], label=\"CO2(aq)\")\n",
    "plt.plot(data[ph_indx], data[co3_indx], label=\"CO3--\")\n",
    "plt.xlabel(\"pH\")\n",
    "plt.ylabel(\"Concentration [mmolal]\")\n",
    "plt.legend(loc='center right')\n",
    "plt.tight_layout()"
   ]
  },
  {
   "cell_type": "markdown",
   "metadata": {},
   "source": [
    "The fourth and last figure finally plots how the mass of calcite (or calcium carbonate) changes with the addition of\n",
    "HCl in the system:"
   ]
  },
  {
   "cell_type": "code",
   "execution_count": null,
   "metadata": {},
   "outputs": [],
   "source": [
    "plt.figure()\n",
    "plt.plot(data[cl_indx], data[calcite_indx], label=\"Calcite\")\n",
    "plt.xlabel(\"HCl [mmol]\")\n",
    "plt.ylabel(\"Mass [g]\")\n",
    "plt.legend(loc='center right')\n",
    "plt.tight_layout()"
   ]
  }
 ],
 "metadata": {
  "kernelspec": {
   "display_name": "Python 3",
   "language": "python",
   "name": "python3"
  },
  "language_info": {
   "codemirror_mode": {
    "name": "ipython",
    "version": 3
   },
   "file_extension": ".py",
   "mimetype": "text/x-python",
   "name": "python",
   "nbconvert_exporter": "python",
   "pygments_lexer": "ipython3",
   "version": "3.8.1"
  }
 },
 "nbformat": 4,
 "nbformat_minor": 4
}
