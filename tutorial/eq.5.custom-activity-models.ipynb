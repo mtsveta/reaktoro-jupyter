{
 "cells": [
  {
   "cell_type": "markdown",
   "metadata": {},
   "source": [
    "# Performing a chemical equilibrium calculation with customized activity models\n",
    "\n",
    "This tutorial demonstrates how to use Reaktoro to perform a chemical equilibrium calculation with customized activity\n",
    "models. We use an example of equilibration of  H<sub>2</sub>O-NaCl-CO<sub>2</sub> system when 1 kg of H<sub>2<\\sub>O,\n",
    "100 g of CO<sub>2</sub>, and 1 mol of NaCl are mixed at temperature 60 &deg;C and pressure 300 bar.\n",
    "First, we import everything from the `reaktoro` package by"
   ]
  },
  {
   "cell_type": "code",
   "execution_count": null,
   "metadata": {},
   "outputs": [],
   "source": [
    "from reaktoro import *"
   ]
  },
  {
   "cell_type": "markdown",
   "metadata": {},
   "source": [
    "To indicate phases and corresponding to them species, as well as models used to evaluate activities of the aqueous\n",
    "species, we use `ChemicalEditor`. Here, the default database SUPCRT98 is used."
   ]
  },
  {
   "cell_type": "code",
   "execution_count": null,
   "metadata": {},
   "outputs": [],
   "source": [
    "editor = ChemicalEditor()"
   ]
  },
  {
   "cell_type": "markdown",
   "metadata": {},
   "source": [
    "## Specifying different phases and corresponding models\n",
    "\n",
    "Specifying the phases and their species is not enough to fully describe a chemical system in the *computational\n",
    "sense*. Every phase in Reaktoro has two associated models: a *thermodynamic model* and a *chemical model*. These\n",
    "denominations are not standard in the literature, but they are useful in the differentiation of two needed types\n",
    "of models for a phase."
   ]
  },
  {
   "cell_type": "markdown",
   "metadata": {},
   "source": [
    "* A *thermodynamic model* is a model for the calculation of *standard thermodynamic properties* of the species.\n",
    "Examples include standard Gibbs energies, or standard chemical potentials, standard molar volumes, standard heat\n",
    "capacities, standard enthalpies, and so forth. These models are functions of *temperature* and *pressure* only.\n",
    "\n",
    "* A *chemical model* is a model that describes the *non-ideal behavior* of phases. These models not only depend on\n",
    "temperature and pressure, like the thermodynamic models, but also on the amounts of the species in the phase. To be\n",
    "more precise, on the concentrations of these species, which can be calculated from the amounts of the species.\n",
    "\n",
    "One can define a chemical system with many phases, each phase containing one or more species. This does not mean\n",
    "that all phases and their species exist at positive amounts! To be precise, this means that the chemical\n",
    "calculations, equilibrium or kinetics, are capable of deciding if a phase in the chemical system should exist at\n",
    "positive amounts for some given conditions (e.g., temperature, pressure, overall composition).\n",
    "\n",
    "By selecting as many phases as possible, with the possibilities constrained by the *thermodynamic database* being\n",
    "used, one can increase the confidence level of the estimated chemical states. Note, however, that accurate and\n",
    "realistic estimates depend on many more factors than just the selection of potential phases, such as the *choice of\n",
    "thermodynamic models for non-ideal phases*. Furthermore, note that adding too many phases and species to the\n",
    "definition of the chemical system can result in *more computationally expensive* chemical calculations. In critical\n",
    "performance applications, for instance, when combining chemical reactions and fluid flow and species transport\n",
    "modeling, restricting the number of phases and species might be necessary for achieving feasible simulation times.\n",
    "The modeler is responsible to decide to which extent the number of phases and species can be compromised for\n",
    "efficiency reasons at the expense of chemical realism."
   ]
  },
  {
   "cell_type": "markdown",
   "metadata": {},
   "source": [
    "### Specifying aqueous phase"
   ]
  },
  {
   "cell_type": "markdown",
   "metadata": {},
   "source": [
    "To initialize [AqueousPhase](https://reaktoro.org/cpp/classReaktoro_1_1AqueousPhase.html#details),\n",
    "we add the list of exact names of aqueous species we wish to be simulated in computations.\n",
    "The default model to calculate the activities of solvent water and ionic species is the HKF model.\n",
    "Note that activity models are also needed for *neutral species* then an ideal model is used, in which their activity\n",
    "coefficients are one. For some neutral aqueous species, such as CO<sub>2</sub>(aq), we specify the Drummond model"
   ]
  },
  {
   "cell_type": "code",
   "execution_count": null,
   "metadata": {},
   "outputs": [],
   "source": [
    "editor.addAqueousPhase([\"H2O(l)\", \"H+\", \"OH-\", \"Na+\", \"Cl-\", \"HCO3-\", \"CO2(aq)\", \"CO3--\"]) \\\n",
    "    .setActivityModelDrummondCO2()"
   ]
  },
  {
   "cell_type": "markdown",
   "metadata": {},
   "source": [
    "Alternatively, one can select ideal activity model by `setActivityModelIdeal()` method for neutral aqueous species by\n",
    "providing the corresponding name, e.g.,"
   ]
  },
  {
   "cell_type": "code",
   "execution_count": null,
   "metadata": {},
   "outputs": [],
   "source": [
    "editor.addAqueousPhase([\"H2O(l)\", \"H+\", \"OH-\", \"Na+\", \"Cl-\", \"HCO3-\", \"CO2(aq)\", \"CO3--\"]) \\\n",
    "    .setActivityModelIdeal(\"CO2(aq)\")"
   ]
  },
  {
   "cell_type": "markdown",
   "metadata": {},
   "source": [
    "Finally, we can set the activity model of neutral aqueous species to be the Setschenow one, where not only name of\n",
    "the species but also the Setschenow constant must be provided in method `setActivityModelSetschenow()`."
   ]
  },
  {
   "cell_type": "code",
   "execution_count": null,
   "metadata": {},
   "outputs": [],
   "source": [
    "editor.addAqueousPhase([\"H2O(l)\", \"H+\", \"OH-\", \"Na+\", \"Cl-\", \"HCO3-\", \"CO2(aq)\", \"CO3--\", \"NaCl(aq)\"]) \\\n",
    "    .setChemicalModelDebyeHuckel() \\\n",
    "    .setActivityModelSetschenow(\"NaCl(aq)\", 0.1)"
   ]
  },
  {
   "cell_type": "markdown",
   "metadata": {},
   "source": [
    "To choose, for instance, the Pitzer equation of state for aqueous species, we can use"
   ]
  },
  {
   "cell_type": "code",
   "execution_count": null,
   "metadata": {},
   "outputs": [],
   "source": [
    "editor.addAqueousPhase([\"H2O(l)\", \"H+\", \"OH-\", \"Na+\", \"Cl-\", \"HCO3-\", \"CO2(aq)\", \"CO3--\"]) \\\n",
    "    .setChemicalModelPitzerHMW() \\\n",
    "    .setActivityModelDrummondCO2()"
   ]
  },
  {
   "cell_type": "markdown",
   "metadata": {},
   "source": [
    "The instance of the [AqueousPhase](https://reaktoro.org/cpp/classReaktoro_1_1AqueousPhase.html#details) class can\n",
    "also be constructed explicitly and have its default *chemical model* changed to the Debye-Huckel model, for example:"
   ]
  },
  {
   "cell_type": "code",
   "execution_count": null,
   "metadata": {},
   "outputs": [],
   "source": [
    "aqueous_phase = editor.addAqueousPhaseWithElementsOf(\"H2O NaCl CO2\")\n",
    "aqueous_phase.setChemicalModelDebyeHuckel()"
   ]
  },
  {
   "cell_type": "markdown",
   "metadata": {},
   "source": [
    "Method `addAqueousPhaseWithElementsOf()` used above is practical in those occasions, where it would be preferable to\n",
    "just specify a few compound or substance names, *not necessarily named as in the database*, and then let\n",
    "[ChemicalEditor](https://reaktoro.org/cpp/classReaktorobl_1_1ChemicalEditor.html) to automatically select all chemical\n",
    "species that could be formed out of the combination of those compounds."
   ]
  },
  {
   "cell_type": "markdown",
   "metadata": {},
   "source": [
    "### Specifying gaseous phase"
   ]
  },
  {
   "cell_type": "markdown",
   "metadata": {},
   "source": [
    "Similarly, [GaseousPhase](https://reaktoro.org/cpp/classReaktoro_1_1GaseousPhase.html) can be defined either from\n",
    "list of provided elements or from substance names that are parsed by the\n",
    "[ChemicalEditor](https://reaktoro.org/cpp/classReaktorobl_1_1ChemicalEditor.html) to generate all possible\n",
    "species that can be combined from elements used in those lists. However, for this particular example,\n",
    "the water vapor, H<sub>2<\\sub>O(g), and gaseous/supercritical carbon dioxide, CO<sub>2<\\sub>(g), suffices to\n",
    "represent the gaseous phase:"
   ]
  },
  {
   "cell_type": "code",
   "execution_count": null,
   "metadata": {},
   "outputs": [],
   "source": [
    "editor.addGaseousPhase([\"H2O(g)\", \"CO2(g)\"]) \\\n",
    "    .setChemicalModelSpycherPruessEnnis()"
   ]
  },
  {
   "cell_type": "markdown",
   "metadata": {},
   "source": [
    "Here, method `setChemicalModelSpycherPruessEnnis()` sets Spycher et al. (2003) equation of state. This model only\n",
    "supports the gaseous species H<sub>2<\\sub>O(g) and CO<sub>2<\\sub>(g). Any other species will result in a runtime\n",
    "error. Alternately, the Spycher and Reed (1988) equation of state can be set (only for H<sub>2<\\sub>O(g),\n",
    "CO<sub>2<\\sub>(g), and CH<sub>4</sub>(aq)).\n",
    "If no model is explicitly specified, the Peng-Robinson equation of state is chosen by default to calculate the\n",
    "thermodynamic and chemical properties of this GaseousPhase object."
   ]
  },
  {
   "cell_type": "markdown",
   "metadata": {},
   "source": [
    "### Specifying mineral phase\n",
    "\n",
    "In most geochemical modeling applications, one or more mineral phases are needed. In most cases, these mineral\n",
    "phases are *pure mineral phases*, i.e., they contain only one mineral species. If more than one minerals are\n",
    "present, they are often called *solid solutions*. Defining a pure mineral phase or a solid solution phase is\n",
    "similar to defining any other phase type. The code below demonstrates addition of pure mineral phases halite\n",
    "NaCl:"
   ]
  },
  {
   "cell_type": "code",
   "execution_count": null,
   "metadata": {},
   "outputs": [],
   "source": [
    "editor.addMineralPhase(\"Halite\")"
   ]
  },
  {
   "cell_type": "markdown",
   "metadata": {},
   "source": [
    "Definition of solid solution can performed as follows:"
   ]
  },
  {
   "cell_type": "code",
   "execution_count": null,
   "metadata": {},
   "outputs": [],
   "source": [
    "editor.addMineralPhase([\"Calcite\", \"Magnesite\"])"
   ]
  },
  {
   "cell_type": "markdown",
   "metadata": {},
   "source": [
    "### Creating chemical system\n",
    "\n",
    "Next, we create chemical system using the class [ChemicalSystem](\n",
    "https://reaktoro.org/cpp/classReaktoro_1_1ChemicalSystem.html), which helps to specify system's attributes and\n",
    "properties:"
   ]
  },
  {
   "cell_type": "code",
   "execution_count": null,
   "metadata": {},
   "outputs": [],
   "source": [
    "system = ChemicalSystem(editor)"
   ]
  },
  {
   "cell_type": "markdown",
   "metadata": {},
   "source": [
    "Once system is set, the equilibrium problem using [EquilibriumProblem](\n",
    "https://reaktoro.org/cpp/classReaktoro_1_1EquilibriumProblem.html#details) class must be initialized:"
   ]
  },
  {
   "cell_type": "code",
   "execution_count": null,
   "metadata": {},
   "outputs": [],
   "source": [
    "problem = EquilibriumProblem(system)"
   ]
  },
  {
   "cell_type": "markdown",
   "metadata": {},
   "source": [
    "We use class [EquilibriumProblem](https://reaktoro.org/cpp/classReaktoro_1_1EquilibriumProblem.html) to specify\n",
    "the conditions at which our system should be in equilibrium.\n",
    "For the equilibrium calculation, we have set temperature and pressure with optional units.\n",
    "\n",
    "> **Note**: The default values are 25 &deg;C for the temperature and 1 bar for pressure."
   ]
  },
  {
   "cell_type": "code",
   "execution_count": null,
   "metadata": {},
   "outputs": [],
   "source": [
    "problem.setTemperature(60, \"celsius\")\n",
    "problem.setPressure(300, \"bar\")"
   ]
  },
  {
   "cell_type": "markdown",
   "metadata": {},
   "source": [
    "Additionally, we have to add amount of the solutions used in the equilibrium calculations. For NaCl-brine,\n",
    "we mix 1 kg of water with 1 mol of salt. Plus, we take 100 g of CO<sub>2</sub>:"
   ]
  },
  {
   "cell_type": "code",
   "execution_count": null,
   "metadata": {},
   "outputs": [],
   "source": [
    "problem.add(\"H2O\", 1, \"kg\")\n",
    "problem.add(\"NaCl\", 1, \"mol\")\n",
    "problem.add(\"CO2\", 100, \"g\")"
   ]
  },
  {
   "cell_type": "markdown",
   "metadata": {},
   "source": [
    "The units above can be changed, or even suppressed. If not provided, default units are used, such as K for\n",
    "temperatures, Pa for pressures, and mol for amounts. The `add` method in\n",
    "[EquilibriumProblem](https://reaktoro.org/cpp/classReaktoro_1_1EquilibriumProblem.html) supports both amount and\n",
    "mass units, such as `mmol`,  `umol`, `g`, `mg`, etc."
   ]
  },
  {
   "cell_type": "markdown",
   "metadata": {},
   "source": [
    "To provide computational representation of the state of a multiphase chemical system resulting from  equilibration\n",
    "process, class [ChemicalState]() must be used. Function `equilibrate()` equilibrates a chemical state instance with\n",
    "an equilibrium problem."
   ]
  },
  {
   "cell_type": "markdown",
   "metadata": {},
   "source": [
    "The code below uses the definition of the equilibrium problem stored in the object `problem` to perform the\n",
    "equilibrium calculation with utility method `equilibrate()`. The result of the calculation is the object `state`,\n",
    "an instance of [ChemicalState](https://reaktoro.org/cpp/classReaktoro_1_1ChemicalState.html) class, which is used\n",
    "to store the chemical state (i.e., the temperature, pressure, and molar amounts of all species) of the system at\n",
    "prescribed equilibrium conditions. The [ChemicalState](https://reaktoro.org/cpp/classReaktoro_1_1ChemicalState.html)\n",
    "class also provides methods for querying thermodynamic properties of the system."
   ]
  },
  {
   "cell_type": "code",
   "execution_count": null,
   "metadata": {},
   "outputs": [],
   "source": [
    "state = equilibrate(problem)"
   ]
  },
  {
   "cell_type": "markdown",
   "metadata": {},
   "source": [
    "**Note:** Method `equilibrate` is not the optimal method for performing a sequence of equilibrium calculations\n",
    "(e.g., when coupling Reaktoro with other codes for simulating fluid flow, species transport, etc.). In situations,\n",
    "where many equilibrium calculations need to be performed and sufficient initial guesses are available each time\n",
    "(e.g., the equilibrium state at a previous time step serving as an initial guess for the new equilibrium\n",
    "calculation), use class [EquilibriumSolver](https://reaktoro.org/cpp/classReaktoro_1_1EquilibriumSolver.html)."
   ]
  },
  {
   "cell_type": "markdown",
   "metadata": {},
   "source": [
    "The chemical state can be printed to console by `print(state)` command or saved to a file as follows:"
   ]
  },
  {
   "cell_type": "code",
   "execution_count": null,
   "metadata": {},
   "outputs": [],
   "source": [
    "state.output(\"state.txt\")"
   ]
  },
  {
   "cell_type": "markdown",
   "metadata": {
    "lines_to_next_cell": 2
   },
   "source": [
    "The output information contains details about the equilibrium state of the defined chemical system for the\n",
    "given equilibrium conditions, including, for example, the *amounts*, *masses*, *mole fractions*, *activities*,\n",
    "*activity coefficients*, and *chemical potentials* of the chemical species in each phase. It will also list\n",
    "properties of each phase, such as *density*, *molar volume*, *volume fraction*, as well specific properties of some\n",
    "phases (e.g., *ionic strength*, *pH*, *pe* for the aqueous phase)."
   ]
  }
 ],
 "metadata": {
  "kernelspec": {
   "display_name": "Python 3",
   "language": "python",
   "name": "python3"
  }
 },
 "nbformat": 4,
 "nbformat_minor": 4
}
