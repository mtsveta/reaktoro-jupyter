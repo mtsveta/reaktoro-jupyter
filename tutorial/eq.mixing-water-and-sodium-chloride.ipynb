{
 "cells": [
  {
   "cell_type": "markdown",
   "metadata": {},
   "source": [
    "# Mixing of the table salt with water\n",
    "\n",
    "Importing the 'reaktoro' package:"
   ]
  },
  {
   "cell_type": "code",
   "execution_count": null,
   "metadata": {},
   "outputs": [],
   "source": [
    "from reaktoro import *"
   ]
  },
  {
   "cell_type": "markdown",
   "metadata": {},
   "source": [
    "Initialize a thermodynamic database:"
   ]
  },
  {
   "cell_type": "code",
   "execution_count": null,
   "metadata": {},
   "outputs": [],
   "source": [
    "db = Database(\"supcrt98.xml\")"
   ]
  },
  {
   "cell_type": "markdown",
   "metadata": {},
   "source": [
    "Initializing chemical editor:"
   ]
  },
  {
   "cell_type": "code",
   "execution_count": null,
   "metadata": {},
   "outputs": [],
   "source": [
    "editor = ChemicalEditor(db)\n",
    "editor.addAqueousPhaseWithElements(\"H O Na Cl\")\n",
    "editor.addMineralPhase(\"Halite\") # sodium chloride (solid)"
   ]
  },
  {
   "cell_type": "markdown",
   "metadata": {},
   "source": [
    "Initializing chemical system:"
   ]
  },
  {
   "cell_type": "code",
   "execution_count": null,
   "metadata": {},
   "outputs": [],
   "source": [
    "system = ChemicalSystem(editor)"
   ]
  },
  {
   "cell_type": "markdown",
   "metadata": {},
   "source": [
    "To evaluate the content of the system, we type:"
   ]
  },
  {
   "cell_type": "code",
   "execution_count": null,
   "metadata": {},
   "outputs": [],
   "source": [
    "print(\"system = \", system)"
   ]
  },
  {
   "cell_type": "markdown",
   "metadata": {},
   "source": [
    "We see that all the discussed during the lecture species are there, i.e.,\n",
    "H<sub>2</sub>O, H<sup>+</sup>. OH<sup>-</sup>, O<sub>2</sub>(aq),\n",
    "H<sub>2</sub>(aq), Na<sup>+</sup>, Cl<sup>-</sup>, NaCl(aq), HCl(aq), NaOH(aq) among others."
   ]
  },
  {
   "cell_type": "markdown",
   "metadata": {},
   "source": [
    "Initializing chemical problem:"
   ]
  },
  {
   "cell_type": "code",
   "execution_count": null,
   "metadata": {},
   "outputs": [],
   "source": [
    "problem = EquilibriumProblem(system)\n",
    "problem.setTemperature(25, \"celsius\")\n",
    "problem.setPressure(1, \"bar\")\n",
    "problem.add(\"H2O\", 1.0, \"kg\") # water\n",
    "problem.add(\"NaCl\", 1.0, \"mg\") # sodium chloride / table salt"
   ]
  },
  {
   "cell_type": "markdown",
   "metadata": {},
   "source": [
    "After mixing water and salt, the following reactions start:\n",
    "\n",
    "\\begin{alignat}{4}\n",
    "{\\rm NaCl(s)} & \\rightleftharpoons- {\\rm Na}^+ + {\\rm Cl}^- &\\qquad& (1) \\\\\n",
    "{\\rm Na}^+ + {\\rm Cl}^- &  \\rightleftharpoons {\\rm NaCl(aq)} &\\qquad& (2) \\\\\n",
    "{\\rm H_2O} & \\rightleftharpoons {\\rm H}^+ + {\\rm 0H}^- &\\qquad& (3) \\\\\n",
    "\\end{alignat}\n",
    "\n",
    "Reaction (1) corresponds to dissolution of solid sodium chloride provides ions of sodium and chloride.\n",
    "In (2), ions of sodium and chloride combine aqueous sodium chloride, NaCl(aq).\n",
    "In reaction (3), water provides solvent species for other solutions.\n",
    "Another species that can be forming are: HCl(aq), NaOH(aq) by the following reactions:\n",
    "$${\\rm H}^{+} + {\\rm Cl}^- \\rightleftharpoons {\\rm HCl(aq)}$$\n",
    "\n",
    "Let us equilibrate the problem:"
   ]
  },
  {
   "cell_type": "code",
   "execution_count": null,
   "metadata": {},
   "outputs": [],
   "source": [
    "state = equilibrate(problem)"
   ]
  },
  {
   "cell_type": "markdown",
   "metadata": {},
   "source": [
    "To evaluate the result of equilibration, we use `print` function to output the `state`\n",
    "to the console"
   ]
  },
  {
   "cell_type": "code",
   "execution_count": null,
   "metadata": {},
   "outputs": [],
   "source": [
    "print(\"state = \", state)"
   ]
  },
  {
   "cell_type": "markdown",
   "metadata": {},
   "source": [
    "We see that the Halite mineral has practically zero amount and `under stable` state\n",
    "in the resulting mixture, which indicates that it was completely dissolved in water.\n",
    "Let us add some more salt"
   ]
  },
  {
   "cell_type": "code",
   "execution_count": null,
   "metadata": {},
   "outputs": [],
   "source": [
    "problem.add(\"NaCl\", 1.0, \"kg\") # additional 1kg of salt\n",
    "state = equilibrate(problem)\n",
    "print(\"state = \", state)"
   ]
  },
  {
   "cell_type": "markdown",
   "metadata": {},
   "source": [
    "To evaluate the amount of a single (or a particular species'), one can use:"
   ]
  },
  {
   "cell_type": "code",
   "execution_count": null,
   "metadata": {},
   "outputs": [],
   "source": [
    "print(f\"Amount of NaCl(s) : {state.speciesAmount('Halite')}\")"
   ]
  }
 ],
 "metadata": {},
 "nbformat": 4,
 "nbformat_minor": 4
}
