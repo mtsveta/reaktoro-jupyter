{
 "cells": [
  {
   "cell_type": "code",
   "execution_count": null,
   "metadata": {},
   "outputs": [],
   "source": [
    "from reaktoro import *"
   ]
  },
  {
   "cell_type": "markdown",
   "metadata": {},
   "source": [
    "Define time related constants:"
   ]
  },
  {
   "cell_type": "code",
   "execution_count": null,
   "metadata": {},
   "outputs": [],
   "source": [
    "second = 1\n",
    "minute = 60"
   ]
  },
  {
   "cell_type": "markdown",
   "metadata": {},
   "source": [
    "Define the time interval of the kinetic simulation and corresponding to it file-name (for the future results to be\n",
    "stored):"
   ]
  },
  {
   "cell_type": "code",
   "execution_count": null,
   "metadata": {},
   "outputs": [],
   "source": [
    "t0, t1 = 0.0, 10\n",
    "result_file_name = \"kineticpath-shell-benchmark-tfinal-\" + str(t1*minute) + \".txt\""
   ]
  },
  {
   "cell_type": "markdown",
   "metadata": {},
   "source": [
    "Define chemical system:"
   ]
  },
  {
   "cell_type": "code",
   "execution_count": null,
   "metadata": {},
   "outputs": [],
   "source": [
    "# Construct the chemical system with its phases and species\n",
    "db = Database('supcrt07.xml')\n",
    "\n",
    "# Fetch Debye-Huckel activity model parameters\n",
    "dhModel = DebyeHuckelParams()\n",
    "dhModel.setPHREEQC()\n",
    "\n",
    "editor = ChemicalEditor(db)\n",
    "editor.addAqueousPhaseWithElements(\"H Cl S O Ca Sr Na K Mg C Si Al\"). \\\n",
    "    setChemicalModelDebyeHuckel(dhModel)\n",
    "editor.addMineralPhase('Halite')        # NaCl\n",
    "editor.addMineralPhase('Calcite')       # CaCO3\n",
    "editor.addMineralPhase('Dolomite')      # CaMg(CO3)2\n",
    "editor.addMineralPhase('Quartz')        # SiO2\n",
    "editor.addMineralPhase('K-Feldspar')    # K(AlSi3)O8\n",
    "editor.addMineralPhase('Kaolinite')     # Al2Si2O5(OH)4\n",
    "\n",
    "system = ChemicalSystem(editor)"
   ]
  },
  {
   "cell_type": "markdown",
   "metadata": {},
   "source": [
    "We set the reaction equations, and particular parameters for calcite, dolomite, halite, k-feldspar, quartz, and\n",
    "kaolinite using chemical editor:"
   ]
  },
  {
   "cell_type": "code",
   "execution_count": null,
   "metadata": {},
   "outputs": [],
   "source": [
    "editor.addMineralReaction(\"Calcite\") \\\n",
    "    .setEquation(\"Calcite = Ca++ + CO3--\") \\\n",
    "    .addMechanism(\"logk = -5.81 mol/(m2*s); Ea = 23.5 kJ/mol\") \\\n",
    "    .addMechanism(\"logk = -0.30 mol/(m2*s); Ea = 14.4 kJ/mol; a[H+] = 1.0\") \\\n",
    "    .setSpecificSurfaceArea(10, \"cm2/g\")\n",
    "\n",
    "editor.addMineralReaction(\"Dolomite\") \\\n",
    "    .setEquation(\"Dolomite = Ca++ + Mg++ + 2*CO3--\") \\\n",
    "    .addMechanism(\"logk = -7.53 mol/(m2*s); Ea = 52.2 kJ/mol\") \\\n",
    "    .addMechanism(\"logk = -3.19 mol/(m2*s); Ea = 36.1 kJ/mol; a[H+] = 0.5\") \\\n",
    "    .setSpecificSurfaceArea(10, \"cm2/g\")\n",
    "\n",
    "editor.addMineralReaction(\"Halite\") \\\n",
    "    .setEquation(\"Halite = Na+ + Cl-\") \\\n",
    "    .addMechanism(\"logk = -0.21 mol/(m2*s); Ea = 7.4 kJ/mol\") \\\n",
    "    .setSpecificSurfaceArea(10, \"cm2/g\")\n",
    "\n",
    "# K-Feldspar: K(AlSi3)O8 # potassium feldspar, orthoclase\n",
    "# KAlSi3O8 + 4*H2O(l) + 4*H+ = Al+++ + 3*H4SiO4 + K+\n",
    "# KAlSi3O8 + 4*H2O(l) + 4*H+ = Al+++ + 3*(H2O(l) + H+ + HSiO3-) + K+\n",
    "# KAlSi3O8 + H2O(l) + H+ = Al+++ + 3*HSiO3- + K+\n",
    "editor.addMineralReaction(\"K-Feldspar\") \\\n",
    "    .setEquation(\"K-Feldspar + H2O(l) + H+ = Al+++ + 3*HSiO3- + K+\") \\\n",
    "    .addMechanism(\"logk = -12.41 mol/(m2*s); Ea = 38.0 kJ/mol\") \\\n",
    "    .addMechanism(\"logk = -10.06 mol/(m2*s); Ea = 51.7 kJ/mol; a[H+] = 0.5\") \\\n",
    "    .setSpecificSurfaceArea(10, \"cm2/g\")\n",
    "# PHREEQC: K-Feldspar + 4*H+  =  Al+++ + K+ + 2*H2O(l) + 3*SiO2(aq)\n",
    "# K-Feldspar\n",
    "#         KAlSi3O8 + 4 H+  =  Al+++ + K+ + 2 H2O + 3 SiO2\n",
    "#         log_k           -0.2753\n",
    "#         -delta_H        -23.9408        kJ/mol  # Calculated enthalpy of reaction  K-Feldspar\n",
    "# #        Enthalpy of formation:        -949.188 kcal/mol\n",
    "# #        -analytic -1.0684e+000 1.3111e-002 1.1671e+004 -9.9129e+000 -1.5855e+006\n",
    "#         -analytic 1.02685E+02\t-1.40881E-02\t-1.15294E+04\t-3.05046E+01\t1.38991E+06\n",
    "# #       -Range:  0-300\n",
    "\n",
    "# SiO2(quartz) + 2*H2O(l) = H4SiO4(aq)\n",
    "# SiO2(quartz) + H2O(l) = H+ + HSiO3-\n",
    "#.addMechanism(\"logk = -16.29 mol/(m2*s); Ea = 108366 kJ/mol; a[H+] = -0.5\") \\\n",
    "editor.addMineralReaction(\"Quartz\") \\\n",
    "    .setEquation(\"Quartz + H2O(l) = H+ + HSiO3-\") \\\n",
    "    .addMechanism(\"logk = -13.99 mol/(m2*s); Ea = 87.7 kJ/mol\") \\\n",
    "    .setSpecificSurfaceArea(10, \"cm2/g\")\n",
    "# PHREEQC version: Quartz = SiO2(aq)\n",
    "# Quartz\n",
    "#         SiO2  =  SiO2\n",
    "#         log_k           -3.9993\n",
    "#         -delta_H        32.949        kJ/mol  # Calculated enthalpy of reaction  Quartz\n",
    "# #        Enthalpy of formation:        -217.65 kcal/mol\n",
    "# #        -analytic 7.7698e-002 1.0612e-002 3.4651e+003 -4.3551e+000 -7.2138e+005\n",
    "#         -analytic 1.54450E+02\t1.78164E-02\t-1.09003E+04\t-5.42517E+01\t6.48510E+05\n",
    "# #       -Range:  0-300\n",
    "\n",
    "\n",
    "# # Al2Si2O5(OH)4\n",
    "# Al2Si2O5(OH)4 + 6*H+ = H2O(l) + 2*H4SiO4 + 2*Al+++\n",
    "# Al2Si2O5(OH)4 + 6*H+ = H2O(l) + 2*(H2O(l) + H+ + HSiO3-) + 2*Al+++\n",
    "# Al2Si2O5(OH)4 + 4*H+ = 3*H2O(l) + 2*HSiO3- + 2*Al+++\n",
    "# .addMechanism(\"logk = -17.05 mol/(m2*s); Ea = 17.9 kJ/mol; a[H+] = -0.472\") \\\n",
    "editor.addMineralReaction(\"Kaolinite\") \\\n",
    "    .setEquation(\"Kaolinite + 4*H+ = 3*H2O(l) + 2*HSiO3- + 2*Al+++\") \\\n",
    "    .addMechanism(\"logk = -13.18 mol/(m2*s); Ea = 22.2 kJ/mol\") \\\n",
    "    .addMechanism(\"logk = -11.31 mol/(m2*s); Ea = 65.9 kJ/mol; a[H+] = 0.777\") \\\n",
    "    .setSpecificSurfaceArea(10, \"cm2/g\")\n",
    "# PHREEQC version: Kaolinite + 6*H+  =  2*Al+++ + 2*SiO2(aq) + 5*H2O(l)\n",
    "# Kaolinite\n",
    "#         Al2Si2O5(OH)4 + 6 H+  =  2 Al+++ + 2 SiO2 + 5 H2O\n",
    "#         log_k           6.8101\n",
    "#         -delta_H        -151.779        kJ/mol  # Calculated enthalpy of reaction  Kaolinite\n",
    "# #        Enthalpy of formation:        -982.221 kcal/mol\n",
    "# #        -analytic 1.6835e+001 -7.8939e-003 7.7636e+003 -1.2190e+001 -3.2354e+005\n",
    "#         -analytic -2.58805E+03\t-3.42587E-01\t1.60365E+05\t9.15337E+02\t-9.48341E+06\n",
    "# #       -Range:  0-300\n",
    "\n",
    "reactions = ReactionSystem(editor)"
   ]
  },
  {
   "cell_type": "markdown",
   "metadata": {},
   "source": [
    "Specifying the partition including the kinetic species:"
   ]
  },
  {
   "cell_type": "code",
   "execution_count": null,
   "metadata": {
    "lines_to_next_cell": 2
   },
   "outputs": [],
   "source": [
    "partition = Partition(system)\n",
    "partition.setKineticSpecies([\"Calcite\", \"Dolomite\", \"Halite\", \"Quartz\", \"K-Feldspar\", \"Kaolinite\"])"
   ]
  },
  {
   "cell_type": "markdown",
   "metadata": {},
   "source": [
    "Defining the initial state of the equilibrium species with the temperature of 61 Celsius, the pressure of 1 atm,\n",
    "the pH of 7, and the following concentrations of selected elements\n",
    "\n",
    "| Aqueous species  | Amount (mol / kgw) |\n",
    "|------------------|-------------------|\n",
    "| Na               | 6.27              |\n",
    "| Cl               | 6.27              |\n",
    "| Mg               | 1e-4              |\n",
    "| Ca               | 1e-4              |\n",
    "| C                | 1e-4              |\n",
    "| Si               | 1e-4              |\n",
    "| Al               | 1e-4              |\n",
    "| K                | 1e-9              |"
   ]
  },
  {
   "cell_type": "code",
   "execution_count": null,
   "metadata": {},
   "outputs": [],
   "source": [
    "T = 61.0 + 273.15       # temperature (in units of celsius)\n",
    "P = 1 * 1.01325 * 1e5   # pressure (in units of atm)\n",
    "problem_ic = EquilibriumInverseProblem(system)\n",
    "problem_ic.setPartition(partition)\n",
    "problem_ic.setTemperature(T)\n",
    "problem_ic.setPressure(P)\n",
    "problem_ic.add('H2O', 1.0, 'kg')\n",
    "problem_ic.add('Na', 6.27 , 'mol') # 6.27 mol / kgw\n",
    "problem_ic.add('Cl', 6.27, 'mol')  # 6.27 mol / kgw\n",
    "problem_ic.add('Mg', 1e-4, 'mol')  # 0.0001 mol / kgw\n",
    "problem_ic.add('Ca', 1e-4, 'mol')  # 0.0001 mol / kgw\n",
    "problem_ic.add('C', 1e-4, 'mol')  # 0.0001 mol / kgw\n",
    "problem_ic.add('Si', 1e-4, 'mol')  # 0.0001 mol / kgw\n",
    "problem_ic.add('Al',1e-4, 'mol')  # 6.27 mol / kgw\n",
    "problem_ic.add('K', 1e-9, 'mol')\n",
    "problem_ic.pH(7.0)"
   ]
  },
  {
   "cell_type": "markdown",
   "metadata": {},
   "source": [
    "Calculating the initial chemical equilibrium state of the fluid"
   ]
  },
  {
   "cell_type": "code",
   "execution_count": null,
   "metadata": {},
   "outputs": [],
   "source": [
    "# Calculate the equilibrium states for the initial conditions\n",
    "state_ic = equilibrate(problem_ic)\n",
    "state_ic.output('shell-kinetics-benchmark-initial.txt')"
   ]
  },
  {
   "cell_type": "markdown",
   "metadata": {},
   "source": [
    "Set the minerals initial values:"
   ]
  },
  {
   "cell_type": "code",
   "execution_count": null,
   "metadata": {},
   "outputs": [],
   "source": [
    "# Clay minerals have the following proportions:\n",
    "# Quartz        SiO2            85 %\n",
    "# Calcite       CaCO3           6 %\n",
    "# Dolomite      CaMg(CO3)2      4 %\n",
    "# K-feldspar    K(AlSi3)O8      3 %\n",
    "# Kaolinite     Al2Si2O5(OH)4   2 %\n",
    "\n",
    "# Scale the volumes of the phases in the initial condition\n",
    "# state_ic.scalePhaseVolume('Aqueous', 0.1, 'm3')\n",
    "# state_ic.scalePhaseVolume('Quartz', 0.9 * 0.85, 'm3') # for 85 %\n",
    "# state_ic.scalePhaseVolume('Calcite', 0.9 * 0.06, 'm3') # for 6 %\n",
    "# state_ic.scalePhaseVolume('Dolomite', 0.9 * 0.04, 'm3')  # for 4 %\n",
    "# state_ic.scalePhaseVolume('K-Feldspar', 0.9 * 0.03, 'm3')  # for 3 %\n",
    "# state_ic.scalePhaseVolume('Kaolinite', 0.9 * 0.02, 'm3')  # for 2 %\n",
    "\n",
    "state_ic.setSpeciesMass(\"Calcite\", 100.0869 * 10, \"g\") #  molar mass of CaCO3 = 100.0869 g/mol\n",
    "state_ic.setSpeciesMass(\"Dolomite\", 184.4008 * 10, \"g\") # molar mass of CaMg(CO3)2 = 184.4008 g/mol\n",
    "state_ic.setSpeciesMass(\"Halite\", 58.44 * 10, \"g\") # molar mass of NaCl = 58.44 g/mol\n",
    "state_ic.setSpeciesMass(\"Quartz\", 60.08 * 10, \"g\") # molar mass of SiO2 = 60.08 g/mol\n",
    "state_ic.setSpeciesMass(\"Kaolinite\", 258.1604 * 10, \"g\") # molar mass of Al2Si2O5(OH)4 =  258.1604 g/mol\n",
    "state_ic.setSpeciesMass(\"K-Feldspar\", 278.3315 * 10, \"g\") # molar mass of K(AlSi3)O8 = 278.3315 g/mol"
   ]
  },
  {
   "cell_type": "markdown",
   "metadata": {},
   "source": [
    "Performing the kinetic path calculation:"
   ]
  },
  {
   "cell_type": "code",
   "execution_count": null,
   "metadata": {},
   "outputs": [],
   "source": [
    "path = KineticPath(reactions)\n",
    "path.setPartition(partition)"
   ]
  },
  {
   "cell_type": "markdown",
   "metadata": {},
   "source": [
    "To analyse the result of kinetic simulations, we save the evolution of different properties of the chemical system\n",
    "into file `result_file_name`:"
   ]
  },
  {
   "cell_type": "code",
   "execution_count": null,
   "metadata": {
    "lines_to_next_cell": 2
   },
   "outputs": [],
   "source": [
    "output = path.output()\n",
    "output.filename(result_file_name)\n",
    "output.add(\"time(units=minute)\")\n",
    "output.add(\"pH\")\n",
    "output.add(\"speciesMolality(Na+ units=mmolal)\", \"Na+ [mmolal]\")\n",
    "output.add(\"speciesMolality(Cl- units=mmolal)\", \"Cl- [mmolal]\")\n",
    "output.add(\"speciesMolality(Mg++ units=mmolal)\", \"Mg++ [mmolal]\")\n",
    "output.add(\"speciesMolality(Ca++ units=mmolal)\", \"Ca++ [mmolal]\")\n",
    "output.add(\"speciesMolality(CO3-- units=mmolal)\", \"CO3-- [mmolal]\")\n",
    "output.add(\"speciesMolality(K+ units=mmolal)\", \"K+ [mmolal]\")\n",
    "output.add(\"speciesMolality(Al+++ units=mmolal)\", \"Al+++ [mmolal]\")\n",
    "output.add(\"speciesMolality(Calcite units=molal)\", \"Calcite [molal]\")\n",
    "output.add(\"speciesMolality(Dolomite units=molal)\", \"Dolomite [molal]\")\n",
    "output.add(\"speciesMolality(Halite units=molal)\", \"Halite [molal]\")\n",
    "output.add(\"speciesMolality(Quartz units=molal)\", \"Quartz [molal]\")\n",
    "output.add(\"speciesMolality(K-Feldspar units=molal)\", \"K-Feldspar [molal]\")\n",
    "output.add(\"speciesMolality(Kaolinite units=molal)\", \"Kaolinite [molal]\")"
   ]
  },
  {
   "cell_type": "markdown",
   "metadata": {},
   "source": [
    "Solving the chemical kinetics problem:"
   ]
  },
  {
   "cell_type": "code",
   "execution_count": null,
   "metadata": {},
   "outputs": [],
   "source": [
    "path.solve(state_ic, t0, t1, \"minute\")"
   ]
  },
  {
   "cell_type": "markdown",
   "metadata": {},
   "source": [
    "For plotting of the results of equilibrium path calculation, we load the results into the `data` array:"
   ]
  },
  {
   "cell_type": "code",
   "execution_count": null,
   "metadata": {},
   "outputs": [],
   "source": [
    "filearray = numpy.loadtxt(result_file_name, skiprows=1) # load data from the file skipping the one row\n",
    "data = filearray.T  # transpose the matrix with data\n",
    "[time_indx, ph_indx, na_speices_indx, cl_species_indx, mg_species_indx, ca_species_indx, co3_species_indx, k_species_indx,\n",
    " al_species_indx, calcite_indx, dolomite_indx, halite_indx, quartz_indx, kfeldspar_indx, kaolinite_indx] = numpy.arange(0, 15)"
   ]
  },
  {
   "cell_type": "markdown",
   "metadata": {},
   "source": [
    "To visually analyze the obtained reaction path is with plots. For that, we export\n",
    "To visually analyze the obtained reaction path is with plots. For that, we export\n",
    "[bokeh](https://docs.bokeh.org/en/latest/docs/gallery.html#standalone-examples) python plotting package."
   ]
  },
  {
   "cell_type": "code",
   "execution_count": null,
   "metadata": {},
   "outputs": [],
   "source": [
    "from bokeh.plotting import figure, show\n",
    "from bokeh.io import output_notebook\n",
    "output_notebook()\n",
    "\n",
    "def custom_figure(title, y_axis_label, y_axis_type='auto'):\n",
    "    return figure(plot_width=400, plot_height=200,\n",
    "                  title=title,\n",
    "                  x_axis_label='time',\n",
    "                  y_axis_label=y_axis_label,\n",
    "                  y_axis_type=y_axis_type,\n",
    "                  background_fill_color=\"#fafafa\")\n",
    "\n",
    "time = data[time_indx, :]  # fetch time from the data matrix\n",
    "\n",
    "fig0 = custom_figure(title=\"pH w.r.t. time\", y_axis_label='pH [-]')\n",
    "fig0.line(time, data[ph_indx], line_width=4, color=\"darkviolet\")\n",
    "show(fig0)\n",
    "\n",
    "fig1_1 = custom_figure(title=\"Minerals concentration w.r.t. time\", y_axis_label='Concentration [mol/m3]', y_axis_type=\"log\")\n",
    "fig1_1.line(time, data[halite_indx], line_width=4, color=\"yellow\", legend_label=\"Halite\")\n",
    "show(fig1_1)\n",
    "\n",
    "fig1_2 = custom_figure(title=\"Minerals concentration w.r.t. time\", y_axis_label='Concentration [mol/m3]', y_axis_type=\"log\")\n",
    "fig1_2.line(time, data[calcite_indx], line_width=4, color=\"red\", legend_label=\"Calcite\")\n",
    "fig1_2.line(time, data[dolomite_indx], line_width=4, color=\"orange\", legend_label=\"Dolomite\")\n",
    "fig1_2.line(time, data[quartz_indx], line_width=4, color=\"indigo\", legend_label=\"Quartz\")\n",
    "show(fig1_2)\n",
    "\n",
    "fig1_3 = custom_figure(title=\"Minerals concentration w.r.t. time\", y_axis_label='Concentration [mol/m3]', y_axis_type=\"log\")\n",
    "fig1_3.line(time, data[kfeldspar_indx], line_width=4, color=\"green\", legend_label=\"K-Feldspar\")\n",
    "fig1_3.line(time, data[kaolinite_indx], line_width=4, color=\"purple\", legend_label=\"Kaolinite\")\n",
    "show(fig1_3)\n",
    "\n",
    "fig2_1 = custom_figure(title=\"Aqueous species concentration w.r.t. time\", y_axis_label='Concentration [mmolal]', y_axis_type=\"log\")\n",
    "fig2_1.line(time, data[na_speices_indx], line_width=4, legend_label=\"Na+\", color=\"pink\")\n",
    "show(fig2_1)\n",
    "\n",
    "fig2_2 = custom_figure(title=\"Aqueous species concentration w.r.t. time\", y_axis_label='Concentration [mmolal]', y_axis_type=\"log\")\n",
    "fig2_2.line(time, data[cl_species_indx], line_width=4, legend_label=\"Cl-\", color=\"brown\")\n",
    "show(fig2_2)\n",
    "\n",
    "fig2_3 = custom_figure(title=\"Aqueous species concentration w.r.t. time\", y_axis_label='Concentration [mmolal]', y_axis_type=\"log\")\n",
    "fig2_3.line(time, data[co3_species_indx], line_width=4, legend_label=\"CO3--\", color=\"gold\")\n",
    "fig2_3.line(time, data[al_species_indx], line_width=4, legend_label=\"Al+++\", color=\"darkseagreen\")\n",
    "show(fig2_3)\n",
    "\n",
    "fig2_4 = custom_figure(title=\"Aqueous species concentration w.r.t. time\", y_axis_label='Concentration [mmolal]', y_axis_type=\"log\")\n",
    "fig2_4.line(time, data[mg_species_indx], line_width=4, legend_label=\"Mg++\", color=\"olive\")\n",
    "fig2_4.line(time, data[ca_species_indx], line_width=4, legend_label=\"Ca++\", color=\"gray\")\n",
    "show(fig2_4)\n",
    "\n",
    "fig2_5 = custom_figure(title=\"Aqueous species concentration w.r.t. time\", y_axis_label='Concentration [mmolal]', y_axis_type=\"log\")\n",
    "fig2_5.line(time, data[k_species_indx], line_width=4, legend_label=\"K+\", color=\"darkblue\")\n",
    "show(fig2_5)\n"
   ]
  }
 ],
 "metadata": {
  "kernelspec": {
   "display_name": "Python 3",
   "language": "python",
   "name": "python3"
  }
 },
 "nbformat": 4,
 "nbformat_minor": 4
}
