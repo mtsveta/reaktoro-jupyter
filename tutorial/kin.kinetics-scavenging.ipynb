{
 "cells": [
  {
   "cell_type": "code",
   "execution_count": null,
   "metadata": {},
   "outputs": [],
   "source": [
    "from reaktoro import *"
   ]
  },
  {
   "cell_type": "markdown",
   "metadata": {},
   "source": [
    "Define time related constants:"
   ]
  },
  {
   "cell_type": "code",
   "execution_count": null,
   "metadata": {},
   "outputs": [],
   "source": [
    "second = 1\n",
    "minute = 60"
   ]
  },
  {
   "cell_type": "markdown",
   "metadata": {},
   "source": [
    "Define the time interval of the kinetic simulation and corresponding to it file-name (for the future results to be\n",
    "stored):"
   ]
  },
  {
   "cell_type": "code",
   "execution_count": null,
   "metadata": {},
   "outputs": [],
   "source": [
    "t0, t1 = 0.0, 10\n",
    "result_file_name = \"kineticpath-scavenging-tfinal-\" + str(t1*minute) + \".txt\""
   ]
  },
  {
   "cell_type": "markdown",
   "metadata": {},
   "source": [
    "Define chemical system:"
   ]
  },
  {
   "cell_type": "code",
   "execution_count": null,
   "metadata": {},
   "outputs": [],
   "source": [
    "# Construct the chemical system with its phases and species\n",
    "db = Database('supcrt07.xml')\n",
    "\n",
    "# Fetch Debye-Huckel activity model parameters\n",
    "dhModel = DebyeHuckelParams()\n",
    "dhModel.setPHREEQC()\n",
    "\n",
    "editor = ChemicalEditor(db)\n",
    "editor.addAqueousPhaseWithElements(\"C Ca Cl Fe H K Mg Na O S\"). \\\n",
    "    setChemicalModelDebyeHuckel(dhModel)\n",
    "editor.addMineralPhase('Siderite')      # FeCO3\n",
    "editor.addMineralPhase('Pyrite')        # FeS2\n",
    "editor.addMineralPhase('Hematite')      # Fe2O3\n",
    "\n",
    "system = ChemicalSystem(editor)"
   ]
  },
  {
   "cell_type": "markdown",
   "metadata": {},
   "source": [
    "We set the reaction equations, and particular parameters for calcite, dolomite, halite, k-feldspar, quartz, and\n",
    "kaolinite using chemical editor:"
   ]
  },
  {
   "cell_type": "code",
   "execution_count": null,
   "metadata": {},
   "outputs": [],
   "source": [
    "editor.addMineralReaction(\"Hematite\") \\\n",
    "    .setEquation(\"Hematite + 4*H+ = 2*H2O(l) + 2*Fe++ + 0.5*O2(aq)\") \\\n",
    "    .addMechanism(\"logk = -14.60 mol/(m2*s); Ea = 66.2 kJ/mol\") \\\n",
    "    .addMechanism(\"logk = -9.39 mol/(m2*s); Ea = 66.2 kJ/mol; a[H+] = 1.0\") \\\n",
    "    .setSpecificSurfaceArea(10, \"cm2/g\")\n",
    "\n",
    "# .addMechanism(\"logk = -4.55 mol/(m2*s); Ea = 56.9 kJ/mol; a[H+] = 0.500\") \\\n",
    "editor.addMineralReaction(\"Pyrite\") \\\n",
    "    .setEquation(\"Pyrite + H2O(l) = 0.25*H+ + 0.25*SO4-- + Fe++ + 1.75*HS-\") \\\n",
    "    .addMechanism(\"logk = -7.52 mol/(m2*s); Ea = 56.9 kJ/mol; a[H+] = 0.500\") \\\n",
    "    .setSpecificSurfaceArea(10, \"cm2/g\")\n",
    "\n",
    "reactions = ReactionSystem(editor)"
   ]
  },
  {
   "cell_type": "markdown",
   "metadata": {},
   "source": [
    "Specifying the partition including the kinetic species:"
   ]
  },
  {
   "cell_type": "code",
   "execution_count": null,
   "metadata": {
    "lines_to_next_cell": 2
   },
   "outputs": [],
   "source": [
    "partition = Partition(system)\n",
    "partition.setKineticSpecies([\"Hematite\", \"Pyrite\"])"
   ]
  },
  {
   "cell_type": "code",
   "execution_count": null,
   "metadata": {},
   "outputs": [],
   "source": [
    "T = 25.0 + 273.15       # temperature (in units of celsius)\n",
    "P = 1 * 1.01325 * 1e5   # pressure (in units of atm)\n",
    "problem_ic = EquilibriumInverseProblem(system)\n",
    "problem_ic.setPartition(partition)\n",
    "problem_ic.setTemperature(T)\n",
    "problem_ic.setPressure(P)\n",
    "problem_ic.add(\"H2O\", 58.0, \"kg\")\n",
    "problem_ic.add(\"Cl-\", 1122.3e-3, \"kg\")\n",
    "problem_ic.add(\"Na+\", 624.08e-3, \"kg\")\n",
    "problem_ic.add(\"SO4--\", 157.18e-3, \"kg\")\n",
    "problem_ic.add(\"Mg++\", 74.820e-3, \"kg\")\n",
    "problem_ic.add(\"Ca++\", 23.838e-3, \"kg\")\n",
    "problem_ic.add(\"K+\", 23.142e-3, \"kg\")\n",
    "problem_ic.add(\"HCO3-\", 8.236e-3, \"kg\")\n",
    "problem_ic.add(\"O2(aq)\", 58e-12, \"kg\")\n",
    "problem_ic.add(\"Siderite\", 0.5, \"mol\")\n",
    "problem_ic.add(\"Pyrite\", 0.0, \"mol\")\n",
    "problem_ic.add(\"Hematite\", 0.0, \"mol\")\n",
    "problem_ic.add(\"HS-\", 0.0196504, \"mol\")\n",
    "problem_ic.add(\"H2S(aq)\", 0.167794, \"mol\")\n",
    "problem_ic.pH(5.726)\n",
    "problem_ic.pE(8.220)\n",
    "#problem_ic.pH(8.951)\n",
    "#problem_ic.pE(8.676)"
   ]
  },
  {
   "cell_type": "markdown",
   "metadata": {},
   "source": [
    "Calculating the initial chemical equilibrium state of the fluid"
   ]
  },
  {
   "cell_type": "code",
   "execution_count": null,
   "metadata": {},
   "outputs": [],
   "source": [
    "# Calculate the equilibrium states for the initial conditions\n",
    "state_ic = equilibrate(problem_ic)\n",
    "state_ic.output('shell-kinetics-benchmark-initial.txt')"
   ]
  },
  {
   "cell_type": "code",
   "execution_count": null,
   "metadata": {},
   "outputs": [],
   "source": [
    "# Adding 0.5 mol of each mineral\n",
    "state_ic.setSpeciesMass(\"Siderite\", 115.86 * 0.5, \"g\")\n",
    "state_ic.setSpeciesMass(\"Hematite\", 55.845 * 0.5, \"g\")"
   ]
  },
  {
   "cell_type": "markdown",
   "metadata": {},
   "source": [
    "-"
   ]
  },
  {
   "cell_type": "markdown",
   "metadata": {},
   "source": [
    "Performing the kinetic path calculation:"
   ]
  },
  {
   "cell_type": "code",
   "execution_count": null,
   "metadata": {},
   "outputs": [],
   "source": [
    "path = KineticPath(reactions)\n",
    "path.setPartition(partition)"
   ]
  },
  {
   "cell_type": "markdown",
   "metadata": {},
   "source": [
    "To analyse the result of kinetic simulations, we save the evolution of different properties of the chemical system\n",
    "into file `result_file_name`:"
   ]
  },
  {
   "cell_type": "code",
   "execution_count": null,
   "metadata": {},
   "outputs": [],
   "source": [
    "output = path.output()\n",
    "output.filename(result_file_name)\n",
    "output.add(\"time(units=minute)\")\n",
    "output.add(\"pH\")\n",
    "output.add(\"speciesMolality(H+)\")\n",
    "output.add(\"speciesMolality(HS-)\")\n",
    "output.add(\"speciesMolality(S2--)\")\n",
    "output.add(\"speciesMolality(CO3--)\")\n",
    "output.add(\"speciesMolality(HSO4-)\")\n",
    "output.add(\"speciesMolality(H2S(aq))\")\n",
    "output.add(\"speciesMolality(Siderite)\")\n",
    "output.add(\"speciesMolality(Pyrite)\")\n",
    "output.add(\"speciesMolality(Hematite)\")"
   ]
  },
  {
   "cell_type": "markdown",
   "metadata": {},
   "source": [
    "Solving the chemical kinetics problem:"
   ]
  },
  {
   "cell_type": "code",
   "execution_count": null,
   "metadata": {},
   "outputs": [],
   "source": [
    "path.solve(state_ic, t0, t1, \"minute\")"
   ]
  },
  {
   "cell_type": "markdown",
   "metadata": {},
   "source": [
    "For plotting of the results of equilibrium path calculation, we load the results into the `data` array:"
   ]
  },
  {
   "cell_type": "code",
   "execution_count": null,
   "metadata": {},
   "outputs": [],
   "source": [
    "filearray = numpy.loadtxt(result_file_name, skiprows=1) # load data from the file skipping the one row\n",
    "data = filearray.T  # transpose the matrix with data\n",
    "[time_indx, ph_indx, hs_speices_indx, s2_species_indx, co3_species_indx, hso4_species_indx, h2s_species_indx,\n",
    " siderite_indx, pyrite_indx, hematite_indx] = numpy.arange(0, 10)"
   ]
  },
  {
   "cell_type": "markdown",
   "metadata": {},
   "source": [
    "To visually analyze the obtained reaction path is with plots. For that, we export\n",
    "To visually analyze the obtained reaction path is with plots. For that, we export\n",
    "[bokeh](https://docs.bokeh.org/en/latest/docs/gallery.html#standalone-examples) python plotting package."
   ]
  },
  {
   "cell_type": "code",
   "execution_count": null,
   "metadata": {},
   "outputs": [],
   "source": [
    "from bokeh.plotting import figure, show\n",
    "from bokeh.io import output_notebook\n",
    "output_notebook()\n",
    "\n",
    "def custom_figure(title, y_axis_label, y_axis_type='auto'):\n",
    "    return figure(plot_width=400, plot_height=200,\n",
    "                  title=title,\n",
    "                  x_axis_label='time',\n",
    "                  y_axis_label=y_axis_label,\n",
    "                  y_axis_type=y_axis_type,\n",
    "                  background_fill_color=\"#fafafa\")\n",
    "\n",
    "time = data[time_indx, :]  # fetch time from the data matrix\n",
    "\n",
    "fig0 = custom_figure(title=\"pH w.r.t. time\", y_axis_label='pH [-]')\n",
    "fig0.line(time, data[ph_indx], line_width=4, color=\"darkviolet\")\n",
    "show(fig0)\n",
    "\n",
    "fig1_1 = custom_figure(title=\"Minerals molality w.r.t. time\", y_axis_label='Molality [molal]', y_axis_type=\"log\")\n",
    "fig1_1.line(time, data[siderite_indx], line_width=4, color=\"yellow\", legend_label=\"Siderite\")\n",
    "show(fig1_1)\n",
    "\n",
    "fig1_2 = custom_figure(title=\"Minerals molality w.r.t. time\", y_axis_label='Molality [molal]', y_axis_type=\"log\")\n",
    "fig1_2.line(time, data[pyrite_indx], line_width=4, color=\"red\", legend_label=\"Pyrite\")\n",
    "show(fig1_2)\n",
    "\n",
    "fig1_3 = custom_figure(title=\"Minerals molality w.r.t. time\", y_axis_label='Molality [molal]', y_axis_type=\"log\")\n",
    "fig1_3.line(time, data[hematite_indx], line_width=4, color=\"green\", legend_label=\"Hematite\")\n",
    "show(fig1_3)\n",
    "\n",
    "fig2_1 = custom_figure(title=\"Aqueous species molality w.r.t. time\", y_axis_label='Molality [mmolal]', y_axis_type=\"log\")\n",
    "fig2_1.line(time, data[hs_speices_indx], line_width=4, legend_label=\"HS-\", color=\"pink\")\n",
    "show(fig2_1)\n",
    "\n",
    "fig2_2 = custom_figure(title=\"Aqueous species molality w.r.t. time\", y_axis_label='Molality [mmolal]', y_axis_type=\"log\")\n",
    "fig2_2.line(time, data[s2_species_indx], line_width=4, legend_label=\"S2-\", color=\"brown\")\n",
    "show(fig2_2)\n",
    "\n",
    "fig2_3 = custom_figure(title=\"Aqueous species molality w.r.t. time\", y_axis_label='Molality [mmolal]', y_axis_type=\"log\")\n",
    "fig2_3.line(time, data[co3_species_indx], line_width=4, legend_label=\"CO3--\", color=\"gold\")\n",
    "show(fig2_3)\n",
    "\n",
    "fig2_4 = custom_figure(title=\"Aqueous species molality w.r.t. time\", y_axis_label='Molality [mmolal]', y_axis_type=\"log\")\n",
    "fig2_4.line(time, data[hso4_species_indx], line_width=4, legend_label=\"HSO4-\", color=\"olive\")\n",
    "show(fig2_4)\n",
    "\n",
    "fig2_5 = custom_figure(title=\"Aqueous species molality w.r.t. time\", y_axis_label='Molality [mmolal]', y_axis_type=\"log\")\n",
    "fig2_5.line(time, data[h2s_species_indx], line_width=4, legend_label=\"H2S(aq)\", color=\"darkblue\")\n",
    "show(fig2_5)\n"
   ]
  }
 ],
 "metadata": {
  "kernelspec": {
   "display_name": "Python 3",
   "language": "python",
   "name": "python3"
  }
 },
 "nbformat": 4,
 "nbformat_minor": 4
}
