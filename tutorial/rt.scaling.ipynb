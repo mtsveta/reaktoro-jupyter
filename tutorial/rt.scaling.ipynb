{
 "cells": [
  {
   "cell_type": "markdown",
   "metadata": {},
   "source": [
    "# Simple 1D RTM model of scaling\n"
   ]
  },
  {
   "cell_type": "code",
   "execution_count": null,
   "metadata": {
    "lines_to_next_cell": 2
   },
   "outputs": [],
   "source": [
    "print('============================================================')\n",
    "print('Make sure you have the following Python packages installed: ')\n",
    "print('     numpy, natsort, bokeh')\n",
    "print('These can be installed with pip:')\n",
    "print('     pip install numpy natsort bokeh')\n",
    "print('============================================================')\n",
    "from reaktoro import *\n",
    "import numpy as np\n",
    "from natsort import natsorted\n",
    "from tqdm.notebook import tqdm\n",
    "import os\n",
    "\n",
    "# Import components of bokeh library\n",
    "from bokeh.io import show, output_notebook\n",
    "from bokeh.layouts import column\n",
    "from bokeh.plotting import figure\n",
    "from bokeh.models import Range1d, ColumnDataSource\n",
    "from bokeh.layouts import gridplot"
   ]
  },
  {
   "cell_type": "code",
   "execution_count": null,
   "metadata": {},
   "outputs": [],
   "source": [
    "second = 1\n",
    "minute = 60\n",
    "hour = 60 * minute\n",
    "day = 24 * hour\n",
    "week = 7 * day\n",
    "year = 365 * day"
   ]
  },
  {
   "cell_type": "code",
   "execution_count": null,
   "metadata": {
    "lines_to_next_cell": 0
   },
   "outputs": [],
   "source": [
    "# ## Defining parameters for the reactive transport simulation\n",
    "#"
   ]
  },
  {
   "cell_type": "code",
   "execution_count": null,
   "metadata": {},
   "outputs": [],
   "source": [
    "# Discretization parameters\n",
    "xl = 0.0                # x-coordinate of the left boundary\n",
    "xr = 25.0              # x-coordinate of the right boundary\n",
    "ncells = 243            # number of cells in the discretization\n",
    "dx = (xr - xl) / ncells # length of the mesh cells (in units of m)\n",
    "dt = 1 * hour           # time step\n",
    "\n",
    "nsteps_cb = 45\n",
    "nsteps_sw = 255\n",
    "t_cb = 45 * hour\n",
    "t_sw = 855 * hour\n",
    "nsteps = nsteps_cb + nsteps_sw # number of steps in the reactive transport simulation\n",
    "\n",
    "# Physical parameters\n",
    "D = 0               # diffusion coefficient (in units of m2/s)\n",
    "v = 1.05e-5         # fluid pore velocity (in units of m/s)\n",
    "T = 60.0 + 273.15   # temperature (in units of K)\n",
    "P = 200 * 1.01325 * 1e5   # pressure (in units of Pa)\n",
    "phi = 0.1           # the porosity"
   ]
  },
  {
   "cell_type": "markdown",
   "metadata": {},
   "source": [
    "Next, we generate the coordinates of the mesh nodes (array `xcells`) by equally dividing the interval *[xr, xl]* with\n",
    "the number of cells `ncells`. The length between each consecutive mesh node is computed and stored in `dx` (the\n",
    "length of the mesh cells)."
   ]
  },
  {
   "cell_type": "code",
   "execution_count": null,
   "metadata": {},
   "outputs": [],
   "source": [
    "xcells = np.linspace(xl, xr, ncells + 1)  # interval [xl, xr] split into ncells"
   ]
  },
  {
   "cell_type": "markdown",
   "metadata": {},
   "source": [
    "The boolean variable `dirichlet` is set to `True` or `False` depending on which boundary condition is considered in\n",
    "the numerical calculation. `False` corresponds to imposing the flux of the injected fluid, otherwise, `True` means\n",
    "imposing the composition of the fluid on the left boundary."
   ]
  },
  {
   "cell_type": "code",
   "execution_count": null,
   "metadata": {},
   "outputs": [],
   "source": [
    "dirichlet = False  # parameter that determines whether Dirichlet BC must be used"
   ]
  },
  {
   "cell_type": "markdown",
   "metadata": {},
   "source": [
    "To make sure that the applied finite-volume scheme is stable, we need to keep track of Courant–Friedrichs–Lewy (CFL)\n",
    "number, which should be less than 1.0."
   ]
  },
  {
   "cell_type": "code",
   "execution_count": null,
   "metadata": {},
   "outputs": [],
   "source": [
    "CFL = v * dt / dx\n",
    "assert CFL <= 1.0, f\"Make sure that CFL = {CFL} is less that 1.0\""
   ]
  },
  {
   "cell_type": "markdown",
   "metadata": {},
   "source": [
    "## Specifying the quantities and properties to be outputted\n",
    "\n",
    "Before running the reactive transport simulations, we specify the list of parameters we are interested in outputting.\n",
    "In this case, it is `pH`, molality of `H+`, `HS-`, `S2--`, `SO4--`, `H2S(aq)`, as well as a phase amount/volume\n",
    "of pyrrhotite and siderite."
   ]
  },
  {
   "cell_type": "code",
   "execution_count": null,
   "metadata": {},
   "outputs": [],
   "source": [
    "output_quantities = \"\"\"\n",
    "    pH\n",
    "    speciesMolality(H+)\n",
    "    speciesMolality(Cl-)\n",
    "    speciesMolality(SO4--)\n",
    "    speciesMolality(Ba++)\n",
    "    speciesMolality(Ca++)\n",
    "    speciesMolality(Sr++)\n",
    "    speciesMolality(Na+)\n",
    "    phaseAmount(Barite)\n",
    "    activity(Ba++)\n",
    "    activity(SO4--)\n",
    "    activityCoefficient(Ba++)\n",
    "    activityCoefficient(SO4--)\n",
    "\"\"\".split()"
   ]
  },
  {
   "cell_type": "markdown",
   "metadata": {},
   "source": [
    "output_quantities = \"\"\"\n",
    "    pH\n",
    "    speciesMolality(H+)\n",
    "    speciesMolality(Cl-)\n",
    "    speciesMolality(SO4--)\n",
    "    speciesMolality(Ba++)\n",
    "    speciesMolality(Ca++)\n",
    "    speciesMolality(Sr++)\n",
    "    speciesMolality(Na+)\n",
    "    phaseAmount(Barite)\n",
    "    phaseAmount(Anhydrite)\n",
    "    phaseAmount(Celestite)\n",
    "    activity(Ba++)\n",
    "    activity(SO4--)\n",
    "    activityCoefficient(Ba++)\n",
    "    activityCoefficient(SO4--)\n",
    "\"\"\".split()"
   ]
  },
  {
   "cell_type": "markdown",
   "metadata": {},
   "source": [
    "K_sp = a(Ba++) * a(SO4--) / a(Barite) = a(Ba++) * a(SO4--)\n",
    "IAP = a_actual(Ba++) * a_actual(SO4--)\n",
    "SI = log(a_actual(Ba++) * a_actual(SO4--) / a(Ba++) / a(SO4--))\n",
    "𝑎𝑖 = 𝛾𝑖 * 𝑚𝑖 - actualy activity? "
   ]
  },
  {
   "cell_type": "markdown",
   "metadata": {},
   "source": [
    "Then, we define the list of names for the DataFrame columns. Note, that they must correspond\n",
    "to the order of the properties defined in the `output_quantities` list:"
   ]
  },
  {
   "cell_type": "code",
   "execution_count": null,
   "metadata": {},
   "outputs": [],
   "source": [
    "column_quantities = \"\"\"\n",
    "    pH\n",
    "    Hcation\n",
    "    Clanion\n",
    "    SO4anion\n",
    "    Bacation\n",
    "    Cacation\n",
    "    Srcation\n",
    "    Nacation\n",
    "    Barite_phase_amount\n",
    "    Bacation_activity\n",
    "    SO4anion_activity\n",
    "    Bacation_activity_cofficient\n",
    "    SO4anion_activity_cofficient\n",
    "\"\"\".split()"
   ]
  },
  {
   "cell_type": "markdown",
   "metadata": {},
   "source": [
    "column_quantities = \"\"\"\n",
    "    pH\n",
    "    Hcation\n",
    "    Clanion\n",
    "    SO4anion\n",
    "    Bacation\n",
    "    Cacation\n",
    "    Srcation\n",
    "    Nacation\n",
    "    Barite_phase_amount\n",
    "    Anhydrite_phase_amount\n",
    "    Celestite_phase_amount\n",
    "    Bacation_activity\n",
    "    SO4anion_activity\n",
    "    Bacation_activity_cofficient\n",
    "    SO4anion_activity_cofficient\n",
    "\"\"\".split()"
   ]
  },
  {
   "cell_type": "code",
   "execution_count": null,
   "metadata": {},
   "outputs": [],
   "source": [
    "# Create the list of columns stored in dataframes\n",
    "columns = ['step', 'x'] + column_quantities\n",
    "import pandas as pd"
   ]
  },
  {
   "cell_type": "code",
   "execution_count": null,
   "metadata": {},
   "outputs": [],
   "source": [
    "# Initialize dataframes with above defined columns\n",
    "df = pd.DataFrame(columns=columns)"
   ]
  },
  {
   "cell_type": "code",
   "execution_count": null,
   "metadata": {
    "lines_to_next_cell": 1
   },
   "outputs": [],
   "source": [
    "# ## Organization of the program\n",
    "#\n",
    "folder_results = 'results-rt-scaling'\n",
    "def make_results_folders():\n",
    "    os.system('mkdir -p ' + folder_results)"
   ]
  },
  {
   "cell_type": "markdown",
   "metadata": {},
   "source": [
    "## Performing the reactive transport simulation"
   ]
  },
  {
   "cell_type": "code",
   "execution_count": null,
   "metadata": {
    "lines_to_next_cell": 1
   },
   "outputs": [],
   "source": [
    "'''\n",
    "def simulate():\n",
    "    # Construct the chemical system with its phases and species\n",
    "    system = define_chemical_system()\n",
    "\n",
    "    # Define the initial condition of the reactive transport modeling problem\n",
    "    state_ic = define_initial_condition(system)\n",
    "\n",
    "    # Define the boundary condition of the reactive transport modeling problem composed of two different stages\n",
    "    state_bc_cb = define_boundary_condition_cb(system)\n",
    "    state_bc_sw = define_boundary_condition_sw(system)\n",
    "\n",
    "    # Generate indices of partitioning fluid and solid species\n",
    "    nelems, ifluid_species, isolid_species = partition_indices(system)\n",
    "\n",
    "    # Partitioning fluid and solid species\n",
    "    b, bfluid, bsolid, b_bc_cb, b_bc_sw \\\n",
    "        = partition_elements_in_mesh_cell(ncells, nelems, state_ic, state_bc_cb, state_bc_sw)\n",
    "\n",
    "    # Create a list of chemical states for the mesh cells (one for each cell, initialized to state_ic)\n",
    "    states = [state_ic.clone() for _ in range(ncells + 1)]\n",
    "\n",
    "    # Create the equilibrium solver object for the repeated equilibrium calculation\n",
    "    solver = EquilibriumSolver(system)\n",
    "\n",
    "    # Running the reactive transport simulation loop\n",
    "    step = 0  # the current step number\n",
    "    t = 0.0  # the current time (in seconds)\n",
    "\n",
    "    # Output the initial state of the reactive transport calculation\n",
    "    outputstate_df(step, system, states)\n",
    "\n",
    "    with tqdm(total=nsteps_cb, desc=\"45 hours of completion brine (CB) injection\") as pbar:\n",
    "        while step <= nsteps_cb:\n",
    "            # Perform transport calculations\n",
    "            bfluid, bsolid, b = transport(states, bfluid, bsolid, b, b_bc_cb, nelems, ifluid_species, isolid_species)\n",
    "\n",
    "            # Perform reactive chemical calculations\n",
    "            states = reactive_chemistry(solver, states, b)\n",
    "\n",
    "\n",
    "            # Increment time step and number of time steps\n",
    "            t += dt\n",
    "            step += 1\n",
    "\n",
    "            # Output the current state of the reactive transport calculation\n",
    "            outputstate_df(step, system, states)\n",
    "\n",
    "            # Update a progress bar\n",
    "            pbar.update(1)\n",
    "\n",
    "    step = 0  # update the step number\n",
    "    \n",
    "    with tqdm(total=nsteps_sw, desc=\"855 hours of seawater (SW) injection\") as pbar:\n",
    "        while step <= nsteps_sw:\n",
    "            # Perform transport calculations\n",
    "            bfluid, bsolid, b = transport(states, bfluid, bsolid, b, b_bc_sw, nelems, ifluid_species, isolid_species)\n",
    "\n",
    "            # Perform reactive chemical calculations\n",
    "            states = reactive_chemistry(solver, states, b)\n",
    "\n",
    "            # Increment time step and number of time steps\n",
    "            t += dt\n",
    "            step += 1\n",
    "\n",
    "            # Output the current state of the reactive transport calculation\n",
    "            outputstate_df(step, system, states)\n",
    "\n",
    "            # Update a progress bar\n",
    "            pbar.update(1)\n",
    "'''"
   ]
  },
  {
   "cell_type": "markdown",
   "metadata": {},
   "source": [
    "Subsections below correspond to the methods responsible for each of the functional parts of `simulate()` method.\n",
    "\n",
    "### Construction of the chemical system with its phases and species\n"
   ]
  },
  {
   "cell_type": "code",
   "execution_count": null,
   "metadata": {
    "lines_to_next_cell": 1
   },
   "outputs": [],
   "source": [
    "def define_chemical_system():\n",
    "\n",
    "    # Construct the chemical system with its phases and species\n",
    "    db = Database('supcrt07.xml')\n",
    "    \n",
    "    dhModel = DebyeHuckelParams()\n",
    "    dhModel.setPHREEQC()\n",
    "\n",
    "    editor = ChemicalEditor(db)\n",
    "    editor.addAqueousPhaseWithElements(\"H Cl S O Ba Ca Sr Na K Mg C\").\\\n",
    "        setChemicalModelDebyeHuckel(dhModel)\n",
    "\n",
    "    editor.addMineralPhase('Barite')\n",
    "    #editor.addMineralPhase('Witherite')\n",
    "    #editor.addMineralPhase('Anhydrite')\n",
    "    #editor.addMineralPhase('Celestite')\n",
    "\n",
    "    system = ChemicalSystem(editor)\n",
    "    print(system)\n",
    "\n",
    "    return system"
   ]
  },
  {
   "cell_type": "markdown",
   "metadata": {},
   "source": [
    "### Initial condition (IC) of the reactive transport problem"
   ]
  },
  {
   "cell_type": "code",
   "execution_count": null,
   "metadata": {
    "lines_to_next_cell": 1
   },
   "outputs": [],
   "source": [
    "def define_initial_condition_fw(system):\n",
    "\n",
    "    # Formation water at equilbrium:\n",
    "    # contain bivalent cations in relative abundance \n",
    "    # little sulfate\n",
    "\n",
    "    # the Miller analysis: \n",
    "\n",
    "    # Na+ = 27250 mg/kg\n",
    "    # K+ = 1730 mg/kg\n",
    "    # Mg++ = 110 mg/kg\n",
    "    # Ca++ = 995 mg/kg\n",
    "    # Sr++ = 105 mg/kg\n",
    "    # Ba++ = 995 mg/kg\n",
    "    # Cl- = 45150 mg/kg\n",
    "    # HCO3- = 1980 mg/kg\n",
    "    # SO4-- = 10 ug/kg\n",
    "    #\n",
    "    #  FW → high Ba2+ and low SO42- concentration\n",
    "\n",
    "    problem_ic = EquilibriumProblem(system)\n",
    "    problem_ic.setTemperature(T)\n",
    "    problem_ic.setPressure(P)\n",
    "    problem_ic.add(\"H2O\", 58.0, \"kg\")\n",
    "    problem_ic.add(\"SO4--\", 1e-6 * 58, \"kg\") # SO4-- = 10 ug/kg\n",
    "    problem_ic.add(\"Ca++\", 0.995 * 58, \"kg\") # Ca++ = 995 mg/kg\n",
    "    problem_ic.add(\"Ba++\", 0.995 * 58, \"kg\") # Ba++ = 995 mg/kg \n",
    "    problem_ic.add(\"Sr++\", 0.105 * 58, \"kg\") # Sr++ = 105 mg/kg\n",
    "\n",
    "    problem_ic.add(\"Na+\", 27.250 * 58, \"kg\") # Na+ = 27250 mg/kg\n",
    "    problem_ic.add(\"K+\", 1.730 * 58, \"kg\") # K+ = 1730 mg/kg\n",
    "    problem_ic.add(\"Mg++\", 0.110 * 58, \"kg\") # Mg++ = 110 mg/kg\n",
    "    problem_ic.add(\"Cl-\", 45.150 * 58, \"kg\") # Cl- = 45150 mg/kg\n",
    "    problem_ic.add(\"HCO3-\", 1.980 * 58, \"kg\") # HCO3- = 1980 mg/kg\n",
    "\n",
    "    # Calculate the equilibrium states for the initial conditions\n",
    "    state_ic = equilibrate(problem_ic)\n",
    "\n",
    "    # Scale the volumes of the phases in the initial condition\n",
    "    state_ic.scalePhaseVolume('Aqueous', 0.1, 'm3') # 10% of porosity\n",
    "    state_ic.scaleVolume(1.0, 'm3')\n",
    "\n",
    "    print(\"state_ic = \\n\", state_ic)\n",
    "\n",
    "    return state_ic"
   ]
  },
  {
   "cell_type": "markdown",
   "metadata": {},
   "source": [
    "### Boundary condition (BC) of the reactive transport problem"
   ]
  },
  {
   "cell_type": "code",
   "execution_count": null,
   "metadata": {},
   "outputs": [],
   "source": [
    "def define_boundary_condition_cb(system):\n",
    "\n",
    "    # Define the boundary condition of the reactive transport modeling problem\n",
    "    problem_bc = EquilibriumProblem(system)\n",
    "    problem_bc.setTemperature(T)\n",
    "    problem_bc.setPressure(P)\n",
    "    problem_bc.add(\"H2O\", 58.0, \"kg\")\n",
    "    problem_bc.add(\"NaCl\", 7, \"mol\")\n",
    "    \n",
    "    # Calculate the equilibrium states for the boundary conditions\n",
    "    state_bc = equilibrate(problem_bc)\n",
    "    # Scale the boundary condition state to 1 m3\n",
    "    state_bc.scaleVolume(1.0, 'm3')\n",
    "\n",
    "    print(\"state_bc_cb = \\n\", state_bc)\n",
    "\n",
    "    return state_bc"
   ]
  },
  {
   "cell_type": "code",
   "execution_count": null,
   "metadata": {},
   "outputs": [],
   "source": [
    "def define_boundary_condition_sw(system):\n",
    "\n",
    "    # Seawater: \n",
    "    # rich in sulfate > 2500 mg / kg\n",
    "    # poor in Ca++ and\n",
    "    # nearly depleted in Sr++ and Ba++\n",
    "    #\n",
    "    # SW → low Ba2+ and high SO 42- concentration\n",
    "\n",
    "    problem_bc = EquilibriumInverseProblem(system)\n",
    "    problem_bc.setTemperature(T)\n",
    "    problem_bc.setPressure(P)\n",
    "    problem_bc.add(\"H2O\", 58.0, \"kg\")\n",
    "    problem_bc.add(\"SO4--\", 157.18, \"kg\") # 157180 / 58 = 2710 > 2500 mg / kg\n",
    "    problem_bc.add(\"Ca++\", 23.838, \"kg\")  # 411 mg / kg = 0.411 kg / kg => 0.411 * 58 = 23.838\n",
    "    problem_bc.add(\"Ba++\", 5.8e-4, \"kg\")  # 0.01 mg / kg = 0.00001 kg / kg => 0.00001 * 58 = 0.00058\n",
    "    problem_bc.add(\"Sr++\", 0.464, \"kg\")   # 8 mg / kg = 0.008 kg / kg => 0.008 * 58 = 0.464\n",
    "\n",
    "    problem_bc.add(\"Na+\", 624.08, \"kg\") # 10760  mg / kg = 10.760 * 58 = 624.08\n",
    "    problem_bc.add(\"K+\", 23.142, \"kg\") # 399 mg / kg = 0.399 * 58 = 23.142 \n",
    "    problem_bc.add(\"Mg++\", 74.82, \"kg\") # 1290 mg / kg = 1.29 * 58 = 74.82\n",
    "    problem_bc.add(\"Cl-\", 1122.3, \"kg\") # 19350 mg / kg = 19.350 * 58 = 1122.3\n",
    "    problem_bc.add(\"HCO3-\", 8.236, \"kg\") # 142 mg / kg = 0.142 * 58 = 8.236\n",
    "    problem_bc.pH(8.1)\n",
    "    #problem_bc.pH(8.1, \"HCl\")\n",
    "    #problem_bc.pH(8.1, \"CO2\")\n",
    "    #problem_bc.pH(8.1, \"HCl\", \"NaOH\")\n",
    "\n",
    "    # Calculate the equilibrium states for the boundary conditions\n",
    "    state_bc = equilibrate(problem_bc)\n",
    "    # Scale the boundary condition state to 1 m3\n",
    "    state_bc.scaleVolume(1.0, 'm3')\n",
    "\n",
    "    print(\"state_bc_sw = \\n\", state_bc)\n",
    "\n",
    "    return state_bc"
   ]
  },
  {
   "cell_type": "markdown",
   "metadata": {},
   "source": [
    "### Indices of partitioning fluid and solid species"
   ]
  },
  {
   "cell_type": "code",
   "execution_count": null,
   "metadata": {},
   "outputs": [],
   "source": [
    "def partition_indices(system):\n",
    "    nelems = system.numElements()\n",
    "\n",
    "    ifluid_species = system.indicesFluidSpecies()\n",
    "    isolid_species = system.indicesSolidSpecies()\n",
    "\n",
    "    return nelems, ifluid_species, isolid_species"
   ]
  },
  {
   "cell_type": "markdown",
   "metadata": {},
   "source": [
    "### Partitioning fluid and solid species"
   ]
  },
  {
   "cell_type": "code",
   "execution_count": null,
   "metadata": {},
   "outputs": [],
   "source": [
    "def partition_elements_in_mesh_cell(ncells, nelems, state_ic, state_bc_cb, state_bc_sw):\n",
    "    # The concentrations of each element in each mesh cell (in the current time step)\n",
    "    b = np.zeros((ncells, nelems))\n",
    "    # Initialize the concentrations (mol/m3) of the elements in each mesh cell\n",
    "    b[:] = state_ic.elementAmounts()\n",
    "\n",
    "    # The concentrations (mol/m3) of each element in the fluid partition, in each mesh cell\n",
    "    bfluid = np.zeros((ncells, nelems))\n",
    "\n",
    "    # The concentrations (mol/m3) of each element in the solid partition, in each mesh cell\n",
    "    bsolid = np.zeros((ncells, nelems))\n",
    "\n",
    "    # Initialize the concentrations (mol/m3) of each element on the boundary, while injecting completion brine\n",
    "    b_bc_cb = state_bc_cb.elementAmounts()\n",
    "\n",
    "    # Initialize the concentrations (mol/m3) of each element on the boundary, while injecting completion brine\n",
    "    b_bc_sw = state_bc_sw.elementAmounts()\n",
    "\n",
    "    return b, bfluid, bsolid, b_bc_cb, b_bc_sw"
   ]
  },
  {
   "cell_type": "markdown",
   "metadata": {},
   "source": [
    "### Reactive transport cycle\n",
    "\n",
    "#### Transport"
   ]
  },
  {
   "cell_type": "code",
   "execution_count": null,
   "metadata": {},
   "outputs": [],
   "source": [
    "def transport(states, bfluid, bsolid, b, b_bc, nelems, ifluid_species, isolid_species):\n",
    "    # Collect the amounts of elements from fluid and solid partitions\n",
    "    for icell in range(ncells):\n",
    "        bfluid[icell] = states[icell].elementAmountsInSpecies(ifluid_species)\n",
    "        bsolid[icell] = states[icell].elementAmountsInSpecies(isolid_species)\n",
    "\n",
    "    # Get the porosity of the boundary cell\n",
    "    bc_cell = 0\n",
    "    phi_bc = states[bc_cell].properties().fluidVolume().val / states[bc_cell].properties().volume().val\n",
    "\n",
    "    # Transport each element in the fluid phase\n",
    "    for j in range(nelems):\n",
    "        transport_fullimplicit(bfluid[:, j], dt, dx, v, D, phi_bc * b_bc[j])\n",
    "\n",
    "    # Update the amounts of elements in both fluid and solid partitions\n",
    "    b[:] = bsolid + bfluid\n",
    "\n",
    "    return bfluid, bsolid, b"
   ]
  },
  {
   "cell_type": "markdown",
   "metadata": {},
   "source": [
    "##### Transport calculation with finite-volume scheme"
   ]
  },
  {
   "cell_type": "code",
   "execution_count": null,
   "metadata": {},
   "outputs": [],
   "source": [
    "def transport_fullimplicit(u, dt, dx, v, D, ul):\n",
    "    # Number of DOFs\n",
    "    n = len(u)\n",
    "    alpha = D * dt / dx ** 2\n",
    "    beta = v * dt / dx\n",
    "\n",
    "    # Upwind finite volume scheme\n",
    "    a = np.full(n, -beta - alpha)\n",
    "    b = np.full(n, 1 + beta + 2 * alpha)\n",
    "    c = np.full(n, -alpha)\n",
    "\n",
    "    # Set the boundary condition on the left cell\n",
    "    if dirichlet:\n",
    "        # Use Dirichlet BC boundary conditions\n",
    "        b[0] = 1.0\n",
    "        c[0] = 0.0\n",
    "        u[0] = ul\n",
    "\n",
    "    else:\n",
    "        # Flux boundary conditions (implicit scheme for the advection)\n",
    "        # Left boundary\n",
    "        b[0] = 1 + alpha + beta\n",
    "        c[0] = -alpha  # stays the same as it is defined -alpha\n",
    "        u[0] += beta * ul  # = dt/dx * v * g, flux that we prescribe is equal v * ul\n",
    "\n",
    "    # Right boundary is free\n",
    "    a[-1] = - beta\n",
    "    b[-1] = 1 + beta\n",
    "\n",
    "    # Solve a tridiagonal matrix equation\n",
    "    thomas(a, b, c, u)"
   ]
  },
  {
   "cell_type": "markdown",
   "metadata": {},
   "source": [
    "##### Solving the system of equations obtained from finite volume discretization"
   ]
  },
  {
   "cell_type": "code",
   "execution_count": null,
   "metadata": {},
   "outputs": [],
   "source": [
    "def thomas(a, b, c, d):\n",
    "    n = len(d)\n",
    "    c[0] /= b[0]\n",
    "    for i in range(1, n - 1):\n",
    "        c[i] /= b[i] - a[i] * c[i - 1]\n",
    "    d[0] /= b[0]\n",
    "    for i in range(1, n):\n",
    "        d[i] = (d[i] - a[i] * d[i - 1]) / (b[i] - a[i] * c[i - 1])\n",
    "    x = d\n",
    "    for i in reversed(range(0, n - 1)):\n",
    "        x[i] -= c[i] * x[i + 1]\n",
    "    return x"
   ]
  },
  {
   "cell_type": "markdown",
   "metadata": {},
   "source": [
    "#### Reactive chemistry"
   ]
  },
  {
   "cell_type": "code",
   "execution_count": null,
   "metadata": {},
   "outputs": [],
   "source": [
    "def reactive_chemistry(solver, states, b):\n",
    "    # Equilibrating all cells with the updated element amounts\n",
    "    for icell in range(ncells):\n",
    "        solver.solve(states[icell], T, P, b[icell])\n",
    "    return states"
   ]
  },
  {
   "cell_type": "markdown",
   "metadata": {},
   "source": [
    "### Results saving and analyzing\n",
    "\n",
    "Function `outputstate_df` is the auxiliary function to add data to the DataFrame at each time step."
   ]
  },
  {
   "cell_type": "code",
   "execution_count": null,
   "metadata": {
    "lines_to_next_cell": 1
   },
   "outputs": [],
   "source": [
    "def outputstate_df(step, system, states):\n",
    "    # Define the instance of ChemicalQuantity class\n",
    "    quantity = ChemicalQuantity(system)\n",
    "\n",
    "    # Create the list with empty values to populate with chemical properties\n",
    "    values = [None] * len(columns)\n",
    "    for state, x in zip(states, xcells):\n",
    "\n",
    "        # Populate values with number of reactive transport step and spacial coordinates\n",
    "        values[0] = step\n",
    "        values[1] = x\n",
    "\n",
    "        # Update the\n",
    "        quantity.update(state)\n",
    "        for quantity_name, i in zip(output_quantities, range(2, len(states))):\n",
    "            values[i] = quantity.value(quantity_name) * (100 / (1 - phi) if \"phaseVolume\" in quantity_name else 1)\n",
    "        df.loc[len(df)] = values"
   ]
  },
  {
   "cell_type": "markdown",
   "metadata": {},
   "source": [
    "### Plotting of the obtained results"
   ]
  },
  {
   "cell_type": "code",
   "execution_count": null,
   "metadata": {
    "lines_to_next_cell": 1
   },
   "outputs": [],
   "source": [
    "def titlestr(t):\n",
    "    t = t / minute  # Convert from seconds to minutes\n",
    "    h = int(t) / 60  # The number of hours\n",
    "    m = int(t) % 60  # The number of remaining minutes\n",
    "    return 'Time: %2dh %2dm' % (h, m)"
   ]
  },
  {
   "cell_type": "markdown",
   "metadata": {},
   "source": [
    "Routines `plot_figures_ph()`, `plot_figures_pyrrhotite_siderite_volume()`, `plot_figures_pyrrhotite_siderite_amount()`,\n",
    "and 'plot_figures_aqueous_species()' are dedicated to drawing the plots with chemical properties on the selected steps\n",
    "that are specified by the user below."
   ]
  },
  {
   "cell_type": "code",
   "execution_count": null,
   "metadata": {
    "lines_to_next_cell": 1
   },
   "outputs": [],
   "source": [
    "def plot_figures_ph(steps):\n",
    "    # Plot ph on the selected steps\n",
    "    plots = []\n",
    "    for i in steps:\n",
    "        print(\"On pH figure at time step: {}\".format(i))\n",
    "        t = i * dt\n",
    "        source = ColumnDataSource(df[df['step'] == i])\n",
    "\n",
    "        p = figure(plot_width=600, plot_height=250)\n",
    "        p.line(x='x', y='pH', color='teal', line_width=2, legend_label='pH', source=source)\n",
    "        p.x_range = Range1d(xl-1, xr+1)\n",
    "        p.y_range = Range1d(6.0, 26.0)\n",
    "        p.xaxis.axis_label = 'Distance [m]'\n",
    "        p.yaxis.axis_label = 'pH'\n",
    "        p.legend.location = 'bottom_right'\n",
    "        p.title.text = titlestr(t)\n",
    "\n",
    "        plots.append([p])\n",
    "\n",
    "    grid = gridplot(plots)\n",
    "    show(grid)"
   ]
  },
  {
   "cell_type": "code",
   "execution_count": null,
   "metadata": {
    "lines_to_next_cell": 1
   },
   "outputs": [],
   "source": [
    "def plot_figures_barite_phase_amount(steps):\n",
    "    plots = []\n",
    "    for i in steps:\n",
    "        print(\"On barite figure at time step: {}\".format(i))\n",
    "        t = i * dt\n",
    "        source = ColumnDataSource(df[df['step'] == i])\n",
    "\n",
    "        p = figure(plot_width=600, plot_height=250)\n",
    "        p.line(x='x', y='Barite_phase_amount', color='blue', line_width=2, legend_label='Barite',\n",
    "               muted_color='blue', muted_alpha=0.2, source=source)\n",
    "        p.x_range = Range1d(xl-1, xr+1)\n",
    "        p.y_range = Range1d(-0.001, 60.0)\n",
    "        p.xaxis.axis_label = 'Distance [m]'\n",
    "        p.yaxis.axis_label = 'Mineral Phase Amount [mol]'\n",
    "        p.legend.location = 'center_right'\n",
    "        p.title.text = titlestr(t)\n",
    "        p.legend.click_policy = 'mute'\n",
    "        plots.append([p])\n",
    "\n",
    "    grid = gridplot(plots)\n",
    "    show(grid)"
   ]
  },
  {
   "cell_type": "code",
   "execution_count": null,
   "metadata": {
    "lines_to_next_cell": 1
   },
   "outputs": [],
   "source": [
    "def plot_figures_aqueous_species(steps):\n",
    "    plots = []\n",
    "    for i in steps:\n",
    "        print(\"On aqueous-species figure at time step: {}\".format(i))\n",
    "        source = ColumnDataSource(df[df['step'] == i])\n",
    "        t = dt * i\n",
    "\n",
    "        p = figure(plot_width=600, plot_height=300, y_axis_type = 'log',)\n",
    "        #p.line(x='x', y='Hcation', color='darkviolet', line_width=2, legend_label='H+', source=source)\n",
    "        p.line(x='x', y='Clanion', color='darkcyan', line_width=2, legend_label='Cl-', source=source)\n",
    "        p.line(x='x', y='SO4anion', color='darkorange', line_width=2, legend_label='SO4--', source=source)\n",
    "        p.line(x='x', y='Bacation', color='seagreen', line_width=2, legend_label='Ba++', source=source)\n",
    "        #p.line(x='x', y='Cacation', color='indianred', line_width=2, legend_label='Ca++', source=source)\n",
    "        #p.line(x='x', y='Srcation', color='darkblue', line_width=2, legend_label='Sr++', source=source)\n",
    "        #p.line(x='x', y='Nacation', color='blue', line_width=2, legend_label='Na+', source=source)\n",
    "        p.x_range = Range1d(xl-1, xr+1)\n",
    "        #p.y_range = Range1d(1e-12, 1e-1)\n",
    "        p.xaxis.axis_label = 'Distance [m]'\n",
    "        p.yaxis.axis_label = 'Concentration [molal]'\n",
    "        p.legend.location = 'top_right'\n",
    "        p.title.text = titlestr(t)\n",
    "        p.legend.click_policy = 'mute'\n",
    "        plots.append([p])\n",
    "\n",
    "    grid = gridplot(plots)\n",
    "    show(grid)"
   ]
  },
  {
   "cell_type": "code",
   "execution_count": null,
   "metadata": {
    "lines_to_next_cell": 1
   },
   "outputs": [],
   "source": [
    "def plot_figures_aqueous_species(steps):\n",
    "    plots = []\n",
    "    for i in steps:\n",
    "        print(\"On aqueous-species figure at time step: {}\".format(i))\n",
    "        source = ColumnDataSource(df[df['step'] == i])\n",
    "        t = dt * i\n",
    "\n",
    "        p = figure(plot_width=600, plot_height=300, y_axis_type = 'log',)\n",
    "        #p.line(x='x', y='Hcation', color='darkviolet', line_width=2, legend_label='H+', source=source)\n",
    "        p.line(x='x', y='Clanion', color='darkcyan', line_width=2, legend_label='Cl-', source=source)\n",
    "        p.line(x='x', y='SO4anion', color='darkorange', line_width=2, legend_label='SO4--', source=source)\n",
    "        p.line(x='x', y='Bacation', color='seagreen', line_width=2, legend_label='Ba++', source=source)\n",
    "        #p.line(x='x', y='Cacation', color='indianred', line_width=2, legend_label='Ca++', source=source)\n",
    "        #p.line(x='x', y='Srcation', color='darkblue', line_width=2, legend_label='Sr++', source=source)\n",
    "        #p.line(x='x', y='Nacation', color='blue', line_width=2, legend_label='Na+', source=source)\n",
    "        p.x_range = Range1d(xl-1, xr+1)\n",
    "        #p.y_range = Range1d(1e-12, 1e-1)\n",
    "        p.xaxis.axis_label = 'Distance [m]'\n",
    "        p.yaxis.axis_label = 'Concentration [molal]'\n",
    "        p.legend.location = 'top_right'\n",
    "        p.title.text = titlestr(t)\n",
    "        p.legend.click_policy = 'mute'\n",
    "        plots.append([p])\n",
    "\n",
    "    grid = gridplot(plots)\n",
    "    show(grid)"
   ]
  },
  {
   "cell_type": "markdown",
   "metadata": {},
   "source": [
    "# Main parts of the tutorial\n",
    "\n",
    "First, we create folders for the results:"
   ]
  },
  {
   "cell_type": "code",
   "execution_count": null,
   "metadata": {},
   "outputs": [],
   "source": [
    "make_results_folders()"
   ]
  },
  {
   "cell_type": "code",
   "execution_count": null,
   "metadata": {},
   "outputs": [],
   "source": [
    "# Run the reactive transport simulations:\n",
    "# ------------------------------------------------------------------------------------------------------------\n",
    "# Construct the chemical system with its phases and species\n",
    "system = define_chemical_system()"
   ]
  },
  {
   "cell_type": "code",
   "execution_count": null,
   "metadata": {},
   "outputs": [],
   "source": [
    "# Define the initial condition of the reactive transport modeling problem\n",
    "state_ic = define_initial_condition_fw(system)"
   ]
  },
  {
   "cell_type": "code",
   "execution_count": null,
   "metadata": {},
   "outputs": [],
   "source": [
    "# Define the boundary condition of the reactive transport modeling problem composed of two different stages\n",
    "state_bc_cb = define_boundary_condition_cb(system)\n",
    "state_bc_sw = define_boundary_condition_sw(system)"
   ]
  },
  {
   "cell_type": "code",
   "execution_count": null,
   "metadata": {},
   "outputs": [],
   "source": [
    "# Generate indices of partitioning fluid and solid species\n",
    "nelems, ifluid_species, isolid_species = partition_indices(system)"
   ]
  },
  {
   "cell_type": "code",
   "execution_count": null,
   "metadata": {},
   "outputs": [],
   "source": [
    "# Partitioning fluid and solid species\n",
    "b, bfluid, bsolid, b_bc_cb, b_bc_sw \\\n",
    "    = partition_elements_in_mesh_cell(ncells, nelems, state_ic, state_bc_cb, state_bc_sw)"
   ]
  },
  {
   "cell_type": "code",
   "execution_count": null,
   "metadata": {},
   "outputs": [],
   "source": [
    "# Create a list of chemical states for the mesh cells (one for each cell, initialized to state_ic)\n",
    "states = [state_ic.clone() for _ in range(ncells + 1)]"
   ]
  },
  {
   "cell_type": "code",
   "execution_count": null,
   "metadata": {},
   "outputs": [],
   "source": [
    "# Create the equilibrium solver object for the repeated equilibrium calculation\n",
    "solver = EquilibriumSolver(system)"
   ]
  },
  {
   "cell_type": "code",
   "execution_count": null,
   "metadata": {},
   "outputs": [],
   "source": [
    "# Running the reactive transport simulation loop\n",
    "step = 0  # the current step number\n",
    "t = 0.0  # the current time (in seconds)"
   ]
  },
  {
   "cell_type": "code",
   "execution_count": null,
   "metadata": {},
   "outputs": [],
   "source": [
    "# Output the initial state of the reactive transport calculation\n",
    "outputstate_df(step, system, states)"
   ]
  },
  {
   "cell_type": "code",
   "execution_count": null,
   "metadata": {},
   "outputs": [],
   "source": [
    "with tqdm(total=nsteps_cb, desc=\"45 hours of completion brine (CB) injection\") as pbar:\n",
    "    while step < nsteps_cb:\n",
    "        # Perform transport calculations\n",
    "        bfluid, bsolid, b = transport(states, bfluid, bsolid, b, b_bc_cb, nelems, ifluid_species, isolid_species)\n",
    "\n",
    "        # Perform reactive chemical calculations\n",
    "        states = reactive_chemistry(solver, states, b)\n",
    "\n",
    "        # Increment time step and number of time steps\n",
    "        t += dt\n",
    "        step += 1\n",
    "\n",
    "        # Output the current state of the reactive transport calculation\n",
    "        outputstate_df(step, system, states)\n",
    "\n",
    "        # Update a progress bar\n",
    "        pbar.update(1)"
   ]
  },
  {
   "cell_type": "markdown",
   "metadata": {},
   "source": [
    "(rows, columns) = df.shape"
   ]
  },
  {
   "cell_type": "code",
   "execution_count": null,
   "metadata": {},
   "outputs": [],
   "source": [
    "print(f\"time: {t / hour} hours\")"
   ]
  },
  {
   "cell_type": "markdown",
   "metadata": {},
   "source": [
    "df['Barite_SI'] = rows * [0]"
   ]
  },
  {
   "cell_type": "code",
   "execution_count": null,
   "metadata": {},
   "outputs": [],
   "source": [
    "with tqdm(total=nsteps_sw, desc=\"855 hours of seawater (SW) injection\") as pbar:\n",
    "    while step < nsteps_sw + nsteps_cb:\n",
    "        # Perform transport calculations\n",
    "        bfluid, bsolid, b = transport(states, bfluid, bsolid, b, b_bc_sw, nelems, ifluid_species, isolid_species)\n",
    "\n",
    "        # Perform reactive chemical calculations\n",
    "        states = reactive_chemistry(solver, states, b)\n",
    "\n",
    "        # Increment time step and number of time steps\n",
    "        t += dt\n",
    "        step += 1\n",
    "\n",
    "        # Output the current state of the reactive transport calculation\n",
    "        outputstate_df(step, system, states)\n",
    "\n",
    "        # Update a progress bar\n",
    "        pbar.update(1)\n",
    "# ------------------------------------------------------------------------------------------------------------"
   ]
  },
  {
   "cell_type": "markdown",
   "metadata": {},
   "source": [
    "To inspect the collected data, one can run:"
   ]
  },
  {
   "cell_type": "code",
   "execution_count": null,
   "metadata": {},
   "outputs": [],
   "source": [
    "df.shape"
   ]
  },
  {
   "cell_type": "code",
   "execution_count": null,
   "metadata": {},
   "outputs": [],
   "source": [
    "df"
   ]
  },
  {
   "cell_type": "markdown",
   "metadata": {},
   "source": [
    "To save the results in csv-format, please execute:"
   ]
  },
  {
   "cell_type": "code",
   "execution_count": null,
   "metadata": {},
   "outputs": [],
   "source": [
    "df.to_csv(folder_results + '/rt.scaling.csv', index=False)"
   ]
  },
  {
   "cell_type": "markdown",
   "metadata": {},
   "source": [
    "Select the steps, on which results must plotted:"
   ]
  },
  {
   "cell_type": "code",
   "execution_count": null,
   "metadata": {},
   "outputs": [],
   "source": [
    "selected_steps_to_plot = [20, 45, 46, 60, 120, 260, 300]\n",
    "assert all(step <= nsteps for step in selected_steps_to_plot), f\"Make sure that selceted steps are less than \" \\\n",
    "                                                               f\"total amount of steps {nsteps}\""
   ]
  },
  {
   "cell_type": "markdown",
   "metadata": {},
   "source": [
    "Outputting the plots to the notebook requires the call of `output_notebook()` that specifies outputting the plot\n",
    "inline in the Jupyter notebook:"
   ]
  },
  {
   "cell_type": "code",
   "execution_count": null,
   "metadata": {},
   "outputs": [],
   "source": [
    "output_notebook()"
   ]
  },
  {
   "cell_type": "markdown",
   "metadata": {},
   "source": [
    "Plot ph on the selected steps:"
   ]
  },
  {
   "cell_type": "code",
   "execution_count": null,
   "metadata": {},
   "outputs": [],
   "source": [
    "plot_figures_ph(selected_steps_to_plot)"
   ]
  },
  {
   "cell_type": "markdown",
   "metadata": {},
   "source": [
    "Plot calcite and dolomite on the selected steps:"
   ]
  },
  {
   "cell_type": "code",
   "execution_count": null,
   "metadata": {},
   "outputs": [],
   "source": [
    "plot_figures_barite_phase_amount(selected_steps_to_plot)"
   ]
  },
  {
   "cell_type": "markdown",
   "metadata": {},
   "source": [
    "One can also call `plot_figures_pyrrhotite_siderite_volume(selected_steps_to_plot)` instead of the function\n",
    "`plot_figures_pyrrhotite_siderite_amount()`."
   ]
  },
  {
   "cell_type": "markdown",
   "metadata": {},
   "source": [
    "Plot aqueous species on the selected steps:"
   ]
  },
  {
   "cell_type": "code",
   "execution_count": null,
   "metadata": {
    "lines_to_next_cell": 2
   },
   "outputs": [],
   "source": [
    "plot_figures_aqueous_species(selected_steps_to_plot)"
   ]
  },
  {
   "cell_type": "code",
   "execution_count": null,
   "metadata": {
    "lines_to_next_cell": 1
   },
   "outputs": [],
   "source": [
    "step = 10"
   ]
  },
  {
   "cell_type": "markdown",
   "metadata": {},
   "source": [
    "The data streaming is looped, i.e., we will return to the initial time step when reaching the end of the reactive\n",
    "transport simulations."
   ]
  },
  {
   "cell_type": "code",
   "execution_count": null,
   "metadata": {
    "lines_to_next_cell": 1
   },
   "outputs": [],
   "source": [
    "def modify_doc(doc):\n",
    "    # Initialize the data by the initial chemical state\n",
    "    source = ColumnDataSource(df[df['step'] == 0])\n",
    "\n",
    "    # Auxiliary function that returns a string for the title of a figure in the format Time: #h##m\n",
    "    def titlestr(t):\n",
    "        t = t / minute  # Convert from seconds to minutes\n",
    "        h = int(t) / 60  # The number of hours\n",
    "        m = int(t) % 60  # The number of remaining minutes\n",
    "        return 'Time: %2dh %2dm' % (h, m)\n",
    "\n",
    "    # Plot for ph\n",
    "    p1 = figure(plot_width=600, plot_height=250)\n",
    "    p1.line(x='x', y='pH', color='teal', line_width=2, legend_label='pH', source=source)\n",
    "    p1.x_range = Range1d(xl - 1, xr + 1)\n",
    "    p1.y_range = Range1d(6.0, 26.0)\n",
    "    p1.xaxis.axis_label = 'Distance [m]'\n",
    "    p1.yaxis.axis_label = 'pH'\n",
    "    p1.legend.location = 'bottom_right'\n",
    "    p1.title.text = titlestr(0 * dt)\n",
    "\n",
    "    # Plot for calcite and dolomite\n",
    "    p2 = figure(plot_width=600, plot_height=250)\n",
    "    p2.line(x='x', y='Barite_phase_amount', color='blue', line_width=2,\n",
    "            legend_label='Barite', muted_color='blue', muted_alpha=0.2,\n",
    "            source=source)\n",
    "    p2.x_range = Range1d(xl - 1, xr + 1)\n",
    "    p2.y_range = Range1d(-0.001, 60.0)\n",
    "    p2.xaxis.axis_label = 'Distance [m]'\n",
    "    p2.yaxis.axis_label = 'Phase Amount [mol]'\n",
    "    p2.legend.location = 'center_right'\n",
    "    p2.title.text = titlestr(0 * dt)\n",
    "    p2.legend.click_policy = 'mute'\n",
    "\n",
    "    p3 = figure(plot_width=600, plot_height=300, y_axis_type='log')\n",
    "    #p3.line(x='x', y='Hcation', color='darkviolet', line_width=2, legend_label='H+', source=source)\n",
    "    p3.line(x='x', y='Clanion', color='darkcyan', line_width=2, legend_label='Cl-', source=source)\n",
    "    p3.line(x='x', y='SO4anion', color='darkorange', line_width=2, legend_label='SO4--', source=source)\n",
    "    p3.line(x='x', y='Bacation', color='seagreen', line_width=2, legend_label='Ba++', source=source)\n",
    "    #p3.line(x='x', y='Cacation', color='indianred', line_width=2, legend_label='Ca++', source=source)\n",
    "    #p3.line(x='x', y='Srcation', color='darkblue', line_width=2, legend_label='Sr++', source=source)\n",
    "    #p3.line(x='x', y='Nacation', color='blue', line_width=2, legend_label='Na+', source=source)\n",
    "    p3.x_range = Range1d(xl - 1, xr + 1)\n",
    "    p3.xaxis.axis_label = 'Distance [m]'\n",
    "    p3.yaxis.axis_label = 'Concentration [molal]'\n",
    "    p3.legend.location = 'top_right'\n",
    "    p3.title.text = titlestr(0 * dt)\n",
    "    p3.legend.click_policy = 'mute'\n",
    "\n",
    "    layout = column(p1, p2, p3)\n",
    "\n",
    "    # Function that return the data dictionary with provided index of the file\n",
    "    def update():\n",
    "\n",
    "        if source.data['step'][0] + 1 <= nsteps:\n",
    "            step_number = source.data['step'][0] + step\n",
    "        else:\n",
    "            step_number = 0\n",
    "\n",
    "        new_source = ColumnDataSource(df[df['step'] == step_number])\n",
    "        new_data = dict(index=np.linspace(0, ncells, ncells + 1, dtype=int),\n",
    "                        step=new_source.data['step'],\n",
    "                        x=new_source.data['x'],\n",
    "                        pH=new_source.data['pH'],\n",
    "                        Barite_phase_amount=new_source.data['Barite_phase_amount'],\n",
    "                        Hcation=new_source.data['Hcation'],\n",
    "                        SO4anion=new_source.data['SO4anion'],\n",
    "                        Clanion=new_source.data['Clanion'],\n",
    "                        Bacation=new_source.data['Bacation'],\n",
    "                        Cacation=new_source.data['Cacation'],\n",
    "                        Srcation=new_source.data['Srcation'],\n",
    "                        Nacation=new_source.data['Nacation'],\n",
    "                        Bacation_activity=new_source.data['Bacation_activity'],\n",
    "                        SO4anion_activity=new_source.data['SO4anion_activity'],\n",
    "                        Bacation_activity_cofficient=new_source.data['Bacation_activity_cofficient'],\n",
    "                        SO4anion_activity_cofficient=new_source.data['SO4anion_activity_cofficient'])\n",
    "\n",
    "        p1.title.text = titlestr(step_number * dt)\n",
    "        p2.title.text = titlestr(step_number * dt)\n",
    "        p3.title.text = titlestr(step_number * dt)\n",
    "\n",
    "        source.stream(new_data, rollover=ncells+1)\n",
    "\n",
    "    doc.add_periodic_callback(update, 500)\n",
    "    doc.add_root(layout)"
   ]
  },
  {
   "cell_type": "markdown",
   "metadata": {},
   "source": [
    "Outputting the plots to the notebook requires the call of `output_notebook()` that specifies outputting the plot\n",
    "inline in the Jupyter notebook. Finally, the function `modify_doc()` must be passed to `show`, so that the app defined\n",
    "by it is displayed inline.\n",
    "\n",
    "> **Important:** If you run this tutorial in the *localhost*, make sure that number provided to the variable\n",
    "`notebook_url` below coincides with the number of the localhost you have in your browser.\n",
    "\n",
    "In the app below, we refresh the reactive time step in a loop, which automatically updates the data source for the\n",
    "plots for ph, volume phases of calcite and dolomite, and mollalities of aqueous species (in logarithmic scale)."
   ]
  },
  {
   "cell_type": "code",
   "execution_count": null,
   "metadata": {},
   "outputs": [],
   "source": [
    "output_notebook()\n",
    "show(modify_doc, notebook_url=\"http://localhost:8888\")"
   ]
  }
 ],
 "metadata": {
  "kernelspec": {
   "display_name": "Python 3",
   "language": "python",
   "name": "python3"
  }
 },
 "nbformat": 4,
 "nbformat_minor": 4
}
