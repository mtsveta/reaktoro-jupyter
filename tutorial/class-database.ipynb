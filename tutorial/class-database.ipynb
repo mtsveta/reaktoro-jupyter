{
 "cells": [
  {
   "cell_type": "markdown",
   "metadata": {},
   "source": [
    "# Functionality of Database class\n",
    "\n",
    "In this tutorial, we provide explanation on functionality of class\n",
    "[Database](https://reaktoro.org/cpp/classReaktoro_1_1Database.html)\n",
    "that provides operations to retrieve physical and thermodynamic data of chemical species."
   ]
  },
  {
   "cell_type": "markdown",
   "metadata": {},
   "source": [
    "### Importing the reaktoro Python package\n",
    "\n",
    "Using **Reaktoro** in Python requires first an import of the python package `reaktoro`:"
   ]
  },
  {
   "cell_type": "code",
   "execution_count": null,
   "metadata": {},
   "outputs": [],
   "source": [
    "from reaktoro import *"
   ]
  },
  {
   "cell_type": "markdown",
   "metadata": {},
   "source": [
    "From this point on, we are able to use the library components of Reaktoro (classes, methods, constants), which are\n",
    "needed to define our chemical system and chemical reaction modeling problems.\n",
    "\n",
    "> **Note:** To simplify the tutorials, we\n",
    "> use `from reaktoro import *`, which imports all components of the `reaktoro` package into the default Python\n",
    "> namespace. In more complex project, this can potentially create name conflicts. Thus, for bigger applications, consider\n",
    "> using `import reaktoro as rkt`, and then refer to Reaktoro’s classes and methods as `rkt.Database`,\n",
    "> `rkt.ChemicalSystem`, `rkt.equilibrate`, etc."
   ]
  },
  {
   "cell_type": "markdown",
   "metadata": {},
   "source": [
    "Reaktoro currently supports the following thermodynamic databases:\n",
    "\n",
    "* SUPCRT92;\n",
    "* PHREEQC; and\n",
    "* GEMS.\n",
    "\n",
    "More information can be found on the web-page with [Reaktoro's Documentation](https://reaktoro\n",
    ".org/thermodynamic-databases.html)."
   ]
  },
  {
   "cell_type": "markdown",
   "metadata": {},
   "source": [
    "### Initializing a thermodynamic database"
   ]
  },
  {
   "cell_type": "markdown",
   "metadata": {},
   "source": [
    "To initialize a thermodynamic database, we must provide xml-file, i.e.,"
   ]
  },
  {
   "cell_type": "code",
   "execution_count": null,
   "metadata": {},
   "outputs": [],
   "source": [
    "db = Database(\"supcrt98.xml\")"
   ]
  },
  {
   "cell_type": "markdown",
   "metadata": {},
   "source": [
    "Here, we use [supcrt98.xml](https://github.com/reaktoro/reaktoro/blob/master/databases/supcrt/supcrt98.xml)\n",
    "database file generated from the original **SUPCRT92** database file slop98.dat.\n",
    "\n",
    "> **Note:** If filename does not point\n",
    "> to a valid database file or the database file is not found, then a default built-in database with the same name\n",
    "> will be tried. If no default built-in database exists with a given name, an exception will be thrown."
   ]
  },
  {
   "cell_type": "markdown",
   "metadata": {},
   "source": [
    "### Accessing the content of thermodynamic database\n",
    "\n",
    "It is possible to print all the aqueous species contained in the database SUPCRT92, i.e.,"
   ]
  },
  {
   "cell_type": "code",
   "execution_count": null,
   "metadata": {},
   "outputs": [],
   "source": [
    "print(\"List of all aqueous species in database SUPCRT92:\\n\")\n",
    "for aqueous_species in db.aqueousSpecies():\n",
    "    print(aqueous_species.name())"
   ]
  },
  {
   "cell_type": "markdown",
   "metadata": {},
   "source": [
    "Similar output can be written for the gaseous species (with exception of the function that return the list of such\n",
    "species), i.e.,"
   ]
  },
  {
   "cell_type": "code",
   "execution_count": null,
   "metadata": {},
   "outputs": [],
   "source": [
    "print(\"List of all gaseous species in database SUPCRT92:\\n\")\n",
    "for gaseous_species in db.gaseousSpecies():\n",
    "    print(gaseous_species.name())"
   ]
  },
  {
   "cell_type": "markdown",
   "metadata": {},
   "source": [
    "All the minerals included in the database can be accessed as well:"
   ]
  },
  {
   "cell_type": "code",
   "execution_count": null,
   "metadata": {},
   "outputs": [],
   "source": [
    "print(\"List of all minerals in database SUPCRT92:\\n\")\n",
    "[print(minerals.name()) for minerals in db.mineralSpecies()]"
   ]
  },
  {
   "cell_type": "markdown",
   "metadata": {},
   "source": [
    "To check if certain species is present in the database, one can use"
   ]
  },
  {
   "cell_type": "code",
   "execution_count": null,
   "metadata": {},
   "outputs": [],
   "source": [
    "print(\"Is Zn++ present in the database? \", db.containsAqueousSpecies(\"Zn++\"))\n",
    "print(\"Is Calcite present in the database? \", db.containsMineralSpecies(\"Calcite\"))\n",
    "print(\"Is CO2(g) present in the database? \", db.containsGaseousSpecies(\"CO2(g)\"))\n",
    "print(\"Is Zn+ present in the database? \", db.containsAqueousSpecies(\"Zn+\"))"
   ]
  },
  {
   "cell_type": "markdown",
   "metadata": {},
   "source": [
    "Besides, we can output all, say, aqueous species containing a particular element (e.g., hydrogen):"
   ]
  },
  {
   "cell_type": "code",
   "execution_count": null,
   "metadata": {},
   "outputs": [],
   "source": [
    "print(\"List of all aqueous species in database with hydrogen:\\n\")\n",
    "for species in db.aqueousSpeciesWithElements([\"H\"]):\n",
    "    print(species.name())"
   ]
  },
  {
   "cell_type": "markdown",
   "metadata": {},
   "source": [
    "A thermodynamic database contains model parameters for the evaluation of standard thermodynamic properties of\n",
    "species and/or reactions (e.g., standard Gibbs energies, equilibrium constants). These properties can be accessed by\n",
    "fetching a particular element from the database:"
   ]
  },
  {
   "cell_type": "code",
   "execution_count": null,
   "metadata": {},
   "outputs": [],
   "source": [
    "species = db.aqueousSpecies(\"CaCl2(aq)\")"
   ]
  },
  {
   "cell_type": "markdown",
   "metadata": {},
   "source": [
    "After obtaining a particular species, its properties can be obtained by calling corresponding function, e.g., we can\n",
    "output charge and dissociation of $\\mathrm{CaCl_2}$:"
   ]
  },
  {
   "cell_type": "code",
   "execution_count": null,
   "metadata": {},
   "outputs": [],
   "source": [
    "print(\"Charge of CaCl2(aq): \", species.charge())\n",
    "print(\"Dissociation CaCl2(aq): \", species.dissociation())"
   ]
  }
 ],
 "metadata": {
  "kernelspec": {
   "display_name": "Python 3",
   "language": "python",
   "name": "python3"
  },
  "language_info": {
   "codemirror_mode": {
    "name": "ipython",
    "version": 3
   },
   "file_extension": ".py",
   "mimetype": "text/x-python",
   "name": "python",
   "nbconvert_exporter": "python",
   "pygments_lexer": "ipython3",
   "version": "3.8.1"
  }
 },
 "nbformat": 4,
 "nbformat_minor": 4
}
