{
 "cells": [
  {
   "cell_type": "markdown",
   "metadata": {},
   "source": [
    "# Mass balance and mass action equations for chemical equilibrium calculations"
   ]
  },
  {
   "cell_type": "code",
   "execution_count": null,
   "metadata": {},
   "outputs": [],
   "source": [
    "from reaktoro import *\n",
    "db = Database(\"supcrt98.xml\")\n",
    "editor = ChemicalEditor(db)\n",
    "editor.addAqueousPhaseWithElements(\"H O C\")\n",
    "editor.addGaseousPhase([\"H2O(g)\", \"CO2(g)\"])\n",
    "\n",
    "system = ChemicalSystem(editor)\n",
    "\n",
    "problem = EquilibriumProblem(system)\n",
    "T = 100 # celsius\n",
    "P = 50.0 # bars\n",
    "problem.setTemperature(T, \"celsius\")\n",
    "problem.setPressure(P, \"bar\")\n",
    "problem.add(\"H2O\", 100, \"mol\")\n",
    "problem.add(\"CO2\", 2, \"mol\")"
   ]
  },
  {
   "cell_type": "code",
   "execution_count": null,
   "metadata": {},
   "outputs": [],
   "source": [
    "state = equilibrate(problem)"
   ]
  },
  {
   "cell_type": "code",
   "execution_count": null,
   "metadata": {},
   "outputs": [],
   "source": [
    "b = state.elementAmounts()\n",
    "n = state.speciesAmounts()\n",
    "print(\"b = \", b)\n",
    "print(\"n = \", n)\n",
    "A = system.formulaMatrix()\n",
    "print(\"A =\\n\", A)"
   ]
  },
  {
   "cell_type": "markdown",
   "metadata": {},
   "source": [
    "Residual evalaution:"
   ]
  },
  {
   "cell_type": "code",
   "execution_count": null,
   "metadata": {},
   "outputs": [],
   "source": [
    "r = b - np.dot(A, n)\n",
    "import numpy as np\n",
    "r_norm = np.linalg.norm(r)\n",
    "print(\"||r|| = \", r_norm)"
   ]
  },
  {
   "cell_type": "markdown",
   "metadata": {},
   "source": [
    "How much of the CO2(g) is dissolved as CO2(aq)?"
   ]
  },
  {
   "cell_type": "code",
   "execution_count": null,
   "metadata": {},
   "outputs": [],
   "source": [
    "print(f\"CO2(aq) amount is {state.speciesAmount('CO2(aq)'):6.4e} mol\")"
   ]
  },
  {
   "cell_type": "markdown",
   "metadata": {},
   "source": [
    "How much of the HO2(l) is evaporate as HO2(g)?"
   ]
  },
  {
   "cell_type": "code",
   "execution_count": null,
   "metadata": {},
   "outputs": [],
   "source": [
    "print(f\"HO2(g) amount is {state.speciesAmount('H2O(g)'):6.4e} mol\")"
   ]
  },
  {
   "cell_type": "markdown",
   "metadata": {},
   "source": [
    "What is the amount of H+(aq)?"
   ]
  },
  {
   "cell_type": "code",
   "execution_count": null,
   "metadata": {},
   "outputs": [],
   "source": [
    "print(f\"H+ amount is {state.speciesAmount('H+'):6.4e} mol\")"
   ]
  },
  {
   "cell_type": "code",
   "execution_count": null,
   "metadata": {},
   "outputs": [],
   "source": [
    "n, m = A.shape\n",
    "for i in range(n):\n",
    "    for j in range(m):\n",
    "        print(f\"{A[i][j]:4.0f}\", end=\" \")\n",
    "    print(\"\\n\")"
   ]
  },
  {
   "cell_type": "markdown",
   "metadata": {},
   "source": [
    "Rank is the maximal number of linearly independent columns of A, and is iqual to the dimension of the vector space spanned by its rows."
   ]
  },
  {
   "cell_type": "code",
   "execution_count": null,
   "metadata": {},
   "outputs": [],
   "source": [
    "rank = np.linalg.matrix_rank(A)\n",
    "print(\"Rank of A is\", rank)"
   ]
  },
  {
   "cell_type": "markdown",
   "metadata": {},
   "source": [
    "The matrix from the lectures:"
   ]
  },
  {
   "cell_type": "code",
   "execution_count": null,
   "metadata": {},
   "outputs": [],
   "source": [
    "A_ = [[2, 1, 1, 0, 1, 0, 0, 2],\n",
    "      [1, 0, 1, 3, 3, 2, 2, 1],\n",
    "      [0, 0, 0, 1, 1, 1, 1, 0],\n",
    "      [0, 1, -1, -2, -1, 0, 0, 0]]\n",
    "print(\"Rank of A is\", np.linalg.matrix_rank(A_))"
   ]
  },
  {
   "cell_type": "markdown",
   "metadata": {},
   "source": [
    "Which phases exist in equilibrium state? "
   ]
  },
  {
   "cell_type": "code",
   "execution_count": null,
   "metadata": {},
   "outputs": [],
   "source": [
    "phases_names = [phase.name() for phase in system.phases()]\n",
    "stability_indices = state.phaseStabilityIndices()\n",
    "print(\"Phases  : Phase amounts : Stability Indices\")\n",
    "for name, si in zip(phases_names, stability_indices):\n",
    "    print(f\"{name:>7} : {state.phaseAmount(name):13.4f} : {si}\")"
   ]
  },
  {
   "cell_type": "markdown",
   "metadata": {},
   "source": [
    "**Note**: The stability index of a *stable phase* is zero (or very close to zero), negative for *under-saturated phase*, and positive for the *over-saturated phase*."
   ]
  },
  {
   "cell_type": "code",
   "execution_count": null,
   "metadata": {},
   "outputs": [],
   "source": [
    "molar_masses = [element.molarMass() for element in system.elements()]\n",
    "element_names = [element.name() for element in system.elements()]\n",
    "for name, molar_mass in zip(element_names, molar_masses):\n",
    "    print(f\"{name} : {molar_mass:6.4e} (kg/mol)\")"
   ]
  },
  {
   "cell_type": "code",
   "execution_count": null,
   "metadata": {},
   "outputs": [],
   "source": [
    "for name, amount, molar_mass in zip(element_names, b, molar_masses):\n",
    "    print(f\"{name} : {amount:6.2f} mols and {amount*molar_mass*1e3:8.2f} g\")"
   ]
  },
  {
   "cell_type": "markdown",
   "metadata": {},
   "source": [
    "What are the amounts of each chemical species "
   ]
  },
  {
   "cell_type": "code",
   "execution_count": null,
   "metadata": {},
   "outputs": [],
   "source": [
    "species_names = [specie.name() for specie in system.species()]\n",
    "print(species_names)\n",
    "n = state.speciesAmounts()\n",
    "print(n)"
   ]
  },
  {
   "cell_type": "code",
   "execution_count": null,
   "metadata": {},
   "outputs": [],
   "source": [
    "i = 0\n",
    "for name, amount in zip(species_names, n):\n",
    "    species_molar_mass = np.dot(A[:, i], molar_masses) * 1e3 # in g\n",
    "    mass = amount * species_molar_mass\n",
    "    print(f\"{name:>10} : {amount:8.4f} mols and {mass:10.4f} g\")\n",
    "    i += 1"
   ]
  },
  {
   "cell_type": "code",
   "execution_count": null,
   "metadata": {},
   "outputs": [],
   "source": [
    "chemical_properties = system.properties(T, P, n)\n",
    "print(\"Chemical potentials of the species:\")\n",
    "for potential, species, index in zip(\n",
    "    chemical_properties.chemicalPotentials().val,\n",
    "    system.species(),\n",
    "    list(range(1, system.numSpecies()+1))\n",
    "):\n",
    "    print(f\"\\u03BC_{index} ({species.name():>8}) = {potential:>12.4f} (J/mol)\")"
   ]
  },
  {
   "cell_type": "code",
   "execution_count": null,
   "metadata": {},
   "outputs": [],
   "source": [
    "print(\"Logarithms of activities of the species:\")\n",
    "for activity, species, index in zip(\n",
    "    chemical_properties.lnActivities().val,\n",
    "    system.species(),\n",
    "    list(range(1, system.numSpecies()+1))\n",
    "):\n",
    "    print(f\"ln (a_{index}) ({species.name():>10}) = {activity:6.4e}\")"
   ]
  },
  {
   "cell_type": "code",
   "execution_count": null,
   "metadata": {},
   "outputs": [],
   "source": [
    "mu_H2O = - 242.992 * 1e3 # J / mol\n",
    "mu_Hplus = 0 # J / mol\n",
    "mu_OHminus = - 155.559 * 1e3 # J / mol\n",
    "\n",
    "nu_H2O = 1\n",
    "nu_Hplus = 1\n",
    "nu_OHminus = 1\n",
    "\n",
    "R = 8.314 # J / (mol * K)\n",
    "T = 100 + 273.15 # K\n",
    "\n",
    "lnK = - 1 / (R * T) * (nu_Hplus * mu_Hplus\n",
    "                       + nu_OHminus * mu_OHminus \n",
    "                       - nu_H2O * mu_H2O)\n",
    "print(\"lnK = \", lnK)"
   ]
  },
  {
   "cell_type": "markdown",
   "metadata": {},
   "source": [
    "Recalling that $log_{10} K = \\frac{ln K}{ln 10}$, we obtain:"
   ]
  },
  {
   "cell_type": "code",
   "execution_count": null,
   "metadata": {},
   "outputs": [],
   "source": [
    "ln10 = 2.30\n",
    "logK = lnK / ln10\n",
    "print(\"logK = \", logK)"
   ]
  }
 ],
 "metadata": {
  "kernelspec": {
   "display_name": "Python 3",
   "language": "python",
   "name": "python3"
  },
  "language_info": {
   "codemirror_mode": {
    "name": "ipython",
    "version": 3
   },
   "file_extension": ".py",
   "mimetype": "text/x-python",
   "name": "python",
   "nbconvert_exporter": "python",
   "pygments_lexer": "ipython3",
   "version": "3.8.1"
  }
 },
 "nbformat": 4,
 "nbformat_minor": 4
}
