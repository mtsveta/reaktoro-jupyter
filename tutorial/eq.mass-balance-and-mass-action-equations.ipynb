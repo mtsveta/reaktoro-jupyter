{
 "cells": [
  {
   "cell_type": "markdown",
   "metadata": {},
   "source": [
    "# Mass balance and mass action equations for chemical equilibrium calculations"
   ]
  },
  {
   "cell_type": "code",
   "execution_count": 36,
   "metadata": {},
   "outputs": [
    {
     "data": {
      "text/plain": [
       "<reaktoro.PyReaktoro.EquilibriumProblem at 0x119166830>"
      ]
     },
     "execution_count": 36,
     "metadata": {},
     "output_type": "execute_result"
    }
   ],
   "source": [
    "from reaktoro import *\n",
    "db = Database(\"supcrt98.xml\")\n",
    "editor = ChemicalEditor(db)\n",
    "editor.addAqueousPhaseWithElements(\"H O C\")\n",
    "editor.addGaseousPhase([\"H2O(g)\", \"CO2(g)\"])\n",
    "\n",
    "system = ChemicalSystem(editor)\n",
    "\n",
    "problem = EquilibriumProblem(system)\n",
    "T = 100 # celsius\n",
    "P = 50.0 # bars\n",
    "problem.setTemperature(T, \"celsius\")\n",
    "problem.setPressure(P, \"bar\")\n",
    "problem.add(\"H2O\", 100, \"mol\")\n",
    "problem.add(\"CO2\", 2, \"mol\")"
   ]
  },
  {
   "cell_type": "code",
   "execution_count": 37,
   "metadata": {},
   "outputs": [],
   "source": [
    "state = equilibrate(problem)"
   ]
  },
  {
   "cell_type": "code",
   "execution_count": 40,
   "metadata": {},
   "outputs": [
    {
     "name": "stdout",
     "output_type": "stream",
     "text": [
      "b =  [2.00000000e+00 2.00000000e+02 1.04000000e+02 3.95640487e-20]\n",
      "n =  [6.30809566e-22 7.79862569e-01 1.77221267e-10 8.03967468e-04\n",
      " 8.64975919e-22 9.99673729e+01 2.02278061e-21 8.03964613e-04\n",
      " 4.86284124e-22 4.41223813e-20 2.50031925e-09 3.18231510e-02\n",
      " 1.21933347e+00]\n",
      "A =\n",
      " [[ 1.  1.  1.  0.  0.  0.  0.  1.  0.  0.  0.  0.  1.]\n",
      " [ 0.  0.  0.  1.  2.  2.  2.  1.  1.  0.  1.  2.  0.]\n",
      " [ 1.  2.  3.  0.  0.  1.  2.  3.  2.  2.  1.  1.  2.]\n",
      " [ 0.  0. -2.  1.  0.  0.  0. -1. -1.  0. -1.  0.  0.]]\n"
     ]
    }
   ],
   "source": [
    "b = state.elementAmounts()\n",
    "n = state.speciesAmounts()\n",
    "print(\"b = \", b)\n",
    "print(\"n = \", n)\n",
    "A = system.formulaMatrix()\n",
    "print(\"A =\\n\", A)"
   ]
  },
  {
   "cell_type": "markdown",
   "metadata": {},
   "source": [
    "Residual evalaution:"
   ]
  },
  {
   "cell_type": "code",
   "execution_count": 41,
   "metadata": {},
   "outputs": [
    {
     "name": "stdout",
     "output_type": "stream",
     "text": [
      "||r|| =  3.1776437161565096e-14\n"
     ]
    }
   ],
   "source": [
    "r = b - np.dot(A, n)\n",
    "import numpy as np\n",
    "r_norm = np.linalg.norm(r)\n",
    "print(\"||r|| = \", r_norm)"
   ]
  },
  {
   "cell_type": "markdown",
   "metadata": {},
   "source": [
    "How much of the CO2(g) is dissolved as CO2(aq)?"
   ]
  },
  {
   "cell_type": "code",
   "execution_count": 43,
   "metadata": {},
   "outputs": [
    {
     "name": "stdout",
     "output_type": "stream",
     "text": [
      "CO2(aq) amount is 7.7986e-01 mol\n"
     ]
    }
   ],
   "source": [
    "print(f\"CO2(aq) amount is {state.speciesAmount('CO2(aq)'):6.4e} mol\")"
   ]
  },
  {
   "cell_type": "markdown",
   "metadata": {},
   "source": [
    "How much of the HO2(l) is evaporate as HO2(g)?"
   ]
  },
  {
   "cell_type": "code",
   "execution_count": 45,
   "metadata": {},
   "outputs": [
    {
     "name": "stdout",
     "output_type": "stream",
     "text": [
      "HO2(g) amount is 3.1823e-02 mol\n"
     ]
    }
   ],
   "source": [
    "print(f\"HO2(g) amount is {state.speciesAmount('H2O(g)'):6.4e} mol\")"
   ]
  },
  {
   "cell_type": "markdown",
   "metadata": {},
   "source": [
    "What is the amount of H+(aq)?"
   ]
  },
  {
   "cell_type": "code",
   "execution_count": 46,
   "metadata": {},
   "outputs": [
    {
     "name": "stdout",
     "output_type": "stream",
     "text": [
      "H+ amount is 8.0397e-04 mol\n"
     ]
    }
   ],
   "source": [
    "print(f\"H+ amount is {state.speciesAmount('H+'):6.4e} mol\")"
   ]
  },
  {
   "cell_type": "code",
   "execution_count": 48,
   "metadata": {},
   "outputs": [
    {
     "name": "stdout",
     "output_type": "stream",
     "text": [
      "   1    1    1    0    0    0    0    1    0    0    0    0    1 \n",
      "\n",
      "   0    0    0    1    2    2    2    1    1    0    1    2    0 \n",
      "\n",
      "   1    2    3    0    0    1    2    3    2    2    1    1    2 \n",
      "\n",
      "   0    0   -2    1    0    0    0   -1   -1    0   -1    0    0 \n",
      "\n"
     ]
    }
   ],
   "source": [
    "n, m = A.shape\n",
    "for i in range(n):\n",
    "    for j in range(m):\n",
    "        print(f\"{A[i][j]:4.0f}\", end=\" \")\n",
    "    print(\"\\n\")"
   ]
  },
  {
   "cell_type": "markdown",
   "metadata": {},
   "source": [
    "Rank is the maximal number of linearly independent columns of A, and is iqual to the dimension of the vector space spanned by its rows."
   ]
  },
  {
   "cell_type": "code",
   "execution_count": 50,
   "metadata": {},
   "outputs": [
    {
     "name": "stdout",
     "output_type": "stream",
     "text": [
      "Rank of A is 4\n"
     ]
    }
   ],
   "source": [
    "rank = np.linalg.matrix_rank(A)\n",
    "print(\"Rank of A is\", rank)"
   ]
  },
  {
   "cell_type": "markdown",
   "metadata": {},
   "source": [
    "The matrix from the lectures:"
   ]
  },
  {
   "cell_type": "code",
   "execution_count": 51,
   "metadata": {},
   "outputs": [
    {
     "name": "stdout",
     "output_type": "stream",
     "text": [
      "Rank of A is 3\n"
     ]
    }
   ],
   "source": [
    "A_ = [[2, 1, 1, 0, 1, 0, 0, 2],\n",
    "      [1, 0, 1, 3, 3, 2, 2, 1],\n",
    "      [0, 0, 0, 1, 1, 1, 1, 0],\n",
    "      [0, 1, -1, -2, -1, 0, 0, 0]]\n",
    "print(\"Rank of A is\", np.linalg.matrix_rank(A_))"
   ]
  },
  {
   "cell_type": "markdown",
   "metadata": {},
   "source": [
    "Which phases exist in equilibrium state? "
   ]
  },
  {
   "cell_type": "code",
   "execution_count": 52,
   "metadata": {},
   "outputs": [
    {
     "name": "stdout",
     "output_type": "stream",
     "text": [
      "Phases  : Phase amounts : Stability Indices\n",
      "Aqueous :      100.7488 : -4.821637332766436e-17\n",
      "Gaseous :        1.2512 : 0.0\n"
     ]
    }
   ],
   "source": [
    "phases_names = [phase.name() for phase in system.phases()]\n",
    "stability_indices = state.phaseStabilityIndices()\n",
    "print(\"Phases  : Phase amounts : Stability Indices\")\n",
    "for name, si in zip(phases_names, stability_indices):\n",
    "    print(f\"{name:>7} : {state.phaseAmount(name):13.4f} : {si}\")"
   ]
  },
  {
   "cell_type": "markdown",
   "metadata": {},
   "source": [
    "**Note**: The stability index of a *stable phase* is zero (or very close to zero), negative for *under-saturated phase*, and positive for the *over-saturated phase*."
   ]
  },
  {
   "cell_type": "code",
   "execution_count": 53,
   "metadata": {},
   "outputs": [
    {
     "name": "stdout",
     "output_type": "stream",
     "text": [
      "C : 1.2011e-02 (kg/mol)\n",
      "H : 1.0079e-03 (kg/mol)\n",
      "O : 1.5999e-02 (kg/mol)\n",
      "Z : 0.0000e+00 (kg/mol)\n"
     ]
    }
   ],
   "source": [
    "molar_masses = [element.molarMass() for element in system.elements()]\n",
    "element_names = [element.name() for element in system.elements()]\n",
    "for name, molar_mass in zip(element_names, molar_masses):\n",
    "    print(f\"{name} : {molar_mass:6.4e} (kg/mol)\")"
   ]
  },
  {
   "cell_type": "code",
   "execution_count": 54,
   "metadata": {},
   "outputs": [
    {
     "name": "stdout",
     "output_type": "stream",
     "text": [
      "C :   2.00 mols and    24.02 g\n",
      "H : 200.00 mols and   201.59 g\n",
      "O : 104.00 mols and  1663.94 g\n",
      "Z :   0.00 mols and     0.00 g\n"
     ]
    }
   ],
   "source": [
    "for name, amount, molar_mass in zip(element_names, b, molar_masses):\n",
    "    print(f\"{name} : {amount:6.2f} mols and {amount*molar_mass*1e3:8.2f} g\")"
   ]
  },
  {
   "cell_type": "markdown",
   "metadata": {},
   "source": [
    "What are the amounts of each chemical species "
   ]
  },
  {
   "cell_type": "code",
   "execution_count": 59,
   "metadata": {},
   "outputs": [
    {
     "name": "stdout",
     "output_type": "stream",
     "text": [
      "['CO(aq)', 'CO2(aq)', 'CO3--', 'H+', 'H2(aq)', 'H2O(l)', 'H2O2(aq)', 'HCO3-', 'HO2-', 'O2(aq)', 'OH-', 'H2O(g)', 'CO2(g)']\n",
      "[6.30809566e-22 7.79862569e-01 1.77221267e-10 8.03967468e-04\n",
      " 8.64975919e-22 9.99673729e+01 2.02278061e-21 8.03964613e-04\n",
      " 4.86284124e-22 4.41223813e-20 2.50031925e-09 3.18231510e-02\n",
      " 1.21933347e+00]\n"
     ]
    }
   ],
   "source": [
    "species_names = [specie.name() for specie in system.species()]\n",
    "print(species_names)\n",
    "n = state.speciesAmounts()\n",
    "print(n)"
   ]
  },
  {
   "cell_type": "code",
   "execution_count": 60,
   "metadata": {},
   "outputs": [
    {
     "name": "stdout",
     "output_type": "stream",
     "text": [
      "    CO(aq) :   0.0000 mols and     0.0000 g\n",
      "   CO2(aq) :   0.7799 mols and    34.3214 g\n",
      "     CO3-- :   0.0000 mols and     0.0000 g\n",
      "        H+ :   0.0008 mols and     0.0008 g\n",
      "    H2(aq) :   0.0000 mols and     0.0000 g\n",
      "    H2O(l) :  99.9674 mols and  1800.9402 g\n",
      "  H2O2(aq) :   0.0000 mols and     0.0000 g\n",
      "     HCO3- :   0.0008 mols and     0.0491 g\n",
      "      HO2- :   0.0000 mols and     0.0000 g\n",
      "    O2(aq) :   0.0000 mols and     0.0000 g\n",
      "       OH- :   0.0000 mols and     0.0000 g\n",
      "    H2O(g) :   0.0318 mols and     0.5733 g\n",
      "    CO2(g) :   1.2193 mols and    53.6623 g\n"
     ]
    }
   ],
   "source": [
    "i = 0\n",
    "for name, amount in zip(species_names, n):\n",
    "    species_molar_mass = np.dot(A[:, i], molar_masses) * 1e3 # in g\n",
    "    mass = amount * species_molar_mass\n",
    "    print(f\"{name:>10} : {amount:8.4f} mols and {mass:10.4f} g\")\n",
    "    i += 1"
   ]
  },
  {
   "cell_type": "code",
   "execution_count": 62,
   "metadata": {},
   "outputs": [
    {
     "name": "stdout",
     "output_type": "stream",
     "text": [
      "Chemical potentials of the species:\n",
      "μ_1 (  CO(aq)) = -158834.9796 (J/mol)\n",
      "μ_2 ( CO2(aq)) = -384019.6818 (J/mol)\n",
      "μ_3 (   CO3--) = -548111.4799 (J/mol)\n",
      "μ_4 (      H+) =   -6439.8261 (J/mol)\n",
      "μ_5 (  H2(aq)) =  -21842.3064 (J/mol)\n",
      "μ_6 (  H2O(l)) = -235514.9383 (J/mol)\n",
      "μ_7 (H2O2(aq)) = -170564.6383 (J/mol)\n",
      "μ_8 (   HCO3-) = -590866.7831 (J/mol)\n",
      "μ_9 (    HO2-) = -107842.6635 (J/mol)\n",
      "μ_10 (  O2(aq)) =  -18555.1608 (J/mol)\n",
      "μ_11 (     OH-) = -174370.4789 (J/mol)\n",
      "μ_12 (  H2O(g)) = -232865.7609 (J/mol)\n",
      "μ_13 (  CO2(g)) = -395395.8062 (J/mol)\n"
     ]
    }
   ],
   "source": [
    "chemical_properties = system.properties(T, P, n)\n",
    "print(\"Chemical potentials of the species:\")\n",
    "for potential, species, index in zip(\n",
    "    chemical_properties.chemicalPotentials().val,\n",
    "    system.species(),\n",
    "    list(range(1, system.numSpecies()+1))\n",
    "):\n",
    "    print(f\"\\u03BC_{index} ({species.name():>8}) = {potential:>12.4f} (J/mol)\")"
   ]
  },
  {
   "cell_type": "code",
   "execution_count": 63,
   "metadata": {},
   "outputs": [
    {
     "name": "stdout",
     "output_type": "stream",
     "text": [
      "Logarithms of activities of the species:\n",
      "ln (a_1) (    CO(aq)) = -4.9403e+01\n",
      "ln (a_2) (   CO2(aq)) = -8.3695e-01\n",
      "ln (a_3) (     CO3--) = -2.3143e+01\n",
      "ln (a_4) (        H+) = -7.7453e+00\n",
      "ln (a_5) (    H2(aq)) = -4.9088e+01\n",
      "ln (a_6) (    H2O(l)) = -1.5899e-05\n",
      "ln (a_7) (  H2O2(aq)) = -4.8238e+01\n",
      "ln (a_8) (     HCO3-) = -7.7454e+00\n",
      "ln (a_9) (      HO2-) = -4.9695e+01\n",
      "ln (a_10) (    O2(aq)) = -4.5156e+01\n",
      "ln (a_11) (       OH-) = -2.0426e+01\n",
      "ln (a_12) (    H2O(g)) = -1.1273e+01\n",
      "ln (a_13) (    CO2(g)) = -7.6267e+00\n"
     ]
    }
   ],
   "source": [
    "print(\"Logarithms of activities of the species:\")\n",
    "for activity, species, index in zip(\n",
    "    chemical_properties.lnActivities().val,\n",
    "    system.species(),\n",
    "    list(range(1, system.numSpecies()+1))\n",
    "):\n",
    "    print(f\"ln (a_{index}) ({species.name():>10}) = {activity:6.4e}\")"
   ]
  },
  {
   "cell_type": "code",
   "execution_count": 64,
   "metadata": {},
   "outputs": [
    {
     "name": "stdout",
     "output_type": "stream",
     "text": [
      "lnK =  -28.182655635655994\n"
     ]
    }
   ],
   "source": [
    "mu_H2O = - 242.992 * 1e3 # J / mol\n",
    "mu_Hplus = 0 # J / mol\n",
    "mu_OHminus = - 155.559 * 1e3 # J / mol\n",
    "\n",
    "nu_H2O = 1\n",
    "nu_Hplus = 1\n",
    "nu_OHminus = 1\n",
    "\n",
    "R = 8.314 # J / (mol * K)\n",
    "T = 100 + 273.15 # K\n",
    "\n",
    "lnK = - 1 / (R * T) * (nu_Hplus * mu_Hplus\n",
    "                       + nu_OHminus * mu_OHminus \n",
    "                       - nu_H2O * mu_H2O)\n",
    "print(\"lnK = \", lnK)"
   ]
  },
  {
   "cell_type": "markdown",
   "metadata": {},
   "source": [
    "Recalling that $log_{10} K = \\frac{ln K}{ln 10}$, we obtain:"
   ]
  },
  {
   "cell_type": "code",
   "execution_count": 65,
   "metadata": {},
   "outputs": [
    {
     "name": "stdout",
     "output_type": "stream",
     "text": [
      "logK =  -12.253328537241737\n"
     ]
    }
   ],
   "source": [
    "ln10 = 2.30\n",
    "logK = lnK / ln10\n",
    "print(\"logK = \", logK)"
   ]
  }
 ],
 "metadata": {
  "kernelspec": {
   "display_name": "Python 3",
   "language": "python",
   "name": "python3"
  },
  "language_info": {
   "codemirror_mode": {
    "name": "ipython",
    "version": 3
   },
   "file_extension": ".py",
   "mimetype": "text/x-python",
   "name": "python",
   "nbconvert_exporter": "python",
   "pygments_lexer": "ipython3",
   "version": "3.8.2"
  }
 },
 "nbformat": 4,
 "nbformat_minor": 4
}
