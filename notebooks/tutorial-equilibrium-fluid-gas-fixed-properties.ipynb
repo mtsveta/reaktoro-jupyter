{
 "cells": [
  {
   "cell_type": "markdown",
   "metadata": {},
   "source": [
    "# Equilibrium system with gaseous and aqueous phases with fixed properties"
   ]
  },
  {
   "cell_type": "markdown",
   "metadata": {},
   "source": [
    "This tutorial demonstrates how to use Reaktoro to perform a chemical equilibrium calculation\n",
    "on an equilibrium system with gaseous and aqueous phases provided that some of the\n",
    "properties are held fixed. We start by importing the `reaktoro` package:"
   ]
  },
  {
   "cell_type": "code",
   "execution_count": null,
   "metadata": {},
   "outputs": [],
   "source": [
    "from reaktoro import *"
   ]
  },
  {
   "cell_type": "markdown",
   "metadata": {},
   "source": [
    "## Initializing chemical editor\n",
    "\n",
    "Class [ChemicalEditor](https://reaktoro.org/cpp/classReaktoro_1_1ChemicalEditor.html)\n",
    "provides convenient operations to initialize\n",
    "[ChemicalSystem](https://reaktoro.org/cpp/classReaktoro_1_1ChemicalSystem.html) and\n",
    "[ReactionSystem](https://reaktoro.org/cpp/classReaktoro_1_1ReactionSystem.html) instances.\n",
    "Below, we define the editor of the chemical system from the default database SUPCRT92:"
   ]
  },
  {
   "cell_type": "code",
   "execution_count": null,
   "metadata": {},
   "outputs": [],
   "source": [
    "editor = ChemicalEditor()\n",
    "editor.addAqueousPhaseWithElements(\"H O Na Cl Ca Mg C\")\n",
    "editor.addGaseousPhaseWithElements(\"H O C\")"
   ]
  },
  {
   "cell_type": "markdown",
   "metadata": {},
   "source": [
    "Here, both [AqueousPhase](https://reaktoro.org/cpp/classReaktoro_1_1AqueousPhase.html) and\n",
    "[GaseousPhase](https://reaktoro.org/cpp/classReaktoro_1_1GaseousPhase.html) are created by specifying the\n",
    "list of chemical element names. The database will be searched for all species that could be formed out of those\n",
    "elements."
   ]
  },
  {
   "cell_type": "markdown",
   "metadata": {},
   "source": [
    "### Chemical system definition\n",
    "\n",
    "Construction of chemical system is done by calling"
   ]
  },
  {
   "cell_type": "code",
   "execution_count": null,
   "metadata": {},
   "outputs": [],
   "source": [
    "system = ChemicalSystem(editor)"
   ]
  },
  {
   "cell_type": "markdown",
   "metadata": {},
   "source": [
    "## Inverse equilibrium problems\n",
    "\n",
    "Generally, the inverse equilibrium problem is handled by the class [EquilibriumInverseProblem](\n",
    "https://reaktoro.org/cpp/classReaktoro_1_1EquilibriumInverseProblem.html).\n",
    "In an inverse equilibrium problem, not all elements have known molar amounts. Their amount constraints are\n",
    "replaced by other equilibrium constraints such as fixed species amount or activity, or the volume or total amount\n",
    "of a phase. Since the amounts of elements are not known a priori, an inverse equilibrium calculation tries to\n",
    "determine amounts of titrants that can control the specified equilibrium constraints. The amount of the titrants\n",
    "are unknown, and its addition or removal is done over the calculation so that the equilibrium state is driven\n",
    "towards a state where all given equilibrium constraints are satisfied."
   ]
  },
  {
   "cell_type": "markdown",
   "metadata": {},
   "source": [
    "First problem, which we consider, is the problem, which we initialize with 1 kg of $\\mathrm{H_2O}$, 0.1 mol of\n",
    "sodium-chloride $\\mathrm{NaCl}$, 2 mmol of calcium-chloride $\\mathrm{CaCl_2}$, and\n",
    "4 mmol of magnium-chloride $\\mathrm{MgCl_2}$. From the properties of this inverse equilibrium problem, we fix\n",
    "pH to 3.0, providing the titran $\\mathrm{HCL}$. Besides, $\\mathrm{CO_2(g)}$ species' amount is fixed to 1.0 mol, as\n",
    "well as the species' activity of $\\mathrm{O_2(g)}$ is prescribed to be 0.2."
   ]
  },
  {
   "cell_type": "code",
   "execution_count": null,
   "metadata": {},
   "outputs": [],
   "source": [
    "problem1 = EquilibriumInverseProblem(system)\n",
    "problem1.add(\"H2O\", 1, \"kg\")\n",
    "problem1.add(\"NaCl\", 0.1, \"mol\")\n",
    "problem1.add(\"CaCl2\", 2, \"mmol\")\n",
    "problem1.add(\"MgCl2\", 4, \"mmol\")\n",
    "problem1.pH(3.0, \"HCl\")\n",
    "problem1.fixSpeciesAmount(\"CO2(g)\", 1.0, \"mol\")\n",
    "problem1.fixSpeciesActivity(\"O2(g)\", 0.20)"
   ]
  },
  {
   "cell_type": "markdown",
   "metadata": {},
   "source": [
    "Using function [equilibrate()](https://reaktoro.org/cpp/namespaceReaktoro.html#af2d3b39d3e0b8f9cb5a4d9bbb06b697e),\n",
    "we calculate the chemical equilibrium state of the system with the given equilibrium conditions stored in the\n",
    "object `problem1`."
   ]
  },
  {
   "cell_type": "code",
   "execution_count": null,
   "metadata": {},
   "outputs": [],
   "source": [
    "state1 = equilibrate(problem1)"
   ]
  },
  {
   "cell_type": "code",
   "execution_count": null,
   "metadata": {},
   "outputs": [],
   "source": [
    "state1.output('state1.txt')"
   ]
  },
  {
   "cell_type": "markdown",
   "metadata": {},
   "source": [
    "According to the above instructions, the pH is fixed to 3.0 in `state1.txt`. We can also make sure that activity of\n",
    "$\\mathrm{O_2(g)}$ (see sub-table with *Species*, column *Activity [-]*) is prescribed to 0.2, similarly to the\n",
    "species amount of $\\mathrm{CO_2(g)}$ in the same table.\n",
    "The obtained ionic strength is 0.117995 $\\mathrm{[molal]}$, the reduction potential is 17.6023, and\n",
    "the alkalinity is -0.0091649 $\\mathrm{[eq/L]$."
   ]
  },
  {
   "cell_type": "markdown",
   "metadata": {},
   "source": [
    "The second equilibrium inverse problem has similar conditions to those used for the first problem. In particular,\n",
    "fixed amount of water and chlorides. However, in this case we fix pH to be equal to 4.0, providing $\\mathrm{CO_2}$ as\n",
    "a titrant."
   ]
  },
  {
   "cell_type": "code",
   "execution_count": null,
   "metadata": {},
   "outputs": [],
   "source": [
    "problem2 = EquilibriumInverseProblem(system)\n",
    "problem2.add(\"H2O\", 1, \"kg\")\n",
    "problem2.add(\"NaCl\", 0.1, \"mol\")\n",
    "problem2.add(\"CaCl2\", 2, \"mmol\")\n",
    "problem2.add(\"MgCl2\", 4, \"mmol\")\n",
    "problem2.pH(4.0, \"CO2\")"
   ]
  },
  {
   "cell_type": "code",
   "execution_count": null,
   "metadata": {},
   "outputs": [],
   "source": [
    "state2 = equilibrate(problem2)"
   ]
  },
  {
   "cell_type": "code",
   "execution_count": null,
   "metadata": {},
   "outputs": [],
   "source": [
    "state2.output('state2.txt')"
   ]
  },
  {
   "cell_type": "markdown",
   "metadata": {
    "lines_to_next_cell": 2
   },
   "source": [
    "Analogously to the `state1`, in `state2` the pH is fixed to 4.0 in `state1.txt`.\n",
    "The obtained ionic strength is slightly lower than in the previoud case, i.e., 0.116759 $\\mathrm{[molal]}$,\n",
    "the reduction  potential is also smaller, i.e., 13.6104. The final the alkalinity is -0.0078823  $\\mathrm{[eq/L]$."
   ]
  }
 ],
 "metadata": {
  "jupytext": {
   "cell_metadata_filter": "-all",
   "formats": "../notebooks//ipynb,py:light",
   "main_language": "python"
  }
 },
 "nbformat": 4,
 "nbformat_minor": 2
}
