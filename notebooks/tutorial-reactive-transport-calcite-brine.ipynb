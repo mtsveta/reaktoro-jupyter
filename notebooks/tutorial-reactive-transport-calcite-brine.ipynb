{
 "cells": [
  {
   "cell_type": "markdown",
   "metadata": {},
   "source": [
    "# Reactive transport of $\\mathrm{CO_2}$-saturated brine along a porous rock column\n",
    "\n",
    "In this tutorial, we show how Reaktoro can be used for one-dimensional reactive transport calculations for modeling\n",
    "the geochemical reactions that occur along a porous rock column as an aqueous fluid is continuously injected on its\n",
    "left side.\n",
    "\n",
    "The injected fluid is a brine with 0.9 molal NaCl, 0.05 molal $\\mathrm{MgCl_2}$, 0.01 molal $\\mathrm{CaCl_2}$\n",
    "and almost $\\mathrm{CO_2}$-saturated, with 0.75 molal of $\\mathrm{CO_2}$ dissolved.\n",
    "The porous rock is initially composed of minerals quartz $\\mathrm{SiO_2}$ and calcite $\\mathrm{CaCO_3}$. The\n",
    "initial porosity is 10 %, and the initial volume percentages of the minerals are 98 $\\%_{\\rm vol}$ of quartz and\n",
    "2 $\\%_{\\rm vol}$ calcite. The initial conditions for the fluid in the rock is a 0.7 molal NaCl brine in\n",
    "equilibrium with the existing rock minerals calcite and quartz. These initial fluid and rock composition conditions\n",
    "are uniform throughout the rock core. We assume a rock column length of 100 m at temperature 60 &deg;C and 100 bar\n",
    "throughout.\n",
    "\n",
    "**Assumptions**: To simplify this tutorial, the following assumptions are made:\n",
    "* Chemical equilibrium is used for modeling the chemical reactions in this problem, not only for reactions between\n",
    "aqueous-aqueous species but also for those between mineral and aqueous species.\n",
    "* A uniform constant velocity field is imposed and it is not updated by solving, for example, Darcy equation.\n",
    "* Both temperature and pressure are also kept constant along the rock.\n",
    "\n",
    "## Import the reaktoro Python package (and other packages)\n",
    "First, we import the **reaktoro** Python package so that we can use its classes\n",
    "and methods for performing the chemical reaction calculations."
   ]
  },
  {
   "cell_type": "code",
   "execution_count": null,
   "metadata": {},
   "outputs": [],
   "source": [
    "from reaktoro import *\n",
    "from numpy import *\n",
    "import os\n",
    "from joblib import Parallel, delayed\n",
    "import matplotlib.pyplot as plt"
   ]
  },
  {
   "cell_type": "markdown",
   "metadata": {},
   "source": [
    "We import the **reaktoro** Python package so that we can use its classes and methods for performing chemical\n",
    "reaction calculations, **numpy** for working with arrays, **matplotlib** for plotting capabilities, **joblib** for\n",
    "simple parallel computing, and **os**, to provide a portable way of using operating system dependent functionality.\n",
    "Finally, **ffmpeg** must be installed for handling video, audio, and other multimedia files and streams."
   ]
  },
  {
   "cell_type": "markdown",
   "metadata": {},
   "source": [
    "## Defining auxiliary time-related constants\n",
    "In this step, we initialize auxiliary time-related constants from seconds to years. This is only done for\n",
    "convenience, so that we can specify later, for example, fluid velocity as 1 m/week."
   ]
  },
  {
   "cell_type": "code",
   "execution_count": null,
   "metadata": {},
   "outputs": [],
   "source": [
    "second = 1\n",
    "minute = 60\n",
    "hour = 60 * minute\n",
    "day = 24 * hour\n",
    "week = 7 * day\n",
    "year = 365 * day"
   ]
  },
  {
   "cell_type": "markdown",
   "metadata": {},
   "source": [
    "## Defining parameters for the reactive transport simulation\n",
    "Next, we define reactive transport and numerical discretization parameters. In particular, we specify the considered\n",
    "rock domain by setting coordinates of its left and right boundaries to 0.0 m and 100.0 m, respectively. The\n",
    "discretization parameters, i.e., the number of cells and steps in time, are both set to 100. The reactive\n",
    "transport modeling procedure assumes a constant fluid velocity of 1 m/week (1.16 · $10^{-5}$ m/s) and the same\n",
    "diffusion coefficient of $10^{-9}$ $\\mathrm{m^2/s}$ for all fluid species (without dispersivity). The size of the\n",
    "time-step is set to 30 minutes. Temperature and pressure are set to 60 &deg; C and 100 bar, respectively,\n",
    "throughout the whole tutorial."
   ]
  },
  {
   "cell_type": "code",
   "execution_count": null,
   "metadata": {},
   "outputs": [],
   "source": [
    "xl = 0.0                # the x-coordinate of the left boundary\n",
    "xr = 1.0                # the x-coordinate of the right boundary\n",
    "ncells = 100            # the number of cells in the discretization\n",
    "nsteps = 10             # the number of steps in the reactive transport simulation\n",
    "D  = 1.0e-9             # the diffusion coefficient (in units of m2/s)\n",
    "v  = 1.0/week           # the fluid pore velocity (1 m/week in units of m/s)\n",
    "dt = 30*minute          # the time step (30 minutes in units of s)\n",
    "dx = (xr - xl)/ncells   # length of the mesh cells (in units of m)\n",
    "T = 60.0                # the temperature (in units of degC)\n",
    "P = 100                 # the pressure (in units of bar)"
   ]
  },
  {
   "cell_type": "markdown",
   "metadata": {},
   "source": [
    "Next, we generate the coordinates of the mesh nodes (array `x`) by equally dividing the interval *[xr, xl]* with\n",
    "the number of cells `ncells`. The length between each consecutive mesh nodes is computed and stored in `dx` (the\n",
    "length of the mesh cells)."
   ]
  },
  {
   "cell_type": "code",
   "execution_count": null,
   "metadata": {},
   "outputs": [],
   "source": [
    "x = linspace(xl, xr, ncells)    # interval [xl, xr] split into ncells"
   ]
  },
  {
   "cell_type": "markdown",
   "metadata": {},
   "source": [
    "To make sure that the applied finite-volume scheme is stable, we need to keep track of Courant–Friedrichs–Lewy (CFL)\n",
    "number, which should be less than 1.0."
   ]
  },
  {
   "cell_type": "code",
   "execution_count": null,
   "metadata": {},
   "outputs": [],
   "source": [
    "CFL = v*dt/dx\n",
    "print(f\"Make sure that CFL = {v*dt/dx} is less that 1.0\")"
   ]
  },
  {
   "cell_type": "markdown",
   "metadata": {},
   "source": [
    "Another auxiliary parameter is the number of digits in the number of steps (e.g., 100 has 3 digits). It is needed for\n",
    "generation of the names of the files, where chemical states are saved, as well as the creating of the videos."
   ]
  },
  {
   "cell_type": "code",
   "execution_count": null,
   "metadata": {
    "lines_to_next_cell": 1
   },
   "outputs": [],
   "source": [
    "ndigits = len(str(nsteps))"
   ]
  },
  {
   "cell_type": "markdown",
   "metadata": {},
   "source": [
    "## Auxiliary functions"
   ]
  },
  {
   "cell_type": "markdown",
   "metadata": {},
   "source": [
    "Below, we list auxiliary function used in the python tutorial. Function `titlestr` returns a string for the title of\n",
    "a figure in the format `Time: _h__m`, e.g., `Time:1h35m`."
   ]
  },
  {
   "cell_type": "code",
   "execution_count": null,
   "metadata": {
    "lines_to_next_cell": 1
   },
   "outputs": [],
   "source": [
    "def titlestr(t):\n",
    "    t = t / minute   # Convert from seconds to minutes\n",
    "    h = int(t) / 60  # The number of hours\n",
    "    m = int(t) % 60  # The number of remaining minutes\n",
    "    return 'Time: {:>3}h{:>2}m'.format(h, str(m).zfill(2))"
   ]
  },
  {
   "cell_type": "markdown",
   "metadata": {},
   "source": [
    "Using **os** package, we create required folders for outputting the obtained results and for the plot and video\n",
    "files later."
   ]
  },
  {
   "cell_type": "code",
   "execution_count": null,
   "metadata": {
    "lines_to_next_cell": 1
   },
   "outputs": [],
   "source": [
    "def make_results_folders():\n",
    "    os.system('mkdir -p results')\n",
    "    os.system('mkdir -p figures/ph')\n",
    "    os.system('mkdir -p figures/aqueous-species')\n",
    "    os.system('mkdir -p figures/calcite-dolomite')\n",
    "    os.system('mkdir -p videos')"
   ]
  },
  {
   "cell_type": "markdown",
   "metadata": {},
   "source": [
    "Routine `plot()` is dedicated to plotting of the results and generating a video from the plots to illustrate the\n",
    "time-dependent behavior of the chemical properties. It uses parallel pthread to run `plotfile()` function for each\n",
    "file from the list `files`."
   ]
  },
  {
   "cell_type": "code",
   "execution_count": null,
   "metadata": {
    "lines_to_next_cell": 1
   },
   "outputs": [],
   "source": [
    "def plot():\n",
    "    # Plot all result files\n",
    "    files = sorted(os.listdir('results'))\n",
    "    Parallel(n_jobs=16)(delayed(plotfile)(file) for file in files)\n",
    "    # Create videos for the figures\n",
    "    ffmpegstr = 'ffmpeg -y -r 30 -i figures/{0}/%0' \\\n",
    "                + str(ndigits) \\\n",
    "                + 'd.png -codec:v mpeg4 -flags:v +qscale -global_quality:v 0 videos/{0}.mp4'\n",
    "    os.system(ffmpegstr.format('calcite-dolomite'))\n",
    "    os.system(ffmpegstr.format('aqueous-species'))\n",
    "    os.system(ffmpegstr.format('ph'))"
   ]
  },
  {
   "cell_type": "code",
   "execution_count": null,
   "metadata": {
    "lines_to_next_cell": 1
   },
   "outputs": [],
   "source": [
    "# Auxiliary function for plotting properties of saved chemical state\n",
    "def plotfile(file):\n",
    "\n",
    "    step = int((file.split('.')[0]).split('-')[1])\n",
    "\n",
    "    print('Plotting figure', step, '...')\n",
    "\n",
    "    t = step * dt\n",
    "    filearray = loadtxt('results/' + file, skiprows=1)\n",
    "    data = filearray.T\n",
    "\n",
    "    plt.figure()\n",
    "    plt.xlim(left=-0.02, right=0.52)\n",
    "    plt.ylim(bottom=2.5, top=10.5)\n",
    "    plt.title(titlestr(t))\n",
    "    plt.xlabel('Distance [m]')\n",
    "    plt.ylabel('pH')\n",
    "    plt.plot(x, data[0])\n",
    "    plt.tight_layout()\n",
    "    plt.savefig('figures/ph/{}.png'.format(str(step).zfill(ndigits)))\n",
    "\n",
    "    plt.figure()\n",
    "    plt.xlim(left=-0.02, right=0.52)\n",
    "    plt.ylim(bottom=-0.1, top=2.1)\n",
    "    plt.ticklabel_format(style='sci', axis='y', scilimits=(0,0))\n",
    "    plt.title(titlestr(t))\n",
    "    plt.xlabel('Distance [m]')\n",
    "    plt.ylabel('Mineral Volume [%$_{\\mathsf{vol}}$]')\n",
    "    plt.plot(x, data[6] * 100, label='Calcite')\n",
    "    plt.plot(x, data[7] * 100, label='Dolomite')\n",
    "    plt.legend(loc='center right')\n",
    "    plt.tight_layout()\n",
    "    plt.savefig('figures/calcite-dolomite/{}.png'.format(str(step).zfill(ndigits)))\n",
    "\n",
    "    plt.figure()\n",
    "    plt.yscale('log')\n",
    "    plt.xlim(left=-0.02, right=0.52)\n",
    "    plt.ylim(bottom=0.5e-5, top=2)\n",
    "    plt.title(titlestr(t))\n",
    "    plt.xlabel('Distance [m]')\n",
    "    plt.ylabel('Concentration [molal]')\n",
    "    plt.plot(x, data[2], label='Ca++')\n",
    "    plt.plot(x, data[3], label='Mg++')\n",
    "    plt.plot(x, data[4], label='HCO3-')\n",
    "    plt.plot(x, data[5], label='CO2(aq)')\n",
    "    plt.plot(x, data[1], label='H+')\n",
    "    plt.legend(loc='lower right')\n",
    "    plt.tight_layout()\n",
    "    plt.savefig('figures/aqueous-species/{}.png'.format(str(step).zfill(ndigits)))\n",
    "\n",
    "    plt.close('all')"
   ]
  },
  {
   "cell_type": "markdown",
   "metadata": {},
   "source": [
    "## Reactive transport simulations"
   ]
  },
  {
   "cell_type": "markdown",
   "metadata": {},
   "source": [
    "### Defining the chemical system\n",
    "\n",
    "We need to define a chemical system that can represent both our fluid and rock. We use class\n",
    "[ChemicalEditor](https://reaktoro.org/cpp/classReaktoro_1_1ChemicalEditor.html) below to define a system with an\n",
    "aqueous phase and three mineral phases: quartz, calcite, and dolomite. Initially, our rock has no dolomite\n",
    "($\\mathrm{CaMg( CO_3)_2}$), but since this is a mineral that could potentially precipitate given the fluid\n",
    "composition injected ( containing $\\mathrm{CaCl_2}$ and $\\mathrm{MgCl_2}$ dissolved), we add it here in the\n",
    "chemical system to ensure that the calculations are able to model dolomite precipitation."
   ]
  },
  {
   "cell_type": "code",
   "execution_count": null,
   "metadata": {},
   "outputs": [],
   "source": [
    "db = Database('supcrt98.xml')\n",
    "editor = ChemicalEditor(db)\n",
    "editor.addAqueousPhase('H2O(l) H+ OH- Na+ Cl- Ca++ Mg++ HCO3- CO2(aq) CO3--')\n",
    "editor.addMineralPhase('Quartz')\n",
    "editor.addMineralPhase('Calcite')\n",
    "editor.addMineralPhase('Dolomite')"
   ]
  },
  {
   "cell_type": "markdown",
   "metadata": {},
   "source": [
    "> **Note**: The aqueous phase is defined above by using a list of compounds, which is then broken automatically by\n",
    "> Reaktoro into a list of element names. These element names are then used to find in the database all the aqueous\n",
    "> species that could be formed out of them."
   ]
  },
  {
   "cell_type": "markdown",
   "metadata": {},
   "source": [
    "### Constructing the chemical system\n",
    "\n",
    "This step is where we create an object of class\n",
    "[ChemicalSystem](https://reaktoro.org/cpp/classReaktoro_1_1ChemicalSystem.html) using the\n",
    "chemical system definition details stored in the object ``editor``."
   ]
  },
  {
   "cell_type": "code",
   "execution_count": null,
   "metadata": {},
   "outputs": [],
   "source": [
    "system = ChemicalSystem(editor)"
   ]
  },
  {
   "cell_type": "markdown",
   "metadata": {},
   "source": [
    "### Initial condition for the fluid composition\n",
    "\n",
    "Below, we define the **initial condition** for the fluid composition in the rock. We want an aqueous fluid that is\n",
    "0.7 molal of NaCl and in equilibrium with calcite and quartz. To achieve this, we mix 1 kg of water, 0.7 mol of\n",
    "NaCl, and plenty of calcite and quartz (10 mol each) to ensure that the aqueous solution is saturated with respect\n",
    "to these minerals."
   ]
  },
  {
   "cell_type": "code",
   "execution_count": null,
   "metadata": {},
   "outputs": [],
   "source": [
    "problem_ic = EquilibriumProblem(system)\n",
    "problem_ic.setTemperature(T, 'celsius')\n",
    "problem_ic.setPressure(P, 'bar')\n",
    "problem_ic.add('H2O', 1.0, 'kg')\n",
    "problem_ic.add('NaCl', 0.7, 'mol')\n",
    "problem_ic.add('CaCO3', 10, 'mol')\n",
    "problem_ic.add('SiO2', 10, 'mol')"
   ]
  },
  {
   "cell_type": "markdown",
   "metadata": {},
   "source": [
    "### Boundary condition for the fluid composition\n",
    "\n",
    "Next, we define the **boundary condition** for the fluid composition on the left side of the rock, which should be\n",
    "the one that represents the fluid being continuously injected: 0.9 molal NaCl, 0.05 molal $\\mathrm{MgCl_2}$,\n",
    "0.01 molal $\\mathrm{CaCl_2}$ and almost $\\mathrm{CO_2}$-saturated, with 0.75 molal of $\\mathrm{CO_2}$ dissolved. To\n",
    "provide that, we mix 1 kg of $\\mathrm{HO_2}$ with 0.9 mol of NaCl, 0.05 mol of $\\mathrm{MgCl_2}$, 0.01 mol\n",
    "of $\\mathrm{CaCl_2}$, and 0.75 mol of $\\mathrm{CO_2}$."
   ]
  },
  {
   "cell_type": "code",
   "execution_count": null,
   "metadata": {},
   "outputs": [],
   "source": [
    "problem_bc = EquilibriumProblem(system)\n",
    "problem_bc.setTemperature(T, 'celsius')\n",
    "problem_bc.setPressure(P, 'bar')\n",
    "problem_bc.add('H2O', 1.0, 'kg')\n",
    "problem_bc.add('NaCl', 0.90, 'mol')\n",
    "problem_bc.add('MgCl2', 0.05, 'mol')\n",
    "problem_bc.add('CaCl2', 0.01, 'mol')\n",
    "problem_bc.add('CO2', 0.75, 'mol')"
   ]
  },
  {
   "cell_type": "markdown",
   "metadata": {},
   "source": [
    "### Calculating the IC and BC fluid compositions\n",
    "In this step, we use the [equilibrate](https://reaktoro.org/cpp/namespaceReaktoro.html#af2d3b39d3e0b8f9cb5a4d9bbb06b697e)\n",
    "function to calculate the chemical equilibrium state of the system with the given initial and boundary equilibrium\n",
    "conditions stored in the object `problem_ic` and `problem_bc`, respectively. The result is stored in the\n",
    "corresponding instances of the class [ChemicalState](https://reaktoro.org/cpp/classReaktoro_1_1ChemicalState.html),\n",
    "i.e., `state_ic` and `state_bc`."
   ]
  },
  {
   "cell_type": "code",
   "execution_count": null,
   "metadata": {},
   "outputs": [],
   "source": [
    "state_ic = equilibrate(problem_ic)\n",
    "state_bc = equilibrate(problem_bc)"
   ]
  },
  {
   "cell_type": "markdown",
   "metadata": {},
   "source": [
    "### Scaling the phases in the initial condition\n",
    "\n",
    "The initial chemical state `state_ic` computed before has, at this point, phases with volumes that do not\n",
    "correspond to our desired porosity of 10 % and rock mineral composition of 98 $\\%_{\\rm vol}$ of quartz and\n",
    "2 $\\%_{\\rm vol}$ of calcite.\n",
    "\n",
    "To obtain this, we scale the volumes of the aqueous and mineral phases as shown\n",
    "below:\n",
    "> **Note**: After this scaling step, the sum of the phase volumes in ``state_ic`` is 1 $\\mathrm{m^3}$. This also\n",
    "> ensures that the amounts of the species in the chemical system are normalized by $\\mathrm{m^3}$, and thus they can\n",
    "be regarded as concentrations in a unit of $\\mathrm{mol/m^3}$ (*bulk volume, not fluid volume!*)."
   ]
  },
  {
   "cell_type": "code",
   "execution_count": null,
   "metadata": {},
   "outputs": [],
   "source": [
    "# Scale the volumes of the phases in the initial condition\n",
    "state_ic.scalePhaseVolume('Aqueous', 0.1, 'm3') # corresponds to the initial porosity of 10%.\n",
    "state_ic.scalePhaseVolume('Quartz', 0.882, 'm3')\n",
    "state_ic.scalePhaseVolume('Calcite', 0.018, 'm3')"
   ]
  },
  {
   "cell_type": "markdown",
   "metadata": {},
   "source": [
    "### Scaling the boundary condition state\n",
    "\n",
    "Next, we scale the boundary condition state to 1 $\\mathrm{m^3}$, so that we have the amounts of fluid species in\n",
    "`state_bc` also normalized by $\\mathrm{m^3}$.\n",
    "\n",
    "> **Note**: The chemical state represented by `state_bc` has no other stable phase than the aqueous phase (i.e.,\n",
    "> all mineral phases have zero or negligible amounts such as $10^{-21}$ mol)."
   ]
  },
  {
   "cell_type": "code",
   "execution_count": null,
   "metadata": {},
   "outputs": [],
   "source": [
    "state_bc.scaleVolume(1.0, 'm3')"
   ]
  },
  {
   "cell_type": "markdown",
   "metadata": {},
   "source": [
    "### Creating the mesh\n",
    "\n",
    "We define the mesh with the class [Mesh](https://reaktoro.org/cpp/classReaktoro_1_1Mesh.html) to use in\n",
    "the initialization of class [ReactiveTransportSolver](\n",
    "https://reaktoro.org/cpp/classReaktoro_1_1ReactiveTransportSolver.html) later. Here, we specify the number of cells\n",
    "in the mesh and the x-coordinates of the left and right boundaries (in m)."
   ]
  },
  {
   "cell_type": "code",
   "execution_count": null,
   "metadata": {},
   "outputs": [],
   "source": [
    "mesh = Mesh(ncells, xl, xr)"
   ]
  },
  {
   "cell_type": "markdown",
   "metadata": {},
   "source": [
    "### Creating a chemical field object\n",
    "\n",
    "We have been using class [ChemicalState](https://reaktoro.org/cpp/classReaktoro_1_1ChemicalState.html) to represent\n",
    "an individual chemical state. We will now use class [ChemicalField](\n",
    "https://reaktoro.org/cpp/classReaktoro_1_1ChemicalField.html) to represent a collection of chemical states: one for\n",
    "each mesh cell.\n",
    "\n",
    "> **Note**: Different initial conditions across the mesh cells are possible by assigning different chemical states to\n",
    "> each mesh cell. Here, the same chemical state in `state_ic` is used for all cells."
   ]
  },
  {
   "cell_type": "code",
   "execution_count": null,
   "metadata": {},
   "outputs": [],
   "source": [
    "field = ChemicalField(mesh.numCells(), state_ic)"
   ]
  },
  {
   "cell_type": "markdown",
   "metadata": {},
   "source": [
    "### Initializing the reactive transport solver\n",
    "\n",
    "At last, we define the object responsible for solving the reactive transport problem, which is handled by the\n",
    "class [ReactiveTransportSolver](https://reaktoro.org/cpp/classReaktoro_1_1ReactiveTransportSolver.html).\n",
    "Here, we set the mesh and problem parameters such as velocity, diffusion coefficient, the chemical state\n",
    "representing the boundary condition, and the time step. We also initialize the reactive solver object with the\n",
    "chemical field object specified on the previous step, at this point containing the initial condition for the\n",
    "chemical state of each mesh cell."
   ]
  },
  {
   "cell_type": "code",
   "execution_count": null,
   "metadata": {},
   "outputs": [],
   "source": [
    "rt = ReactiveTransportSolver(system)\n",
    "rt.setMesh(mesh)\n",
    "rt.setVelocity(v)\n",
    "rt.setDiffusionCoeff(D)\n",
    "rt.setBoundaryState(state_bc)\n",
    "rt.setTimeStep(dt)\n",
    "rt.initialize(field)"
   ]
  },
  {
   "cell_type": "markdown",
   "metadata": {},
   "source": [
    "### Defining the output quantities\n",
    "\n",
    "Before starting the reactive transport calculations, we define the quantities that will be output for every mesh\n",
    "cell, at every time step. For this, we use an object of the class\n",
    "[ChemicalOutput](https://reaktoro.org/cpp/classReaktoro_1_1ChemicalOutput.html).\n",
    "The name of the output file is to `reactive-transport.txt`. We specify the parameters that we are interested in\n",
    "outputting. In this case, it is pH, molality of `H+`, `Ca++`, `Mg++`, `HCO3-`, `CO2(aq)`, as well as a phase volume\n",
    "of calcite and dolomite."
   ]
  },
  {
   "cell_type": "code",
   "execution_count": null,
   "metadata": {},
   "outputs": [],
   "source": [
    "output = rt.output()\n",
    "output.add(\"pH\")\n",
    "output.add(\"speciesMolality(H+)\")\n",
    "output.add(\"speciesMolality(Ca++)\")\n",
    "output.add(\"speciesMolality(Mg++)\")\n",
    "output.add(\"speciesMolality(HCO3-)\")\n",
    "output.add(\"speciesMolality(CO2(aq))\")\n",
    "output.add(\"phaseVolume(Calcite)\")\n",
    "output.add(\"phaseVolume(Dolomite)\")\n",
    "output.filename('results/rtsolver.txt')  # Set the name of the output files"
   ]
  },
  {
   "cell_type": "code",
   "execution_count": null,
   "metadata": {},
   "outputs": [],
   "source": [
    "# Make auxiliary folders to save generated results, their plots, or videos\n",
    "make_results_folders()"
   ]
  },
  {
   "cell_type": "markdown",
   "metadata": {},
   "source": [
    "### Running the reactive transport simulation\n",
    "\n",
    "As shown below, we perform a sequence of reactive transport calculations, one for each time step, during which the\n",
    "chemical state of each mesh cell is updated. The iterations continue until the maximum number of steps is\n",
    "achieved.\n",
    "\n",
    "At each time step, we print the progress of the simulation. We then use the method `step` of class\n",
    "[ReactiveTransportSolver](https://reaktoro.org/cpp/classReaktoro_1_1ReactiveTransportSolver.html) to perform a\n",
    "single  reactive transport time-stepping. This method also produces a new output file containing the requested\n",
    "output properties for every mesh cell. In each such file, rows correspond to cells, whereas the columns correspond\n",
    "to the requested output properties, i.e., pH, molality of `H+`, `Ca++`, `Mg++`, `HCO3-`, `CO2(aq)`, as\n",
    "well as the phase volume of calcite and dolomite."
   ]
  },
  {
   "cell_type": "code",
   "execution_count": null,
   "metadata": {},
   "outputs": [],
   "source": [
    "# Step 15: Perform given number of reactive tranport steps\n",
    "t = 0.0  # current time variable\n",
    "step = 0  # current number of steps"
   ]
  },
  {
   "cell_type": "code",
   "execution_count": null,
   "metadata": {},
   "outputs": [],
   "source": [
    "while step <= nsteps:  # step until the number of steps are achieved\n",
    "    # Print the progress of the simulation\n",
    "    print(\"Progress: {}/{} steps, {} min\".format(step, nsteps, t/minute))\n",
    "\n",
    "    # Perform one reactive transport time step\n",
    "    rt.step(field)\n",
    "\n",
    "    # Increment time step and number of time steps\n",
    "    t += dt\n",
    "    step += 1"
   ]
  },
  {
   "cell_type": "markdown",
   "metadata": {},
   "source": [
    "## Plotting of the obtained results\n",
    "The last block of the main routine is dedicated to plotting of the results and generating a video from the plots to\n",
    "illustrate the time-dependent behavior of the chemical properties. It uses parallel pthread to run `plotfile`\n",
    "function for each file from the list `files`."
   ]
  },
  {
   "cell_type": "code",
   "execution_count": null,
   "metadata": {},
   "outputs": [],
   "source": [
    "plot()"
   ]
  }
 ],
 "metadata": {
  "jupytext": {
   "cell_metadata_filter": "-all",
   "encoding": "# -*- coding: utf-8 -*-",
   "formats": "../notebooks//ipynb,py:light",
   "main_language": "python"
  }
 },
 "nbformat": 4,
 "nbformat_minor": 2
}
