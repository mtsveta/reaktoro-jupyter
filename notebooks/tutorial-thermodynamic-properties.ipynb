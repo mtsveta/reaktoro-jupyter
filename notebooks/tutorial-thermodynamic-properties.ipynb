{
 "cells": [
  {
   "cell_type": "markdown",
   "metadata": {},
   "source": [
    "# Evaluating standard thermodynamic properties of substances and reactions"
   ]
  },
  {
   "cell_type": "markdown",
   "metadata": {},
   "source": [
    "This tutorial demonstrates how to use Reaktoro to evaluate standard thermodynamic properties of substances and reactions."
   ]
  },
  {
   "cell_type": "markdown",
   "metadata": {},
   "source": [
    "> **Note:** If your main interest is on computing thermodynamic properties, rather than chemical equilibrium and kinetics modeling, you may want to check [ThermoFun](https://thermohub.org/thermofun/thermofun/), which is an excellent project dedicated for this task."
   ]
  },
  {
   "cell_type": "markdown",
   "metadata": {},
   "source": [
    "First, we import the `reaktoro` package:"
   ]
  },
  {
   "cell_type": "code",
   "execution_count": null,
   "metadata": {},
   "outputs": [],
   "source": [
    "from reaktoro import *"
   ]
  },
  {
   "cell_type": "markdown",
   "metadata": {},
   "source": [
    "Then we create an object of class [Database](https://reaktoro.org/cpp/classReaktoro_1_1Database.html) to have access to a thermodynamic database that contains the necesary data to allows us to compute thermodynamic properties at a given temperature and pressure condition:"
   ]
  },
  {
   "cell_type": "code",
   "execution_count": null,
   "metadata": {},
   "outputs": [],
   "source": [
    "db = Database(\"supcrt98.xml\")"
   ]
  },
  {
   "cell_type": "markdown",
   "metadata": {},
   "source": [
    "To evaluate the thermodynamic properties, we create a [Thermo](https://reaktoro.org/cpp/classReaktoro_1_1Thermo.html) object:"
   ]
  },
  {
   "cell_type": "code",
   "execution_count": null,
   "metadata": {},
   "outputs": [],
   "source": [
    "thermo = Thermo(db)"
   ]
  },
  {
   "cell_type": "markdown",
   "metadata": {},
   "source": [
    "Below we show how the standard Gibbs energy of `Na+` is computed at 360 K and 10 bar:"
   ]
  },
  {
   "cell_type": "code",
   "execution_count": null,
   "metadata": {},
   "outputs": [],
   "source": [
    "T = 360.0  # temperature in K\n",
    "P = 10.0e5  # pressure in Pa (equivalent to 10 bar)\n",
    "G0 = thermo.standardPartialMolarGibbsEnergy(T, P, \"Na+\")\n",
    "print(f\"G0(Na+) = {G0.val} J/mol\")"
   ]
  },
  {
   "cell_type": "markdown",
   "metadata": {},
   "source": [
    "> **Note:** Use G0.ddT or G0.ddP to get temperature or pressure derivatives."
   ]
  },
  {
   "cell_type": "markdown",
   "metadata": {},
   "source": [
    "We can also compute the log(*K*) of a reaction at given *T* and *P* as follows:"
   ]
  },
  {
   "cell_type": "code",
   "execution_count": null,
   "metadata": {},
   "outputs": [],
   "source": [
    "logK = thermo.logEquilibriumConstant(T, P, \"Ca++ + 2*Cl- = CaCl2(aq)\")\n",
    "print(f\"logK(Ca++ + 2*Cl- = CaCl2(aq)) = {logK.val}\")"
   ]
  },
  {
   "cell_type": "markdown",
   "metadata": {},
   "source": [
    "> **Note:** Use logK.ddT or logK.ddP to get temperature or pressure derivatives."
   ]
  }
 ],
 "metadata": {
  "jupytext": {
   "cell_metadata_filter": "-all",
   "formats": "py:light,../notebooks//ipynb",
   "main_language": "python"
  }
 },
 "nbformat": 4,
 "nbformat_minor": 2
}
