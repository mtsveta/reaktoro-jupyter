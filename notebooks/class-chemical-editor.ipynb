{
 "cells": [
  {
   "cell_type": "markdown",
   "metadata": {},
   "source": [
    "# Functionality of ChemicalEditor class\n",
    "\n",
    "In this tutorial, we provide clarification of functionality of class\n",
    "[ChemicalEditor](https://reaktoro.org/cpp/classReaktoro_1_1ChemicalEditor.html) that is used to\n",
    "conveniently create chemical and reaction systems.\n",
    "\n",
    "### Importing the reaktoro Python package\n",
    "\n",
    "Using **Reaktoro** in Python requires an import of the python package `reaktoro`:"
   ]
  },
  {
   "cell_type": "code",
   "execution_count": null,
   "metadata": {},
   "outputs": [],
   "source": [
    "from reaktoro import *"
   ]
  },
  {
   "cell_type": "markdown",
   "metadata": {},
   "source": [
    "The default thermodynamic databases embedded into Reaktoro is SUPCRT92, so you do not have to initialize the\n",
    "database `db = Database('supcrt98.xml')`, unless an alternative database must be used."
   ]
  },
  {
   "cell_type": "markdown",
   "metadata": {},
   "source": [
    "### Initializing chemical editor\n",
    "\n",
    "Class [ChemicalEditor](https://reaktoro.org/cpp/classReaktoro_1_1ChemicalEditor.html)\n",
    "provides convenient operations to initialize\n",
    "[ChemicalSystem](https://reaktoro.org/cpp/classReaktoro_1_1ChemicalSystem.html) and\n",
    "[ReactionSystem](https://reaktoro.org/cpp/classReaktoro_1_1ReactionSystem.html) instances."
   ]
  },
  {
   "cell_type": "code",
   "execution_count": null,
   "metadata": {},
   "outputs": [],
   "source": [
    "# Define the editor of the chemical system from the default database SUPCRT92\n",
    "editor = ChemicalEditor()"
   ]
  },
  {
   "cell_type": "markdown",
   "metadata": {},
   "source": [
    "Alternatively, the editor can be initialized by the database instance:"
   ]
  },
  {
   "cell_type": "code",
   "execution_count": null,
   "metadata": {},
   "outputs": [],
   "source": [
    "# Initialize a thermodynamic database with supcrt98.xml\n",
    "db = Database(\"supcrt98.xml\")\n",
    "# Define the editor of the chemical system\n",
    "editor = ChemicalEditor(db)"
   ]
  },
  {
   "cell_type": "markdown",
   "metadata": {},
   "source": [
    "### Preparation of chemical system definition\n",
    "\n",
    "Before definition of chemical system, aqueous, gaseous, and mineral phases must be added. It can be done in various\n",
    "ways. Let us consider, first, definition of aqueous species:\n",
    "\n",
    "* With method `addAqueousPhase()`, the [AqueousPhase](https://reaktoro.org/cpp/classReaktoro_1_1AqueousPhase.html)\n",
    "can be created by specifying the names of the species one by\n",
    "one. These species names must conform to those used in the database that was specified during the initialization of\n",
    "the [ChemicalEditor](https://reaktoro.org/cpp/classReaktoro_1_1ChemicalEditor.html) object, otherwise, an exception\n",
    "will be thrown."
   ]
  },
  {
   "cell_type": "code",
   "execution_count": null,
   "metadata": {},
   "outputs": [],
   "source": [
    "editor.addAqueousPhase(\n",
    "    [\"H2O(l)\", \"H+\", \"OH-\", \"Na+\", \"Cl-\", \"HCO3-\", \"CO3--\", \"CO2(aq)\"]\n",
    ")"
   ]
  },
  {
   "cell_type": "markdown",
   "metadata": {},
   "source": [
    "* Alternatively, instead of listing the names of the species one by one, which might require prior knowledge of the\n",
    "species names in the database, we can use method `addAqueousPhaseWithElements()`. It permits the `AqueousPhase`\n",
    "object to be constructed by using a list of chemical element names. The database will be searched for all\n",
    "species that could be formed out of those elements. These species will then be used to construct the `AqueousPhase`\n",
    "object."
   ]
  },
  {
   "cell_type": "code",
   "execution_count": null,
   "metadata": {},
   "outputs": [],
   "source": [
    "editor.addAqueousPhaseWithElements(\"H O C Ca Cl Mg\")"
   ]
  },
  {
   "cell_type": "markdown",
   "metadata": {},
   "source": [
    "* Finally, [AqueousPhase](https://reaktoro.org/cpp/classReaktoro_1_1AqueousPhase.html)\n",
    "object can be also constructed by using a list of compound or substance names that might not\n",
    "necessarily represent names of species in the database. The list of compounds will be broken into a list of element\n",
    "names, and the database will be similarly searched for all species that could be formed out of those elements."
   ]
  },
  {
   "cell_type": "code",
   "execution_count": null,
   "metadata": {},
   "outputs": [],
   "source": [
    "editor.addAqueousPhaseWithElementsOf(\"H2O NaCl CO2\")"
   ]
  },
  {
   "cell_type": "markdown",
   "metadata": {},
   "source": [
    "> **Note:** The call of `addAqueousPhaseWithElements()` will result in larger chemical system than call of\n",
    "> `addAqueousPhase()`, where the specific aqueous species are provided.  In more demanding applications (e.g., as a\n",
    "> chemical solver in a reactive transport simulator), you might want to manually specify the chemical species of each\n",
    "> phase in your chemical system."
   ]
  },
  {
   "cell_type": "markdown",
   "metadata": {},
   "source": [
    "To add gaseous phase, similar methods can be used:"
   ]
  },
  {
   "cell_type": "code",
   "execution_count": null,
   "metadata": {},
   "outputs": [],
   "source": [
    "editor.addGaseousPhase([\"H2O(g)\", \"CO2(g)\", \"H2(g)\", \"O2(g)\", \"CH4(g)\"])\n",
    "editor.addGaseousPhaseWithElements([\"H\", \"O\", \"C\"])\n",
    "editor.addGaseousPhaseWithElementsOf([\"H2O\", \"CO2\"])"
   ]
  },
  {
   "cell_type": "markdown",
   "metadata": {},
   "source": [
    "The `MineralPhase` object is created by specifying the names of the species one by one. These species names must\n",
    "conform to those used in the database that was specified during the initialization of the\n",
    "[ChemicalEditor](https://reaktoro.org/cpp/classReaktoro_1_1ChemicalEditor.html) object,\n",
    "otherwise, an exception will be thrown. The example below describes the usage of this method for the creation of two\n",
    "pure mineral phases and one solid solution with two mineral species."
   ]
  },
  {
   "cell_type": "code",
   "execution_count": null,
   "metadata": {},
   "outputs": [],
   "source": [
    "editor.addMineralPhase(\"Calcite\")\n",
    "editor.addMineralPhase(\"Dolomite\")\n",
    "editor.addMineralPhase([\"Dolomite\", \"Calcite\"])"
   ]
  },
  {
   "cell_type": "markdown",
   "metadata": {},
   "source": [
    "There two more alternatives to add [MinerialPhase](https://reaktoro.org/cpp/classReaktoro_1_1MineralPhase.html), i.e.,"
   ]
  },
  {
   "cell_type": "code",
   "execution_count": null,
   "metadata": {},
   "outputs": [],
   "source": [
    "editor.addMineralPhaseWithElements([\"Ca\", \"C\", \"O\"])\n",
    "editor.addMineralPhaseWithElementsOf([\"CaCO3\", \"MgCO3\"])"
   ]
  },
  {
   "cell_type": "markdown",
   "metadata": {},
   "source": [
    "Besides phases, one could also set temperatures and pressures of considered chemical system for constructing\n",
    "interpolation tables of thermodynamic properties., e.g.,"
   ]
  },
  {
   "cell_type": "code",
   "execution_count": null,
   "metadata": {},
   "outputs": [],
   "source": [
    "editor.setTemperatures([60, 80, 100, 120, 140, 160], \"celsius\")\n",
    "editor.setPressures([1, 10, 100], \"bar\")"
   ]
  },
  {
   "cell_type": "markdown",
   "metadata": {},
   "source": [
    "### Chemical system definition\n",
    "\n",
    "Finally, definition of chemical system is done by calling"
   ]
  },
  {
   "cell_type": "code",
   "execution_count": null,
   "metadata": {},
   "outputs": [],
   "source": [
    "# Construct the chemical system\n",
    "system = ChemicalSystem(editor)"
   ]
  }
 ],
 "metadata": {
  "jupytext": {
   "cell_metadata_filter": "-all",
   "encoding": "## -*- coding: utf-8 -*-",
   "formats": "py:light,../notebooks//ipynb",
   "main_language": "python"
  },
  "pycharm": {
   "stem_cell": {
    "cell_type": "raw",
    "source": [],
    "metadata": {
     "collapsed": false
    }
   }
  }
 },
 "nbformat": 4,
 "nbformat_minor": 2
}