{
 "cells": [
  {
   "cell_type": "markdown",
   "metadata": {},
   "source": [
    "# Performing a chemical equilibrium calculation with customized activity model\n",
    "\n",
    "This tutorial demonstrates how to use Reaktoro to perform a chemical equilibrium calculation with customized activity\n",
    "models. First, we import everything from the `reaktoro` package by"
   ]
  },
  {
   "cell_type": "code",
   "execution_count": null,
   "metadata": {},
   "outputs": [],
   "source": [
    "from reaktoro import *\n",
    "import numpy as np\n",
    "import matplotlib.pyplot as plt"
   ]
  },
  {
   "cell_type": "markdown",
   "metadata": {},
   "source": [
    "To indicate phases and corresponding to them species, as well as models used to evaluate activities of the aqueous\n",
    "species, we use `ChemicalEditor`. Here, the default database SUPCRT98 is used."
   ]
  },
  {
   "cell_type": "code",
   "execution_count": null,
   "metadata": {},
   "outputs": [],
   "source": [
    "editor = ChemicalEditor()"
   ]
  },
  {
   "cell_type": "code",
   "execution_count": null,
   "metadata": {},
   "outputs": [],
   "source": [
    "editor.addAqueousPhase(\n",
    "    [\"H2O(l)\", \"H+\", \"OH-\", \"Na+\", \"Cl-\", \"HCO3-\", \"CO2(aq)\", \"CO3--\"]\n",
    ").setActivityModelDrummondCO2()\n",
    "editor.addGaseousPhase([\"H2O(g)\", \"CO2(g)\"]).setChemicalModelSpycherPruessEnnis()\n",
    "editor.addMineralPhase(\"Halite\")"
   ]
  },
  {
   "cell_type": "code",
   "execution_count": null,
   "metadata": {},
   "outputs": [],
   "source": [
    "system = ChemicalSystem(editor)"
   ]
  },
  {
   "cell_type": "code",
   "execution_count": null,
   "metadata": {},
   "outputs": [],
   "source": [
    "problem = EquilibriumProblem(system)\n",
    "problem.setTemperature(60, \"celsius\")\n",
    "problem.setPressure(300, \"bar\")\n",
    "problem.add(\"H2O\", 1, \"kg\")\n",
    "problem.add(\"CO2\", 100, \"g\")\n",
    "problem.add(\"NaCl\", 1, \"mol\")"
   ]
  },
  {
   "cell_type": "code",
   "execution_count": null,
   "metadata": {},
   "outputs": [],
   "source": [
    "state = equilibrate(problem)"
   ]
  },
  {
   "cell_type": "code",
   "execution_count": null,
   "metadata": {},
   "outputs": [],
   "source": [
    "print(state)"
   ]
  }
 ],
 "metadata": {
  "jupytext": {
   "formats": "py:light,../notebooks//ipynb"
  },
  "kernelspec": {
   "display_name": "Python 3",
   "language": "python",
   "name": "python3"
  }
 },
 "nbformat": 4,
 "nbformat_minor": 2
}
