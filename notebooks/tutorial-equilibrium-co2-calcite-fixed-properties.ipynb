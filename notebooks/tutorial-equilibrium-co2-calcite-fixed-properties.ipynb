{
 "cells": [
  {
   "cell_type": "markdown",
   "metadata": {},
   "source": [
    "# Performing a chemical equilibrium calculation with fixed properties"
   ]
  },
  {
   "cell_type": "markdown",
   "metadata": {},
   "source": [
    "This tutorial demonstrates how to use Reaktoro to perform a chemical equilibrium calculation when some of the\n",
    "properties are held fixed. We start by importing the `reaktoro` package:"
   ]
  },
  {
   "cell_type": "code",
   "execution_count": null,
   "metadata": {},
   "outputs": [],
   "source": [
    "from reaktoro import *"
   ]
  },
  {
   "cell_type": "markdown",
   "metadata": {},
   "source": [
    "## Initializing chemical editor\n",
    "\n",
    "Class [ChemicalEditor](https://reaktoro.org/cpp/classReaktoro_1_1ChemicalEditor.html)\n",
    "provides convenient operations to initialize\n",
    "[ChemicalSystem](https://reaktoro.org/cpp/classReaktoro_1_1ChemicalSystem.html) and\n",
    "[ReactionSystem](https://reaktoro.org/cpp/classReaktoro_1_1ReactionSystem.html) instances.\n",
    "Below, we define the editor of the chemical system from the default database SUPCRT92:"
   ]
  },
  {
   "cell_type": "code",
   "execution_count": null,
   "metadata": {},
   "outputs": [],
   "source": [
    "editor = ChemicalEditor()\n",
    "editor.addAqueousPhaseWithElementsOf(\"H2O NaCl CaCO3\")\n",
    "editor.addGaseousPhase([\"H2O(g)\", \"CO2(g)\"])\n",
    "editor.addMineralPhase(\"Calcite\")"
   ]
  },
  {
   "cell_type": "markdown",
   "metadata": {},
   "source": [
    "Here, [AqueousPhase](https://reaktoro.org/cpp/classReaktoro_1_1AqueousPhase.html) is created by specifying the\n",
    "list of compound or substance names that might not necessarily represent names of species in the database. The list\n",
    "of compounds will be broken into a list of element names, and the database will be similarly searched for all species\n",
    "that could be formed out of those elements."
   ]
  },
  {
   "cell_type": "markdown",
   "metadata": {},
   "source": [
    "Then, [GaseousPhase](https://reaktoro.org/cpp/classReaktoro_1_1GaseousPhase.html) is composed from the names of\n",
    "the provided gaseous species. These names must conform to those used in the database that was specified  during the\n",
    "initialization of the `ChemicalEditor` object, otherwise, an exception will be thrown."
   ]
  },
  {
   "cell_type": "markdown",
   "metadata": {},
   "source": [
    "The [MineralPhase](https://reaktoro.org/cpp/classReaktoro_1_1MineralPhase.html) object is created by specifying the\n",
    "names of the mineral species one by one. Analogously to the gaseous species, provided names must\n",
    "coincide with those used in the database (specified during the initialization of\n",
    "[ChemicalEditor](https://reaktoro.org/cpp/classReaktoro_1_1ChemicalEditor.html) object) ,\n",
    "otherwise, an exception will be thrown. In this case, method\n",
    "[addMineralPhase](https://reaktoro.org/cpp/classReaktoro_1_1ChemicalEditor.html#a05b263aa9d797a105feb9b83e05e1b86)\n",
    "is used to create one pure mineral phases with calcite."
   ]
  },
  {
   "cell_type": "markdown",
   "metadata": {},
   "source": [
    "### Chemical system definition\n",
    "\n",
    "Definition of chemical system is done by calling"
   ]
  },
  {
   "cell_type": "code",
   "execution_count": null,
   "metadata": {},
   "outputs": [],
   "source": [
    "# Construct the chemical system\n",
    "system = ChemicalSystem(editor)"
   ]
  },
  {
   "cell_type": "markdown",
   "metadata": {},
   "source": [
    "### Inverse equilibrium problems\n",
    "\n",
    "Generally, the inverse equilibrium problem is handled by the class [EquilibriumInverseProblem](\n",
    "https://reaktoro.org/cpp/classReaktoro_1_1EquilibriumInverseProblem.html).\n",
    "In an inverse equilibrium problem, not all elements have known molar amounts. Their amount constraints are\n",
    "replaced by other equilibrium constraints such as fixed species amount or activity, or the volume or total amount\n",
    "of a phase. Since the amounts of elements are not known a priori, an inverse equilibrium calculation tries to\n",
    "determine amounts of titrants that can control the specified equilibrium constraints. The amount of the titrants\n",
    "are unknown, and its addition or removal is done over the calculation so that the equilibrium state is driven\n",
    "towards a state where all given equilibrium constraints are satisfied."
   ]
  },
  {
   "cell_type": "markdown",
   "metadata": {},
   "source": [
    "First problem, which we consider, is the problem with fixed mass of mineral (in this case, calcite) and\n",
    "molar amount of species $\\mathrm{CO_2(g)}$ in equilibrium.\n",
    "Besides, we initialized the amount of $\\mathrm{H_2O}$ by 1 kg and sodium-chloride $\\mathrm{NaCl}$\n",
    "by 0.1 mol.\n",
    "\n",
    "Using function [equilibrate()](https://reaktoro.org/cpp/namespaceReaktoro.html#af2d3b39d3e0b8f9cb5a4d9bbb06b697e),\n",
    "we calculate the chemical equilibrium state of the system with the given equilibrium conditions stored in the\n",
    "object `problem1`."
   ]
  },
  {
   "cell_type": "code",
   "execution_count": null,
   "metadata": {},
   "outputs": [],
   "source": [
    "problem1 = EquilibriumInverseProblem(system)\n",
    "problem1.add(\"H2O\", 1, \"kg\")\n",
    "problem1.add(\"NaCl\", 0.1, \"mol\")\n",
    "problem1.fixSpeciesMass(\"Calcite\", 100, \"g\")\n",
    "problem1.fixSpeciesAmount(\"CO2(g)\", 1.0, \"mol\")"
   ]
  },
  {
   "cell_type": "code",
   "execution_count": null,
   "metadata": {},
   "outputs": [],
   "source": [
    "state1 = equilibrate(problem1)"
   ]
  },
  {
   "cell_type": "markdown",
   "metadata": {},
   "source": [
    "To output the properties of the [ChemicalState](https://reaktoro.org/cpp/classReaktoro_1_1ChemicalState.html)\n",
    "obtained by the equilibration, we use method `output()`:"
   ]
  },
  {
   "cell_type": "code",
   "execution_count": null,
   "metadata": {},
   "outputs": [],
   "source": [
    "state1.output('state1.txt')"
   ]
  },
  {
   "cell_type": "markdown",
   "metadata": {},
   "source": [
    "Indeed, in the file with the resulting information about `state1`, in the column *Species* we see 1 mol for the\n",
    "amount of $\\mathrm{CO_2(g)}$, whereas in the column *Phases* for calcite the mass is set to 0.1 kg. Alkalinity\n",
    "in this case becomes equal to 0.0214083 $\\mathrm{[eq/L]}$."
   ]
  },
  {
   "cell_type": "markdown",
   "metadata": {},
   "source": [
    "In the second equilibrium inverse problem, which we consider similar conditions used for the first problem. However,\n",
    "in addition, we fix the total alkalinity of the aqueous solution by the method\n",
    "[alkalinity](https://reaktoro.org/cpp/classReaktoro_1_1EquilibriumInverseProblem.html#a870a693edb5134d8c8d7aff325e98cde),\n",
    "where we provide the actual value of the total alkalinity of the aqueous solution,\n",
    "the units of the total alkalinity (must be convertible to eq/L), and the name of titrant that control the solution\n",
    "alkalinity. Again, the problem is equilibrated by the standard method `equilibrate` and the obtained chemical state\n",
    "is then output for the comparison with the earlier obtained chemical state."
   ]
  },
  {
   "cell_type": "code",
   "execution_count": null,
   "metadata": {},
   "outputs": [],
   "source": [
    "problem2 = EquilibriumInverseProblem(system)\n",
    "problem2.add(\"H2O\", 1, \"kg\")\n",
    "problem2.add(\"NaCl\", 0.1, \"mol\")\n",
    "problem2.fixSpeciesMass(\"Calcite\", 100, \"g\")\n",
    "problem2.fixSpeciesAmount(\"CO2(g)\", 1.0, \"mol\")\n",
    "problem2.alkalinity(25.0, \"meq/L\", \"Cl\")"
   ]
  },
  {
   "cell_type": "code",
   "execution_count": null,
   "metadata": {},
   "outputs": [],
   "source": [
    "state2 = equilibrate(problem2)"
   ]
  },
  {
   "cell_type": "code",
   "execution_count": null,
   "metadata": {},
   "outputs": [],
   "source": [
    "state2.output('state2.txt')"
   ]
  },
  {
   "cell_type": "markdown",
   "metadata": {},
   "source": [
    "Due to the fixed alkalinity, we see 0.0250008 $\\mathrm{[eq/L]}$ in the resulting file. In this case, ph is slightly\n",
    "higher, i.e., pH = 6.12591. Moreover, unlike the earlier simulations, here we obtain negative pE = -6.51608."
   ]
  },
  {
   "cell_type": "markdown",
   "metadata": {},
   "source": [
    "Third inverse problem is initialized analogously with 1 kg of $\\mathrm{H_2O}$ and 0.1 mol of sodium-chloride\n",
    "$\\mathrm{NaCl}$. In the case, however, only the amount of calcite is fixed to 1 mol. In addition, we fix\n",
    "pH of the aqueous solution with two given titrants $\\mathrm{HCl}$ and $\\mathrm{NaOH}$."
   ]
  },
  {
   "cell_type": "code",
   "execution_count": null,
   "metadata": {},
   "outputs": [],
   "source": [
    "problem3 = EquilibriumInverseProblem(system)\n",
    "problem3.add(\"H2O\", 1, \"kg\")\n",
    "problem3.add(\"NaCl\", 0.1, \"mol\")\n",
    "problem3.pH(8.0, \"HCl\", \"NaOH\")\n",
    "problem3.fixSpeciesAmount(\"Calcite\", 1, \"mol\")"
   ]
  },
  {
   "cell_type": "code",
   "execution_count": null,
   "metadata": {},
   "outputs": [],
   "source": [
    "state3 = equilibrate(problem3)"
   ]
  },
  {
   "cell_type": "code",
   "execution_count": null,
   "metadata": {},
   "outputs": [],
   "source": [
    "state3.output('state3.txt')"
   ]
  },
  {
   "cell_type": "markdown",
   "metadata": {},
   "source": [
    "According to the above instructions, the pH is fixed to 8 in `state3.txt`.\n",
    "The obtained ionic strength is less then in the previous case, i.e.,\n",
    "0.103845 $\\mathrm{[molal]}$."
   ]
  },
  {
   "cell_type": "markdown",
   "metadata": {},
   "source": [
    "As it was mention in the introduction of the\n",
    "[EquilibriumInverseProblem](https://reaktoro.org/cpp/classReaktoro_1_1EquilibriumInverseProblem.html) class,\n",
    "it is also possible to fix the volume of a phase at equilibrium in the inverse equilibrium problem. This is done in\n",
    "similar to earlier considered problem for all the phase valumes, i.e., gaseous, aqueous, and calcite, provided\n",
    "the name of titrans. For the gaseous phase, we use $\\mathrm{CO_2}$ for titration, for the aqueous one, 1 kg of water\n",
    "and 0.1 mol of sodium-chloride, and $\\mathrm{CaCO_3}$ for the mineral."
   ]
  },
  {
   "cell_type": "code",
   "execution_count": null,
   "metadata": {},
   "outputs": [],
   "source": [
    "problem4 = EquilibriumInverseProblem(system)\n",
    "problem4.add(\"H2O\", 1, \"kg\")\n",
    "problem4.add(\"NaCl\", 0.1, \"mol\")\n",
    "problem4.fixPhaseVolume(\"Gaseous\", 0.2, \"m3\", \"CO2\")\n",
    "problem4.fixPhaseVolume(\"Aqueous\", 0.3, \"m3\", \"1 kg H2O; 0.1 mol NaCl\")\n",
    "problem4.fixPhaseVolume(\"Calcite\", 0.5, \"m3\", \"CaCO3\")"
   ]
  },
  {
   "cell_type": "code",
   "execution_count": null,
   "metadata": {},
   "outputs": [],
   "source": [
    "state4 = equilibrate(problem4)"
   ]
  },
  {
   "cell_type": "code",
   "execution_count": null,
   "metadata": {},
   "outputs": [],
   "source": [
    "state4.output('state4.txt')"
   ]
  },
  {
   "cell_type": "markdown",
   "metadata": {},
   "source": [
    "Again, in the column *Phases* the volumes of *Aqueous*, *Gaseous*, *Calcite* is fixed to 0.3, 0.2, and 0.5,\n",
    "respectively. As the result, we obtain considerably big amount of an aqueous phase 300.764 kg and calcite 1354.94 kg."
   ]
  }
 ],
 "metadata": {
  "jupytext": {
   "cell_metadata_filter": "-all",
   "formats": "../notebooks//ipynb,py:light",
   "main_language": "python"
  }
 },
 "nbformat": 4,
 "nbformat_minor": 2
}
