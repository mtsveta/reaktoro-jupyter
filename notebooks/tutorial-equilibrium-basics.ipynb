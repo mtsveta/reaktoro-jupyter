{
 "cells": [
  {
   "cell_type": "markdown",
   "metadata": {},
   "source": [
    "# Performing a chemical equilibrium calculation"
   ]
  },
  {
   "cell_type": "markdown",
   "metadata": {},
   "source": [
    "This tutorial demonstrates how to use Reaktoro to perform a chemical equilibrium calculation. We start by importing the `reaktoro` package:"
   ]
  },
  {
   "cell_type": "code",
   "execution_count": null,
   "metadata": {},
   "outputs": [],
   "source": [
    "from reaktoro import *"
   ]
  },
  {
   "cell_type": "markdown",
   "metadata": {},
   "source": [
    "Next, we need a thermodynamic database that enable us to compute thermodynamic properties of species and reactions. For this, we create an object of class [Database](https://reaktoro.org/cpp/classReaktoro_1_1Database.html):"
   ]
  },
  {
   "cell_type": "code",
   "execution_count": null,
   "metadata": {},
   "outputs": [],
   "source": [
    "db = Database(\"supcrt98.xml\")"
   ]
  },
  {
   "cell_type": "markdown",
   "metadata": {},
   "source": [
    "To indicate the phases of interest (as well as their species) that may potentially exist at equilibrium, we create an object of class [ChemicalEditor](https://reaktoro.org/cpp/classReaktoro_1_1ChemicalEditor.html):"
   ]
  },
  {
   "cell_type": "code",
   "execution_count": null,
   "metadata": {},
   "outputs": [],
   "source": [
    "editor = ChemicalEditor(db)"
   ]
  },
  {
   "cell_type": "markdown",
   "metadata": {},
   "source": [
    "We consider an aqueous phase composed of all aqueous species in the database that can be formed with the given chemical elements below:"
   ]
  },
  {
   "cell_type": "code",
   "execution_count": null,
   "metadata": {},
   "outputs": [],
   "source": [
    "editor.addAqueousPhaseWithElements(\"H O Na Cl C Ca Mg Si\")"
   ]
  },
  {
   "cell_type": "markdown",
   "metadata": {},
   "source": [
    "> **Note:** This automatic selection of chemical species for a phase can result in a large number of them. This potentially increases the computing cost of the chemical reaction calculations. If you are using Reaktoro in demanding applications, you might want to manually specify the chemical species of each phase in your chemical system. This can be achieved by providing an explicit list of species names, e.g., `editor.addAqueousPhase(\"H2O(l) H+ OH- CO2(aq)\")`. Note, however, that care is required here to ensure relevant species are not missing. The just given example is a bad one in fact, with important species such as `HCO3-` and `CO3--` missing in the list!."
   ]
  },
  {
   "cell_type": "markdown",
   "metadata": {},
   "source": [
    "We are interested in a gaseous phase containing exactly the following gases (which may or not exist in positive amounts at the end of our equilibrium calculation later!):"
   ]
  },
  {
   "cell_type": "code",
   "execution_count": null,
   "metadata": {},
   "outputs": [],
   "source": [
    "editor.addGaseousPhase(\"H2O(g) CO2(g)\")"
   ]
  },
  {
   "cell_type": "markdown",
   "metadata": {},
   "source": [
    "Finally, we consider some pure minerals that could exist in positive amounts in our equilibrium calculations:"
   ]
  },
  {
   "cell_type": "code",
   "execution_count": null,
   "metadata": {},
   "outputs": [],
   "source": [
    "editor.addMineralPhase(\"Halite\")\n",
    "editor.addMineralPhase(\"Calcite\")\n",
    "editor.addMineralPhase(\"Magnesite\")\n",
    "editor.addMineralPhase(\"Dolomite\")\n",
    "editor.addMineralPhase(\"Quartz\")"
   ]
  },
  {
   "cell_type": "markdown",
   "metadata": {},
   "source": [
    "Next follows an important step, where we create the chemical system with the information so far collected in the [ChemicalEditor](https://reaktoro.org/cpp/classReaktoro_1_1ChemicalEditor.html) object `editor`:"
   ]
  },
  {
   "cell_type": "code",
   "execution_count": null,
   "metadata": {},
   "outputs": [],
   "source": [
    "system = ChemicalSystem(editor)"
   ]
  },
  {
   "cell_type": "markdown",
   "metadata": {},
   "source": [
    "We use class [EquilibriumProblem](https://reaktoro.org/cpp/classReaktoro_1_1EquilibriumProblem.html) to specify the conditions at which our system should be in equilibrium."
   ]
  },
  {
   "cell_type": "code",
   "execution_count": null,
   "metadata": {},
   "outputs": [],
   "source": [
    "problem = EquilibriumProblem(system)"
   ]
  },
  {
   "cell_type": "markdown",
   "metadata": {},
   "source": [
    "In particular, we can specify temperature and pressure as well as the initial condition for substance amounts"
   ]
  },
  {
   "cell_type": "code",
   "execution_count": null,
   "metadata": {},
   "outputs": [],
   "source": [
    "problem.setTemperature(70, \"celsius\")\n",
    "problem.setPressure(100, \"bar\")\n",
    "problem.add(\"H2O\", 1.0, \"kg\")\n",
    "problem.add(\"CO2\", 2.0, \"mol\")\n",
    "problem.add(\"NaCl\", 1.0, \"mol\")\n",
    "problem.add(\"CaCO3\", 10.0, \"g\")\n",
    "problem.add(\"MgCO3\", 5.0, \"g\")\n",
    "problem.add(\"Quartz\", 1.0, \"mol\")"
   ]
  },
  {
   "cell_type": "markdown",
   "metadata": {},
   "source": [
    "> **Note:** The substance names above can either be chemical formulas, such as CaCO3 and CaCl2, as well as names of species that can be found in the database, such as Quartz. Reaktoro will break down the chemical formulas of the substances and calculate the amount of each chemical element in the system. These element amounts are inputs to the equilibrium calculation. In the future, we will only allow species names to be provided, since this is a safer way of preventing unfeasible elemental mass conditions to be imposed (e.g., there are *x* moles of C and *y* moles of O, and distributing these among the species always produce an excess of either C or O)."
   ]
  },
  {
   "cell_type": "markdown",
   "metadata": {},
   "source": [
    "We now perform a fast Gibbs energy minimization calculation to compute the chemical equilibrium state of the system at given conditions stored in `problem`. For this, we use the convenient function `equilibrate`:"
   ]
  },
  {
   "cell_type": "code",
   "execution_count": null,
   "metadata": {},
   "outputs": [],
   "source": [
    "state = equilibrate(problem)"
   ]
  },
  {
   "cell_type": "markdown",
   "metadata": {},
   "source": [
    "## Using class ChemicalState to inspect species amounts"
   ]
  },
  {
   "cell_type": "markdown",
   "metadata": {},
   "source": [
    "The result of the `equilibrate` call before, `state`, is an object of class [ChemicalState](https://reaktoro.org/cpp/classReaktoro_1_1ChemicalState.html). This object contains the temperature, pressure, and amounts of the species at the computed chemical equilibrium state. We can access these properties as follows:"
   ]
  },
  {
   "cell_type": "code",
   "execution_count": null,
   "metadata": {},
   "outputs": [],
   "source": [
    "T = state.temperature()\n",
    "P = state.pressure()\n",
    "n = state.speciesAmounts()"
   ]
  },
  {
   "cell_type": "code",
   "execution_count": null,
   "metadata": {},
   "outputs": [],
   "source": [
    "print(f\"T = {T} K\")\n",
    "print(f\"P = {P} Pa\")\n",
    "print(f\"n = (in mol)\\n{n}\")"
   ]
  },
  {
   "cell_type": "markdown",
   "metadata": {},
   "source": [
    "To print the name of each species and its amount (in mol), we execute the following loop:"
   ]
  },
  {
   "cell_type": "code",
   "execution_count": null,
   "metadata": {},
   "outputs": [],
   "source": [
    "for species in system.species():\n",
    "    name = species.name()\n",
    "    amount = state.speciesAmount(name)\n",
    "    print(f\"{name:>15} = {amount}\")"
   ]
  },
  {
   "cell_type": "markdown",
   "metadata": {},
   "source": [
    "You can also output the chemical state to a file"
   ]
  },
  {
   "cell_type": "code",
   "execution_count": null,
   "metadata": {},
   "outputs": [],
   "source": [
    "state.output(\"results/state.txt\")"
   ]
  },
  {
   "cell_type": "markdown",
   "metadata": {},
   "source": [
    "## Using the class ChemicalProperties to obtain species activities"
   ]
  },
  {
   "cell_type": "markdown",
   "metadata": {},
   "source": [
    "If you require chemical properties of a system that depend on temperature (*T*), pressure (*P*), and composition (*n*), then [ChemicalProperties](https://reaktoro.org/cpp/classReaktoro_1_1ChemicalProperties.html) class is what you need"
   ]
  },
  {
   "cell_type": "code",
   "execution_count": null,
   "metadata": {},
   "outputs": [],
   "source": [
    "properties = ChemicalProperties(system)"
   ]
  },
  {
   "cell_type": "markdown",
   "metadata": {},
   "source": [
    "We can compute the chemical properties of the system at the state of equilibrium we found before:"
   ]
  },
  {
   "cell_type": "code",
   "execution_count": null,
   "metadata": {},
   "outputs": [],
   "source": [
    "properties.update(T, P, n)"
   ]
  },
  {
   "cell_type": "markdown",
   "metadata": {},
   "source": [
    "Alternatively, we could also have done:"
   ]
  },
  {
   "cell_type": "code",
   "execution_count": null,
   "metadata": {},
   "outputs": [],
   "source": [
    "properties = state.properties()"
   ]
  },
  {
   "cell_type": "markdown",
   "metadata": {},
   "source": [
    "> **Note:** The call above creates a new object of [ChemicalProperties](https://reaktoro.org/cpp/classReaktoro_1_1ChemicalProperties.html) each time. If you are using Reaktoro in a simulator that needs the chemical properties of the system at millions/billions of states each time step, prefer to the `update` method of an existing [ChemicalProperties](https://reaktoro.org/cpp/classReaktoro_1_1ChemicalProperties.html) object."
   ]
  },
  {
   "cell_type": "markdown",
   "metadata": {},
   "source": [
    "Once we have computed the chemical properties, we can query for some of them. Below we get the natural log of the species activities:"
   ]
  },
  {
   "cell_type": "code",
   "execution_count": null,
   "metadata": {},
   "outputs": [],
   "source": [
    "lna = properties.lnActivities().val"
   ]
  },
  {
   "cell_type": "markdown",
   "metadata": {},
   "source": [
    "> **Note:** The use of `.ddT`, `.ddP`, and `.ddn`, instead of `.val`, extracts the derivatives of the activities (or any other chemical property) with respect to *T*, *P*, and *n*, respectively."
   ]
  },
  {
   "cell_type": "markdown",
   "metadata": {},
   "source": [
    "To compute the actual activities (not their natural log), and print them one by one, we do"
   ]
  },
  {
   "cell_type": "code",
   "execution_count": null,
   "metadata": {},
   "outputs": [],
   "source": [
    "a = numpy.exp(lna)\n",
    "for i, species in enumerate(system.species()):\n",
    "    print(f\"{species.name():>15} = {a[i]}\")"
   ]
  },
  {
   "cell_type": "markdown",
   "metadata": {},
   "source": [
    "## Calculating the pH of the aqueous solution"
   ]
  },
  {
   "cell_type": "markdown",
   "metadata": {},
   "source": [
    "Let's create a pH function that computes the pH of the aqueous solution given the chemical properties of the system (this will be soon simplified!)"
   ]
  },
  {
   "cell_type": "code",
   "execution_count": null,
   "metadata": {},
   "outputs": [],
   "source": [
    "evaluate_pH = ChemicalProperty.pH(system)\n",
    "pH = evaluate_pH(properties)\n",
    "print(f\"The pH of the aqueous phase is {pH.val}.\")\n",
    "print(f\"Its sensitivity with respect to speciation, ∂(pH)/∂n, is:\")\n",
    "for i, species in enumerate(system.species()):\n",
    "    print(f\"{species.name():>15} = {pH.ddn[i]}\")"
   ]
  }
 ],
 "metadata": {
  "jupytext": {
   "encoding": "# -*- coding: utf-8 -*-",
   "formats": "py:light,../notebooks//ipynb"
  },
  "kernelspec": {
   "display_name": "Python 3",
   "language": "python",
   "name": "python3"
  }
 },
 "nbformat": 4,
 "nbformat_minor": 2
}
