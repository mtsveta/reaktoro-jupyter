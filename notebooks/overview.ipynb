{
 "cells": [
  {
   "cell_type": "markdown",
   "source": [
    "<div>\n",
    "<a href=\"https://reaktoro.org\"><img src=\"images/\">reaktoro-header.svg</a>\n",
    "</div>"
   ],
   "metadata": {
    "collapsed": false
   }
  },
  {
   "cell_type": "markdown",
   "source": [
    "## Tutorial Overview\n",
    "\n",
    "The tutorial is broken into several sections, which are each presented in their own notebook.\n",
    "We group them by the following topics.\n",
    "\n",
    "Tutorials on functionality related to modeling equilibrium problems:\n",
    "\n",
    "1.  [Equilibrium Basics](tutorial-equilibrium-basics.ipynb)\n",
    "2.  [Equilibrium calculation of carbonate species](tutorial-equilibrium-carbonates.ipynb)\n",
    "3.  [Equilibrium calculation with customized activity models](tutorial-equilibriumpath-calcite-hcl.ipynb)\n",
    "4.  [Calculation of equilibrium reaction path](tutorial-equilibrium-co2-custom-activity-models.ipynb)\n",
    "5.  [Equilibrium calculation till full evaporation of the water](tutorial-equilibrium-co2-brine-full-evaporation.ipynb)\n",
    "6.  [Equilibrium calculations using equilibrium solver](tutorial-equilibrium-co2-brine-using-equilibrium-solver.ipynb)\n",
    "7.  [Equilibrium calculation with fixed properties](tutorial-equilibrium-co2-calcite-fixed-properties.ipynb)\n",
    "8.  [Equilibrium calculation with aqueous-gaseous phases and fixed properties](tutorial-equilibrium-fluid-gas-fixed-properties.ipynb)\n",
    "\n",
    "Tutorials on modelling chemical paths of kinetically controlled reactions:\n",
    " \n",
    "1.  [Dissolution of calcite in an acidic HCl-solution](tutorial-kineticpath-calcite-hcl.ipynb)\n",
    "2.  [Dissolution of carbonate minerals in a carbon dioxide saturated brine](tutorial-kineticpath-carbonates-co2.ipynb)\n",
    "\n",
    "Tutorials on using Reaktoro in reactive-transport simulations:\n",
    "\n",
    "1. [Reactive transport of CO2-saturated brine along a porous rock column](tutorial-reactive-transport-calcite-brine.ipynb)\n",
    "2. [Reactive transport modeling along a rock core after injection of the fluid-rock composition](tutorial-reactive-transport-calcite-dolomite.ipynb)\n",
    "3. [Coupling Reaktoro into other reactive transport codes](tutorial-reactive-transport-calcite-dolomite-custom.ipynb)\n",
    "\n",
    "Finally, the last group is tutorials, explaining the functionality of the most important classes in Reaktoro:\n",
    "\n",
    "1.  [Thermodynamic properties](tutorial-thermodynamic-properties.ipynb)\n",
    "2.  [Database class](class-database.ipynb)\n",
    "3.  [ChemicalEditor class](class-chemical-editor.ipynb)\n",
    "4.  [ChemicalSystem class](class-chemical-system.ipynb)"
   ],
   "metadata": {
    "collapsed": false
   }
  }
 ],
 "metadata": {
  "kernelspec": {
   "display_name": "Python 3",
   "language": "python",
   "name": "python3"
  },
  "language_info": {
   "codemirror_mode": {
    "name": "ipython",
    "version": 2
   },
   "file_extension": ".py",
   "mimetype": "text/x-python",
   "name": "python",
   "nbconvert_exporter": "python",
   "pygments_lexer": "ipython2",
   "version": "2.7.6"
  },
  "pycharm": {
   "stem_cell": {
    "cell_type": "raw",
    "source": [],
    "metadata": {
     "collapsed": false
    }
   }
  }
 },
 "nbformat": 4,
 "nbformat_minor": 0
}