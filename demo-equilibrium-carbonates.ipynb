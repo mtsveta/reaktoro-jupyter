{
 "cells": [
  {
   "cell_type": "code",
   "execution_count": null,
   "metadata": {
    "collapsed": true
   },
   "outputs": [],
   "source": [
    "from reaktoro import *\n",
    "\n",
    "editor = ChemicalEditor()\n",
    "editor.addAqueousPhaseWithElements(\"H O C Ca Cl Mg\")\n",
    "editor.addGaseousPhase([\"H2O(g)\", \"CO2(g)\", \"H2(g)\", \"O2(g)\", \"CH4(g)\"])\n",
    "editor.addMineralPhase(\"Calcite\")\n",
    "editor.addMineralPhase(\"Dolomite\")\n",
    "\n",
    "system = ChemicalSystem(editor)\n",
    "\n",
    "problem = EquilibriumProblem(system)\n",
    "problem.add(\"H2O\", 1, \"kg\")\n",
    "problem.add(\"MgCl2\", 0.002, \"mol\")\n",
    "problem.add(\"CaCO3\", 1, \"mol\")\n",
    "\n",
    "state = equilibrate(problem)\n",
    "\n",
    "print(state)"
   ]
  }
 ],
 "metadata": {
  "kernelspec": {
   "display_name": "Python 2",
   "language": "python",
   "name": "python2"
  },
  "language_info": {
   "codemirror_mode": {
    "name": "ipython",
    "version": 2
   },
   "file_extension": ".py",
   "mimetype": "text/x-python",
   "name": "python",
   "nbconvert_exporter": "python",
   "pygments_lexer": "ipython2",
   "version": "2.7.6"
  }
 },
 "nbformat": 4,
 "nbformat_minor": 0
}
